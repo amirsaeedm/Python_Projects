{
 "cells": [
  {
   "cell_type": "code",
   "execution_count": 1,
   "metadata": {},
   "outputs": [],
   "source": [
    "from fpdf import FPDF"
   ]
  },
  {
   "cell_type": "code",
   "execution_count": 2,
   "metadata": {},
   "outputs": [],
   "source": [
    "path = 'D:/Python_Projects/PDF Visualization Report Generate/generate-analytics-report/'\n",
    "name= \"Aslam\"\n",
    "\n",
    "width = 210\n",
    "height = 297   # Size of A4"
   ]
  },
  {
   "cell_type": "code",
   "execution_count": 3,
   "metadata": {},
   "outputs": [
    {
     "data": {
      "text/plain": [
       "''"
      ]
     },
     "execution_count": 3,
     "metadata": {},
     "output_type": "execute_result"
    }
   ],
   "source": [
    "pdf = FPDF()\n",
    "pdf.add_page()\n",
    "pdf.set_font('Arial','B',16)\n",
    "pdf.cell(40,10,f'Hello {name}')\n",
    "pdf.output(path+'test.pdf')"
   ]
  },
  {
   "cell_type": "code",
   "execution_count": 25,
   "metadata": {
    "scrolled": true
   },
   "outputs": [
    {
     "name": "stdout",
     "output_type": "stream",
     "text": [
      "58\n"
     ]
    }
   ],
   "source": [
    "# import modules to Generate png files of bar charts\n",
    "from daily_counts import plot_daily_count_states, plot_daily_count_countries\n",
    "from helper import get_country_names, get_state_names,Mode\n",
    "\n",
    "plot_daily_count_states(['New Hampshire','Massachusetts'], filename = 'test.png')\n",
    "plot_daily_count_countries(['US','Pakistan','India'], filename = 'test2.png')\n",
    "\n",
    "print(len(get_state_names()))"
   ]
  },
  {
   "cell_type": "code",
   "execution_count": 34,
   "metadata": {},
   "outputs": [
    {
     "data": {
      "text/plain": [
       "''"
      ]
     },
     "execution_count": 34,
     "metadata": {},
     "output_type": "execute_result"
    }
   ],
   "source": [
    "pdf = FPDF()\n",
    "pdf.add_page()\n",
    "pdf.set_font('Arial','B',16)\n",
    "pdf.cell(40,10,f'Hello {name}')\n",
    "\n",
    "pdf.image('test.png',x = 5,y = 30,w = width/2-5,h = height-230)\n",
    "pdf.image('test2.png',x = width/2+5,y = 30,w = width/2-5,h = height-230)\n",
    "pdf.image('test3.png',x = 5,y = 100,w = width/2-5,h = height-230)\n",
    "pdf.image('test4.png',x = width/2+5,y = 100,w = width/2-5,h = height-230)\n",
    "\n",
    "pdf.output(path+'test.pdf')"
   ]
  },
  {
   "cell_type": "code",
   "execution_count": 26,
   "metadata": {},
   "outputs": [],
   "source": [
    "# Plotting Cases and Deaths using Mode Class Helper.py\n",
    "states = ['New Hampshire','Massachusetts']\n",
    "plot_daily_count_states(states,filename = 'test.png')\n",
    "plot_daily_count_states(states,mode=Mode.DEATHS, filename = 'test2.png')"
   ]
  },
  {
   "cell_type": "code",
   "execution_count": 29,
   "metadata": {},
   "outputs": [],
   "source": [
    "from time_series_analysis import plot_countries,plot_states\n",
    "\n",
    "plot_states(states, days = 7, filename = 'test3.png')\n",
    "plot_states(states, days = 7, mode = Mode.DEATHS, filename = 'test4.png')"
   ]
  },
  {
   "cell_type": "markdown",
   "metadata": {},
   "source": [
    "# Complete Code below"
   ]
  },
  {
   "cell_type": "code",
   "execution_count": 100,
   "metadata": {},
   "outputs": [],
   "source": [
    "from daily_counts import plot_daily_count_states, plot_daily_count_countries\n",
    "from helper import get_country_names, get_state_names,Mode\n",
    "from time_series_analysis import plot_countries,plot_states\n",
    "from create_case_maps import plot_usa_case_map,plot_global_case_map\n",
    "\n",
    "width = 210\n",
    "height = 297   # Size of A4\n",
    "states = ['New Hampshire','Massachusetts']\n",
    "\n",
    "def create_title(day, pdf):\n",
    "    pdf.set_font('Arial','',24)\n",
    "    pdf.ln(60)          # Add line break of 60\n",
    "    pdf.write(5,f'COVID Analytics Report')\n",
    "    pdf.ln(10)\n",
    "    pdf.set_font('Arial','',16)\n",
    "    pdf.write(4,f'{day}')\n",
    "    pdf.ln(5)\n",
    "\n",
    "def create_report(day,filename = 'test_tutorial.pdf'):\n",
    "    pdf = FPDF()\n",
    "    \n",
    "    #''' First Page '''\n",
    "    pdf.add_page()\n",
    "    pdf.image('resources/letterhead_cropped.png',0,0,width) # Adding a letterhead image\n",
    "    create_title(day,pdf)\n",
    "    \n",
    "    plot_usa_case_map('usa_case.png', day=day)\n",
    "    prev_days = 250\n",
    "    plot_states(states, days = prev_days, filename = 'cases.png', end_date = day)\n",
    "    plot_states(states, days = prev_days, mode = Mode.DEATHS, filename = 'deaths.png', end_date = day)\n",
    "    \n",
    "    pdf.image('usa_case.png',x = 5,y = 90,w = width-20)\n",
    "    pdf.image('cases.png',x = 5,y = 200,w = width/2-10)\n",
    "    pdf.image('deaths.png',x = width/2,y = 200,w = width/2-10)\n",
    "    \n",
    "    \n",
    "    #''' Second Page '''\n",
    "    pdf.add_page()\n",
    "    plot_daily_count_states(states,filename = 'cases_day.png')\n",
    "    plot_daily_count_states(states,mode=Mode.DEATHS, filename = 'deaths_day.png')\n",
    "    pdf.image('cases_day.png',x = 5,y = 20,w = width/2-10)\n",
    "    pdf.image('deaths_day.png',x = width/2,y = 20,w = width/2-10)\n",
    "    \n",
    "    prev_days = 7\n",
    "    plot_states(states, days=prev_days, filename = 'cases2.png',end_date=day)\n",
    "    plot_states(states, days=prev_days, mode=Mode.DEATHS, filename = 'deaths2.png',end_date=day)\n",
    "    pdf.image('cases2.png',5,110,width/2-10)\n",
    "    pdf.image('deaths2.png',width/2,110,width/2-10)\n",
    "    \n",
    "    prev_days = 30\n",
    "    plot_states(states, days=prev_days, filename = 'cases3.png',end_date=day)\n",
    "    plot_states(states, days=prev_days, mode=Mode.DEATHS, filename = 'deaths3.png',end_date=day)\n",
    "    pdf.image('cases3.png',5,200,width/2-10)\n",
    "    pdf.image('deaths3.png',width/2,200,width/2-10)\n",
    "    \n",
    "    \n",
    "    #''' Third Page'''\n",
    "    pdf.add_page()\n",
    "    \n",
    "    plot_global_case_map('global_cases.png',day=day)\n",
    "    \n",
    "    countries = ['US','India','Brazil']\n",
    "    prev_days = 250\n",
    "    plot_countries(countries, days = prev_days, filename = 'cases4.png', end_date=day)\n",
    "    plot_countries(countries, days = prev_days, mode=Mode.DEATHS, filename = 'deaths4.png', end_date=day)\n",
    "    \n",
    "    pdf.image('global_cases.png',x = 5,y = 20,w = width-20)\n",
    "    pdf.image('cases4.png',x = 5,y = 130,w = width/2-10)\n",
    "    pdf.image('deaths4.png',x = width/2,y = 130,w = width/2-10)\n",
    "\n",
    "    \n",
    "    # Output the file\n",
    "    pdf.output(path+filename)"
   ]
  },
  {
   "cell_type": "code",
   "execution_count": 102,
   "metadata": {},
   "outputs": [],
   "source": [
    "import datetime as dt\n",
    "# to get date in mentined format '5/21/20' 'M/D/YY'\n",
    "day = (dt.datetime.today() - dt.timedelta(days=17)).strftime('%m/%d/%y').replace('/0','/').lstrip('0')\n",
    "\n",
    "create_report(day = day, filename = 'test_tutorial.pdf')"
   ]
  },
  {
   "cell_type": "code",
   "execution_count": 61,
   "metadata": {},
   "outputs": [],
   "source": []
  },
  {
   "cell_type": "code",
   "execution_count": null,
   "metadata": {},
   "outputs": [],
   "source": []
  },
  {
   "cell_type": "code",
   "execution_count": null,
   "metadata": {},
   "outputs": [],
   "source": []
  },
  {
   "cell_type": "code",
   "execution_count": null,
   "metadata": {},
   "outputs": [],
   "source": []
  },
  {
   "cell_type": "code",
   "execution_count": null,
   "metadata": {},
   "outputs": [],
   "source": []
  }
 ],
 "metadata": {
  "kernelspec": {
   "display_name": "Python 3",
   "language": "python",
   "name": "python3"
  },
  "language_info": {
   "codemirror_mode": {
    "name": "ipython",
    "version": 3
   },
   "file_extension": ".py",
   "mimetype": "text/x-python",
   "name": "python",
   "nbconvert_exporter": "python",
   "pygments_lexer": "ipython3",
   "version": "3.7.3"
  }
 },
 "nbformat": 4,
 "nbformat_minor": 2
}
