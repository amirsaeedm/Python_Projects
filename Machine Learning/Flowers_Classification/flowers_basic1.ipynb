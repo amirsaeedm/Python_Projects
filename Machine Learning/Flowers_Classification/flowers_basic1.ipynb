{
 "cells": [
  {
   "cell_type": "code",
   "execution_count": 1,
   "source": [
    "import pandas as pd\r\n",
    "import numpy as np\r\n",
    "import tensorflow as tf\r\n",
    "import matplotlib.pyplot as plt\r\n",
    "from keras.preprocessing.image import ImageDataGenerator"
   ],
   "outputs": [],
   "metadata": {}
  },
  {
   "cell_type": "code",
   "execution_count": 2,
   "source": [
    "base_dir = 'flowers3/'\r\n",
    "train_dir = os.path.join(base_dir, 'train')\r\n",
    "validation_dir = os.path.join(base_dir, 'validation')\r\n",
    "test_dir = os.path.join(base_dir, 'test')"
   ],
   "outputs": [],
   "metadata": {}
  },
  {
   "cell_type": "code",
   "execution_count": 3,
   "source": [
    "print(len(os.listdir(train_dir+'/daisy')) + len(os.listdir(test_dir+'/daisy')) + len(os.listdir(validation_dir+'/daisy')))\r\n",
    "print(len(os.listdir(train_dir+'/dandelion')) + len(os.listdir(test_dir+'/dandelion')) + len(os.listdir(validation_dir+'/dandelion')))\r\n",
    "print(len(os.listdir(train_dir+'/rose')) + len(os.listdir(test_dir+'/rose')) + len(os.listdir(validation_dir+'/rose')))\r\n",
    "print(len(os.listdir(train_dir+'/sunflower')) + len(os.listdir(test_dir+'/sunflower')) + len(os.listdir(validation_dir+'/sunflower')))\r\n",
    "print(len(os.listdir(train_dir+'/tulip')) + len(os.listdir(test_dir+'/tulip')) + len(os.listdir(validation_dir+'/tulip')))"
   ],
   "outputs": [
    {
     "output_type": "stream",
     "name": "stdout",
     "text": [
      "769\n",
      "1052\n",
      "784\n",
      "734\n",
      "984\n"
     ]
    }
   ],
   "metadata": {}
  },
  {
   "cell_type": "code",
   "execution_count": 4,
   "source": [
    "img_h = 224\r\n",
    "img_w = 224\r\n",
    "img_col = 3"
   ],
   "outputs": [],
   "metadata": {}
  },
  {
   "cell_type": "code",
   "execution_count": 5,
   "source": [
    "train_datagen = ImageDataGenerator(rescale=1./255, shear_range=0.2, zoom_range=0.2, horizontal_flip=True)\r\n",
    "training_set = train_datagen.flow_from_directory(train_dir, target_size=(img_h, img_w),batch_size=32, class_mode='categorical')\r\n",
    "\r\n",
    "val_datagen = ImageDataGenerator(rescale=1./255)\r\n",
    "val_set = val_datagen.flow_from_directory(validation_dir,target_size=(img_h, img_w), batch_size=32, class_mode='categorical')\r\n",
    "\r\n",
    "test_datagen = ImageDataGenerator(rescale=1./255)\r\n",
    "test_set = test_datagen.flow_from_directory(test_dir,target_size=(img_h, img_w), batch_size=32, class_mode='categorical')"
   ],
   "outputs": [
    {
     "output_type": "stream",
     "name": "stdout",
     "text": [
      "Found 3025 images belonging to 5 classes.\n",
      "Found 649 images belonging to 5 classes.\n",
      "Found 649 images belonging to 5 classes.\n"
     ]
    }
   ],
   "metadata": {}
  },
  {
   "cell_type": "code",
   "execution_count": 7,
   "source": [
    "cnn = tf.keras.models.Sequential()\r\n",
    "cnn.add(tf.keras.layers.Conv2D(filters=32, kernel_size=(5,5), padding='Same', activation='relu', input_shape=[img_h, img_w, img_col]))\r\n",
    "cnn.add(tf.keras.layers.MaxPooling2D(pool_size=(2,2)))\r\n",
    "cnn.add(tf.keras.layers.Conv2D(filters=64, kernel_size=(3,3), padding='Same', activation='relu'))\r\n",
    "cnn.add(tf.keras.layers.MaxPooling2D(pool_size=(2,2), strides=(2,2)))\r\n",
    "cnn.add(tf.keras.layers.Conv2D(filters=96, kernel_size=(3,3), padding='Same', activation='relu'))\r\n",
    "cnn.add(tf.keras.layers.MaxPooling2D(pool_size=(2,2), strides=(2,2)))\r\n",
    "cnn.add(tf.keras.layers.Conv2D(filters=96, kernel_size=(3,3), padding='Same', activation='relu'))\r\n",
    "cnn.add(tf.keras.layers.MaxPooling2D(pool_size=(2,2), strides=(2,2)))\r\n",
    "cnn.add(tf.keras.layers.Flatten())\r\n",
    "cnn.add(tf.keras.layers.Dense(units=512, activation='relu'))\r\n",
    "cnn.add(tf.keras.layers.Dense(units=5, activation='softmax'))"
   ],
   "outputs": [],
   "metadata": {}
  },
  {
   "cell_type": "code",
   "execution_count": 10,
   "source": [
    "cnn.compile(optimizer='adam', loss='categorical_crossentropy', metrics=['accuracy'])"
   ],
   "outputs": [],
   "metadata": {}
  },
  {
   "cell_type": "code",
   "execution_count": 11,
   "source": [
    "history = cnn.fit(x=training_set, validation_data=val_set, epochs=50)"
   ],
   "outputs": [
    {
     "output_type": "stream",
     "name": "stdout",
     "text": [
      "Epoch 1/10\n",
      "95/95 [==============================] - 54s 550ms/step - loss: 1.4003 - accuracy: 0.4060 - val_loss: 1.1420 - val_accuracy: 0.5300\n",
      "Epoch 2/10\n",
      "95/95 [==============================] - 25s 267ms/step - loss: 1.0893 - accuracy: 0.5547 - val_loss: 0.9450 - val_accuracy: 0.6456\n",
      "Epoch 3/10\n",
      "95/95 [==============================] - 25s 266ms/step - loss: 0.9497 - accuracy: 0.6251 - val_loss: 0.9328 - val_accuracy: 0.6672\n",
      "Epoch 4/10\n",
      "95/95 [==============================] - 25s 264ms/step - loss: 0.8954 - accuracy: 0.6565 - val_loss: 0.9095 - val_accuracy: 0.6749\n",
      "Epoch 5/10\n",
      "95/95 [==============================] - 25s 265ms/step - loss: 0.8382 - accuracy: 0.6731 - val_loss: 0.9107 - val_accuracy: 0.7026\n",
      "Epoch 6/10\n",
      "95/95 [==============================] - 25s 264ms/step - loss: 0.7698 - accuracy: 0.6979 - val_loss: 0.8341 - val_accuracy: 0.6934\n",
      "Epoch 7/10\n",
      "95/95 [==============================] - 25s 265ms/step - loss: 0.6877 - accuracy: 0.7458 - val_loss: 0.8109 - val_accuracy: 0.6980\n",
      "Epoch 8/10\n",
      "95/95 [==============================] - 25s 267ms/step - loss: 0.6642 - accuracy: 0.7491 - val_loss: 0.7929 - val_accuracy: 0.7149\n",
      "Epoch 9/10\n",
      "95/95 [==============================] - 25s 267ms/step - loss: 0.5896 - accuracy: 0.7808 - val_loss: 0.8390 - val_accuracy: 0.6888\n",
      "Epoch 10/10\n",
      "95/95 [==============================] - 25s 263ms/step - loss: 0.5500 - accuracy: 0.8043 - val_loss: 0.8219 - val_accuracy: 0.7257\n"
     ]
    }
   ],
   "metadata": {}
  },
  {
   "cell_type": "code",
   "execution_count": 12,
   "source": [
    "plt.plot(history.history['accuracy'], label='Training acc')\r\n",
    "plt.plot(history.history['val_accuracy'], 'bo', label='Validation acc')"
   ],
   "outputs": [
    {
     "output_type": "execute_result",
     "data": {
      "text/plain": [
       "[<matplotlib.lines.Line2D at 0x1b1878f1c88>]"
      ]
     },
     "metadata": {},
     "execution_count": 12
    },
    {
     "output_type": "display_data",
     "data": {
      "text/plain": [
       "<Figure size 432x288 with 1 Axes>"
      ],
      "image/png": "[encoded data removed]"
     },
     "metadata": {
      "needs_background": "light"
     }
    }
   ],
   "metadata": {}
  },
  {
   "cell_type": "code",
   "execution_count": 13,
   "source": [
    "test_loss, test_acc = cnn.evaluate(test_set)"
   ],
   "outputs": [
    {
     "output_type": "stream",
     "name": "stdout",
     "text": [
      "21/21 [==============================] - 3s 134ms/step - loss: 0.8569 - accuracy: 0.6810\n"
     ]
    }
   ],
   "metadata": {}
  },
  {
   "cell_type": "code",
   "execution_count": null,
   "source": [],
   "outputs": [],
   "metadata": {}
  }
 ],
 "metadata": {
  "orig_nbformat": 4,
  "language_info": {
   "name": "python",
   "version": "3.6.13",
   "mimetype": "text/x-python",
   "codemirror_mode": {
    "name": "ipython",
    "version": 3
   },
   "pygments_lexer": "ipython3",
   "nbconvert_exporter": "python",
   "file_extension": ".py"
  },
  "kernelspec": {
   "name": "python3",
   "display_name": "Python 3.6.13 64-bit ('amir-gpu': conda)"
  },
  "interpreter": {
   "hash": "7588a423c7f0585c4390dfc777c20121528f48071b5d2e149a7a63bcae728633"
  }
 },
 "nbformat": 4,
 "nbformat_minor": 2
}