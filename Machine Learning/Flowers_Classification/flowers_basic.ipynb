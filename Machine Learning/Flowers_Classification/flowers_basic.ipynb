{
 "cells": [
  {
   "cell_type": "code",
   "execution_count": 19,
   "source": [
    "import pandas as pd\r\n",
    "import numpy as np\r\n",
    "import tensorflow as tf\r\n",
    "import matplotlib.pyplot as plt\r\n",
    "from keras.preprocessing.image import ImageDataGenerator"
   ],
   "outputs": [],
   "metadata": {}
  },
  {
   "cell_type": "code",
   "execution_count": 2,
   "source": [
    "base_dir = 'flowers3/'\r\n",
    "train_dir = os.path.join(base_dir, 'train')\r\n",
    "validation_dir = os.path.join(base_dir, 'validation')\r\n",
    "test_dir = os.path.join(base_dir, 'test')"
   ],
   "outputs": [],
   "metadata": {}
  },
  {
   "cell_type": "code",
   "execution_count": 3,
   "source": [
    "print(len(os.listdir(train_dir+'/daisy')) + len(os.listdir(test_dir+'/daisy')) + len(os.listdir(validation_dir+'/daisy')))\r\n",
    "print(len(os.listdir(train_dir+'/dandelion')) + len(os.listdir(test_dir+'/dandelion')) + len(os.listdir(validation_dir+'/dandelion')))\r\n",
    "print(len(os.listdir(train_dir+'/rose')) + len(os.listdir(test_dir+'/rose')) + len(os.listdir(validation_dir+'/rose')))\r\n",
    "print(len(os.listdir(train_dir+'/sunflower')) + len(os.listdir(test_dir+'/sunflower')) + len(os.listdir(validation_dir+'/sunflower')))\r\n",
    "print(len(os.listdir(train_dir+'/tulip')) + len(os.listdir(test_dir+'/tulip')) + len(os.listdir(validation_dir+'/tulip')))"
   ],
   "outputs": [
    {
     "output_type": "stream",
     "name": "stdout",
     "text": [
      "769\n",
      "1052\n",
      "784\n",
      "734\n",
      "984\n"
     ]
    }
   ],
   "metadata": {}
  },
  {
   "cell_type": "code",
   "execution_count": 4,
   "source": [
    "img_h = 64\r\n",
    "img_w = 64\r\n",
    "img_col = 3"
   ],
   "outputs": [],
   "metadata": {}
  },
  {
   "cell_type": "code",
   "execution_count": 5,
   "source": [
    "train_datagen = ImageDataGenerator(rescale=1./255, shear_range=0.2, zoom_range=0.2, horizontal_flip=True)\r\n",
    "training_set = train_datagen.flow_from_directory(train_dir, target_size=(img_h, img_w),batch_size=32, class_mode='categorical')\r\n",
    "\r\n",
    "val_datagen = ImageDataGenerator(rescale=1./255)\r\n",
    "val_set = val_datagen.flow_from_directory(validation_dir,target_size=(img_h, img_w), batch_size=32, class_mode='categorical')\r\n",
    "\r\n",
    "test_datagen = ImageDataGenerator(rescale=1./255)\r\n",
    "test_set = test_datagen.flow_from_directory(test_dir,target_size=(img_h, img_w), batch_size=32, class_mode='categorical')"
   ],
   "outputs": [
    {
     "output_type": "stream",
     "name": "stdout",
     "text": [
      "Found 3025 images belonging to 5 classes.\n",
      "Found 649 images belonging to 5 classes.\n",
      "Found 649 images belonging to 5 classes.\n"
     ]
    }
   ],
   "metadata": {}
  },
  {
   "cell_type": "code",
   "execution_count": 6,
   "source": [
    "cnn = tf.keras.models.Sequential()\r\n",
    "cnn.add(tf.keras.layers.Conv2D(filters=64, kernel_size=3, activation='relu', input_shape=[img_h, img_w, img_col]))\r\n",
    "cnn.add(tf.keras.layers.MaxPool2D(pool_size=2, strides=2))\r\n",
    "cnn.add(tf.keras.layers.Conv2D(filters=64, kernel_size=3, activation='relu'))\r\n",
    "cnn.add(tf.keras.layers.MaxPool2D(pool_size=2, strides=2))\r\n",
    "cnn.add(tf.keras.layers.Dropout(0.5))\r\n",
    "cnn.add(tf.keras.layers.Flatten())\r\n",
    "cnn.add(tf.keras.layers.Dense(units=128, activation='relu'))\r\n",
    "cnn.add(tf.keras.layers.Dense(units=5, activation='softmax'))"
   ],
   "outputs": [],
   "metadata": {}
  },
  {
   "cell_type": "code",
   "execution_count": 9,
   "source": [
    "cnn.compile(optimizer='rmsprop', loss='categorical_crossentropy', metrics=['accuracy'])"
   ],
   "outputs": [],
   "metadata": {}
  },
  {
   "cell_type": "code",
   "execution_count": 10,
   "source": [
    "model = cnn.fit(x=training_set, validation_data=val_set, epochs=100)"
   ],
   "outputs": [
    {
     "output_type": "stream",
     "name": "stdout",
     "text": [
      "Epoch 1/100\n",
      "95/95 [==============================] - 20s 165ms/step - loss: 1.4230 - accuracy: 0.3987 - val_loss: 1.1513 - val_accuracy: 0.5624\n",
      "Epoch 2/100\n",
      "95/95 [==============================] - 6s 58ms/step - loss: 1.1654 - accuracy: 0.5332 - val_loss: 1.0055 - val_accuracy: 0.5763\n",
      "Epoch 3/100\n",
      "95/95 [==============================] - 6s 59ms/step - loss: 1.0515 - accuracy: 0.5950 - val_loss: 0.9508 - val_accuracy: 0.6271\n",
      "Epoch 4/100\n",
      "95/95 [==============================] - 6s 59ms/step - loss: 0.9827 - accuracy: 0.6212 - val_loss: 1.0683 - val_accuracy: 0.6055\n",
      "Epoch 5/100\n",
      "95/95 [==============================] - 6s 59ms/step - loss: 0.9244 - accuracy: 0.6420 - val_loss: 0.8341 - val_accuracy: 0.6810\n",
      "Epoch 6/100\n",
      "95/95 [==============================] - 6s 58ms/step - loss: 0.8616 - accuracy: 0.6734 - val_loss: 0.8290 - val_accuracy: 0.6764\n",
      "Epoch 7/100\n",
      "95/95 [==============================] - 6s 58ms/step - loss: 0.8292 - accuracy: 0.6856 - val_loss: 0.8392 - val_accuracy: 0.6888\n",
      "Epoch 8/100\n",
      "95/95 [==============================] - 6s 58ms/step - loss: 0.8120 - accuracy: 0.6936 - val_loss: 0.8007 - val_accuracy: 0.6857\n",
      "Epoch 9/100\n",
      "95/95 [==============================] - 6s 59ms/step - loss: 0.7560 - accuracy: 0.7068 - val_loss: 0.7859 - val_accuracy: 0.7057\n",
      "Epoch 10/100\n",
      "95/95 [==============================] - 6s 58ms/step - loss: 0.7462 - accuracy: 0.7154 - val_loss: 0.8613 - val_accuracy: 0.6980\n",
      "Epoch 11/100\n",
      "95/95 [==============================] - 6s 59ms/step - loss: 0.7148 - accuracy: 0.7293 - val_loss: 0.7670 - val_accuracy: 0.7211\n",
      "Epoch 12/100\n",
      "95/95 [==============================] - 6s 59ms/step - loss: 0.7028 - accuracy: 0.7355 - val_loss: 0.7523 - val_accuracy: 0.7396\n",
      "Epoch 13/100\n",
      "95/95 [==============================] - 6s 59ms/step - loss: 0.6612 - accuracy: 0.7504 - val_loss: 1.1734 - val_accuracy: 0.5408\n",
      "Epoch 14/100\n",
      "95/95 [==============================] - 6s 59ms/step - loss: 0.6471 - accuracy: 0.7524 - val_loss: 0.8822 - val_accuracy: 0.6949\n",
      "Epoch 15/100\n",
      "95/95 [==============================] - 6s 59ms/step - loss: 0.6398 - accuracy: 0.7587 - val_loss: 0.8409 - val_accuracy: 0.6949\n",
      "Epoch 16/100\n",
      "95/95 [==============================] - 6s 58ms/step - loss: 0.6200 - accuracy: 0.7617 - val_loss: 0.8433 - val_accuracy: 0.6995\n",
      "Epoch 17/100\n",
      "95/95 [==============================] - 6s 58ms/step - loss: 0.5958 - accuracy: 0.7812 - val_loss: 0.7263 - val_accuracy: 0.7442\n",
      "Epoch 18/100\n",
      "95/95 [==============================] - 6s 58ms/step - loss: 0.5780 - accuracy: 0.7831 - val_loss: 0.7728 - val_accuracy: 0.7119\n",
      "Epoch 19/100\n",
      "95/95 [==============================] - 6s 58ms/step - loss: 0.5513 - accuracy: 0.7898 - val_loss: 0.8896 - val_accuracy: 0.6995\n",
      "Epoch 20/100\n",
      "95/95 [==============================] - 6s 58ms/step - loss: 0.5343 - accuracy: 0.7967 - val_loss: 0.7065 - val_accuracy: 0.7427\n",
      "Epoch 21/100\n",
      "95/95 [==============================] - 6s 58ms/step - loss: 0.5380 - accuracy: 0.7907 - val_loss: 0.7141 - val_accuracy: 0.7504\n",
      "Epoch 22/100\n",
      "95/95 [==============================] - 6s 58ms/step - loss: 0.5262 - accuracy: 0.8096 - val_loss: 0.8192 - val_accuracy: 0.7334\n",
      "Epoch 23/100\n",
      "95/95 [==============================] - 6s 59ms/step - loss: 0.4920 - accuracy: 0.8175 - val_loss: 0.7096 - val_accuracy: 0.7488\n",
      "Epoch 24/100\n",
      "95/95 [==============================] - 6s 59ms/step - loss: 0.4812 - accuracy: 0.8255 - val_loss: 0.7552 - val_accuracy: 0.7473\n",
      "Epoch 25/100\n",
      "95/95 [==============================] - 6s 59ms/step - loss: 0.4782 - accuracy: 0.8202 - val_loss: 0.8647 - val_accuracy: 0.7042\n",
      "Epoch 26/100\n",
      "95/95 [==============================] - 6s 60ms/step - loss: 0.4516 - accuracy: 0.8344 - val_loss: 0.8644 - val_accuracy: 0.7180\n",
      "Epoch 27/100\n",
      "95/95 [==============================] - 6s 59ms/step - loss: 0.4440 - accuracy: 0.8294 - val_loss: 0.8939 - val_accuracy: 0.7227\n",
      "Epoch 28/100\n",
      "95/95 [==============================] - 6s 59ms/step - loss: 0.4369 - accuracy: 0.8460 - val_loss: 0.8102 - val_accuracy: 0.7365\n",
      "Epoch 29/100\n",
      "95/95 [==============================] - 6s 59ms/step - loss: 0.4191 - accuracy: 0.8410 - val_loss: 0.7801 - val_accuracy: 0.7396\n",
      "Epoch 30/100\n",
      "95/95 [==============================] - 6s 59ms/step - loss: 0.3975 - accuracy: 0.8562 - val_loss: 0.7902 - val_accuracy: 0.7257\n",
      "Epoch 31/100\n",
      "95/95 [==============================] - 6s 59ms/step - loss: 0.3979 - accuracy: 0.8615 - val_loss: 0.7969 - val_accuracy: 0.7473\n",
      "Epoch 32/100\n",
      "95/95 [==============================] - 6s 58ms/step - loss: 0.3919 - accuracy: 0.8552 - val_loss: 0.8614 - val_accuracy: 0.7504\n",
      "Epoch 33/100\n",
      "95/95 [==============================] - 5s 58ms/step - loss: 0.3715 - accuracy: 0.8621 - val_loss: 0.7839 - val_accuracy: 0.7596\n",
      "Epoch 34/100\n",
      "95/95 [==============================] - 5s 58ms/step - loss: 0.3755 - accuracy: 0.8592 - val_loss: 1.1585 - val_accuracy: 0.6533\n",
      "Epoch 35/100\n",
      "95/95 [==============================] - 5s 57ms/step - loss: 0.3615 - accuracy: 0.8674 - val_loss: 0.8987 - val_accuracy: 0.7273\n",
      "Epoch 36/100\n",
      "95/95 [==============================] - 5s 58ms/step - loss: 0.3544 - accuracy: 0.8664 - val_loss: 0.8347 - val_accuracy: 0.7458\n",
      "Epoch 37/100\n",
      "95/95 [==============================] - 5s 57ms/step - loss: 0.3373 - accuracy: 0.8846 - val_loss: 1.0534 - val_accuracy: 0.7304\n",
      "Epoch 38/100\n",
      "95/95 [==============================] - 6s 58ms/step - loss: 0.3494 - accuracy: 0.8724 - val_loss: 0.8500 - val_accuracy: 0.7242\n",
      "Epoch 39/100\n",
      "95/95 [==============================] - 5s 58ms/step - loss: 0.3254 - accuracy: 0.8820 - val_loss: 0.8809 - val_accuracy: 0.7242\n",
      "Epoch 40/100\n",
      "95/95 [==============================] - 6s 58ms/step - loss: 0.3211 - accuracy: 0.8876 - val_loss: 0.8905 - val_accuracy: 0.7319\n",
      "Epoch 41/100\n",
      "95/95 [==============================] - 5s 58ms/step - loss: 0.3230 - accuracy: 0.8836 - val_loss: 0.8711 - val_accuracy: 0.7504\n",
      "Epoch 42/100\n",
      "95/95 [==============================] - 6s 58ms/step - loss: 0.3047 - accuracy: 0.8916 - val_loss: 0.9523 - val_accuracy: 0.7319\n",
      "Epoch 43/100\n",
      "95/95 [==============================] - 6s 58ms/step - loss: 0.3048 - accuracy: 0.8889 - val_loss: 0.9306 - val_accuracy: 0.7473\n",
      "Epoch 44/100\n",
      "95/95 [==============================] - 5s 58ms/step - loss: 0.2762 - accuracy: 0.9018 - val_loss: 1.1855 - val_accuracy: 0.7042\n",
      "Epoch 45/100\n",
      "95/95 [==============================] - 5s 58ms/step - loss: 0.2860 - accuracy: 0.9002 - val_loss: 1.4195 - val_accuracy: 0.7149\n",
      "Epoch 46/100\n",
      "95/95 [==============================] - 5s 58ms/step - loss: 0.2751 - accuracy: 0.9048 - val_loss: 0.9371 - val_accuracy: 0.7334\n",
      "Epoch 47/100\n",
      "95/95 [==============================] - 6s 58ms/step - loss: 0.2729 - accuracy: 0.9005 - val_loss: 1.0605 - val_accuracy: 0.7242\n",
      "Epoch 48/100\n",
      "95/95 [==============================] - 6s 58ms/step - loss: 0.2603 - accuracy: 0.9104 - val_loss: 0.9454 - val_accuracy: 0.7596\n",
      "Epoch 49/100\n",
      "95/95 [==============================] - 6s 58ms/step - loss: 0.2690 - accuracy: 0.9035 - val_loss: 1.1057 - val_accuracy: 0.7427\n",
      "Epoch 50/100\n",
      "95/95 [==============================] - 6s 58ms/step - loss: 0.2587 - accuracy: 0.9048 - val_loss: 0.9751 - val_accuracy: 0.7427\n",
      "Epoch 51/100\n",
      "95/95 [==============================] - 6s 58ms/step - loss: 0.2411 - accuracy: 0.9213 - val_loss: 0.9905 - val_accuracy: 0.7288\n",
      "Epoch 52/100\n",
      "95/95 [==============================] - 6s 58ms/step - loss: 0.2506 - accuracy: 0.9140 - val_loss: 1.0273 - val_accuracy: 0.7257\n",
      "Epoch 53/100\n",
      "95/95 [==============================] - 5s 58ms/step - loss: 0.2615 - accuracy: 0.9061 - val_loss: 1.0462 - val_accuracy: 0.7134\n",
      "Epoch 54/100\n",
      "95/95 [==============================] - 6s 58ms/step - loss: 0.2606 - accuracy: 0.9157 - val_loss: 1.0427 - val_accuracy: 0.7411\n",
      "Epoch 55/100\n",
      "95/95 [==============================] - 5s 58ms/step - loss: 0.2358 - accuracy: 0.9213 - val_loss: 1.1362 - val_accuracy: 0.7211\n",
      "Epoch 56/100\n",
      "95/95 [==============================] - 5s 58ms/step - loss: 0.2341 - accuracy: 0.9127 - val_loss: 0.9443 - val_accuracy: 0.7458\n",
      "Epoch 57/100\n",
      "95/95 [==============================] - 6s 58ms/step - loss: 0.2224 - accuracy: 0.9240 - val_loss: 1.0040 - val_accuracy: 0.7504\n",
      "Epoch 58/100\n",
      "95/95 [==============================] - 5s 58ms/step - loss: 0.2187 - accuracy: 0.9250 - val_loss: 0.9968 - val_accuracy: 0.7396\n",
      "Epoch 59/100\n",
      "95/95 [==============================] - 5s 57ms/step - loss: 0.2207 - accuracy: 0.9233 - val_loss: 1.1797 - val_accuracy: 0.7411\n",
      "Epoch 60/100\n",
      "95/95 [==============================] - 6s 58ms/step - loss: 0.2264 - accuracy: 0.9243 - val_loss: 1.1346 - val_accuracy: 0.7334\n",
      "Epoch 61/100\n",
      "95/95 [==============================] - 5s 58ms/step - loss: 0.2137 - accuracy: 0.9250 - val_loss: 1.0849 - val_accuracy: 0.7334\n",
      "Epoch 62/100\n",
      "95/95 [==============================] - 5s 58ms/step - loss: 0.1974 - accuracy: 0.9342 - val_loss: 1.1963 - val_accuracy: 0.7488\n",
      "Epoch 63/100\n",
      "95/95 [==============================] - 6s 58ms/step - loss: 0.2103 - accuracy: 0.9293 - val_loss: 1.0871 - val_accuracy: 0.7411\n",
      "Epoch 64/100\n",
      "95/95 [==============================] - 5s 58ms/step - loss: 0.1855 - accuracy: 0.9345 - val_loss: 1.1923 - val_accuracy: 0.7180\n",
      "Epoch 65/100\n",
      "95/95 [==============================] - 5s 58ms/step - loss: 0.2221 - accuracy: 0.9273 - val_loss: 1.4981 - val_accuracy: 0.7119\n",
      "Epoch 66/100\n",
      "95/95 [==============================] - 6s 58ms/step - loss: 0.2076 - accuracy: 0.9289 - val_loss: 1.2558 - val_accuracy: 0.7196\n",
      "Epoch 67/100\n",
      "95/95 [==============================] - 6s 58ms/step - loss: 0.2009 - accuracy: 0.9319 - val_loss: 1.2935 - val_accuracy: 0.7381\n",
      "Epoch 68/100\n",
      "95/95 [==============================] - 6s 58ms/step - loss: 0.2079 - accuracy: 0.9339 - val_loss: 1.2146 - val_accuracy: 0.7350\n",
      "Epoch 69/100\n",
      "95/95 [==============================] - 5s 58ms/step - loss: 0.2021 - accuracy: 0.9332 - val_loss: 1.0397 - val_accuracy: 0.7288\n",
      "Epoch 70/100\n",
      "95/95 [==============================] - 6s 59ms/step - loss: 0.1975 - accuracy: 0.9352 - val_loss: 1.1575 - val_accuracy: 0.7273\n",
      "Epoch 71/100\n",
      "95/95 [==============================] - 5s 58ms/step - loss: 0.1929 - accuracy: 0.9388 - val_loss: 1.1462 - val_accuracy: 0.7396\n",
      "Epoch 72/100\n",
      "95/95 [==============================] - 5s 57ms/step - loss: 0.2123 - accuracy: 0.9319 - val_loss: 1.0574 - val_accuracy: 0.7427\n",
      "Epoch 73/100\n",
      "95/95 [==============================] - 6s 58ms/step - loss: 0.1924 - accuracy: 0.9332 - val_loss: 1.3976 - val_accuracy: 0.7350\n",
      "Epoch 74/100\n",
      "95/95 [==============================] - 6s 58ms/step - loss: 0.1824 - accuracy: 0.9365 - val_loss: 1.4080 - val_accuracy: 0.7288\n",
      "Epoch 75/100\n",
      "95/95 [==============================] - 5s 58ms/step - loss: 0.1776 - accuracy: 0.9435 - val_loss: 1.3595 - val_accuracy: 0.7088\n",
      "Epoch 76/100\n",
      "95/95 [==============================] - 5s 58ms/step - loss: 0.1746 - accuracy: 0.9388 - val_loss: 1.1665 - val_accuracy: 0.7427\n",
      "Epoch 77/100\n",
      "95/95 [==============================] - 5s 58ms/step - loss: 0.1771 - accuracy: 0.9402 - val_loss: 1.3199 - val_accuracy: 0.7381\n",
      "Epoch 78/100\n",
      "95/95 [==============================] - 5s 58ms/step - loss: 0.1890 - accuracy: 0.9369 - val_loss: 1.0939 - val_accuracy: 0.7596\n",
      "Epoch 79/100\n",
      "95/95 [==============================] - 6s 58ms/step - loss: 0.1823 - accuracy: 0.9461 - val_loss: 1.0841 - val_accuracy: 0.7565\n",
      "Epoch 80/100\n",
      "95/95 [==============================] - 6s 58ms/step - loss: 0.1603 - accuracy: 0.9484 - val_loss: 1.3231 - val_accuracy: 0.7257\n",
      "Epoch 81/100\n",
      "95/95 [==============================] - 5s 58ms/step - loss: 0.1884 - accuracy: 0.9412 - val_loss: 1.0978 - val_accuracy: 0.7581\n",
      "Epoch 82/100\n",
      "95/95 [==============================] - 6s 59ms/step - loss: 0.1931 - accuracy: 0.9402 - val_loss: 1.3154 - val_accuracy: 0.7381\n",
      "Epoch 83/100\n",
      "95/95 [==============================] - 6s 59ms/step - loss: 0.1684 - accuracy: 0.9438 - val_loss: 1.1959 - val_accuracy: 0.7442\n",
      "Epoch 84/100\n",
      "95/95 [==============================] - 6s 59ms/step - loss: 0.1784 - accuracy: 0.9375 - val_loss: 1.2919 - val_accuracy: 0.7458\n",
      "Epoch 85/100\n",
      "95/95 [==============================] - 6s 58ms/step - loss: 0.1611 - accuracy: 0.9507 - val_loss: 1.2882 - val_accuracy: 0.7442\n",
      "Epoch 86/100\n",
      "95/95 [==============================] - 6s 58ms/step - loss: 0.1584 - accuracy: 0.9478 - val_loss: 1.4795 - val_accuracy: 0.7319\n",
      "Epoch 87/100\n",
      "95/95 [==============================] - 6s 59ms/step - loss: 0.1888 - accuracy: 0.9362 - val_loss: 1.3533 - val_accuracy: 0.7149\n",
      "Epoch 88/100\n",
      "95/95 [==============================] - 6s 59ms/step - loss: 0.1835 - accuracy: 0.9438 - val_loss: 1.3816 - val_accuracy: 0.7365\n",
      "Epoch 89/100\n",
      "95/95 [==============================] - 6s 58ms/step - loss: 0.1637 - accuracy: 0.9478 - val_loss: 1.3681 - val_accuracy: 0.7273\n",
      "Epoch 90/100\n",
      "95/95 [==============================] - 6s 58ms/step - loss: 0.1503 - accuracy: 0.9577 - val_loss: 1.2450 - val_accuracy: 0.7473\n",
      "Epoch 91/100\n",
      "95/95 [==============================] - 6s 58ms/step - loss: 0.1446 - accuracy: 0.9583 - val_loss: 1.2394 - val_accuracy: 0.7319\n",
      "Epoch 92/100\n",
      "95/95 [==============================] - 6s 58ms/step - loss: 0.1646 - accuracy: 0.9431 - val_loss: 1.2053 - val_accuracy: 0.7381\n",
      "Epoch 93/100\n",
      "95/95 [==============================] - 5s 58ms/step - loss: 0.1607 - accuracy: 0.9514 - val_loss: 1.0960 - val_accuracy: 0.7627\n",
      "Epoch 94/100\n",
      "95/95 [==============================] - 5s 58ms/step - loss: 0.1683 - accuracy: 0.9511 - val_loss: 1.1426 - val_accuracy: 0.7396\n",
      "Epoch 95/100\n",
      "95/95 [==============================] - 6s 58ms/step - loss: 0.1630 - accuracy: 0.9488 - val_loss: 1.2219 - val_accuracy: 0.7519\n",
      "Epoch 96/100\n",
      "95/95 [==============================] - 6s 58ms/step - loss: 0.1624 - accuracy: 0.9517 - val_loss: 1.4222 - val_accuracy: 0.7227\n",
      "Epoch 97/100\n",
      "95/95 [==============================] - 6s 58ms/step - loss: 0.1570 - accuracy: 0.9514 - val_loss: 1.4005 - val_accuracy: 0.7411\n",
      "Epoch 98/100\n",
      "95/95 [==============================] - 6s 58ms/step - loss: 0.1780 - accuracy: 0.9491 - val_loss: 1.4218 - val_accuracy: 0.7257\n",
      "Epoch 99/100\n",
      "95/95 [==============================] - 6s 58ms/step - loss: 0.1647 - accuracy: 0.9517 - val_loss: 1.1800 - val_accuracy: 0.7381\n",
      "Epoch 100/100\n",
      "95/95 [==============================] - 6s 58ms/step - loss: 0.1530 - accuracy: 0.9517 - val_loss: 1.8740 - val_accuracy: 0.7165\n"
     ]
    }
   ],
   "metadata": {}
  },
  {
   "cell_type": "code",
   "execution_count": 23,
   "source": [
    "plt.plot(model.history['accuracy'], label='Training acc')\r\n",
    "plt.plot(model.history['val_accuracy'], 'bo', label='Validation acc')\r\n"
   ],
   "outputs": [
    {
     "output_type": "execute_result",
     "data": {
      "text/plain": [
       "[<matplotlib.lines.Line2D at 0x22f6c34f7f0>]"
      ]
     },
     "metadata": {},
     "execution_count": 23
    },
    {
     "output_type": "display_data",
     "data": {
      "text/plain": [
       "<Figure size 432x288 with 1 Axes>"
      ],
      "image/png": "[encoded data removed]"
     },
     "metadata": {
      "needs_background": "light"
     }
    }
   ],
   "metadata": {}
  },
  {
   "cell_type": "code",
   "execution_count": 24,
   "source": [
    "training_set.class_indices"
   ],
   "outputs": [
    {
     "output_type": "execute_result",
     "data": {
      "text/plain": [
       "{'daisy': 0, 'dandelion': 1, 'rose': 2, 'sunflower': 3, 'tulip': 4}"
      ]
     },
     "metadata": {},
     "execution_count": 24
    }
   ],
   "metadata": {}
  },
  {
   "cell_type": "code",
   "execution_count": 26,
   "source": [
    "test_loss, test_acc = cnn.evaluate(test_set)"
   ],
   "outputs": [
    {
     "output_type": "stream",
     "name": "stdout",
     "text": [
      "21/21 [==============================] - 3s 127ms/step - loss: 2.3333 - accuracy: 0.6903\n"
     ]
    }
   ],
   "metadata": {}
  },
  {
   "cell_type": "code",
   "execution_count": 27,
   "source": [
    "print(test_acc)"
   ],
   "outputs": [
    {
     "output_type": "stream",
     "name": "stdout",
     "text": [
      "0.6902927756309509\n"
     ]
    }
   ],
   "metadata": {}
  },
  {
   "cell_type": "code",
   "execution_count": null,
   "source": [],
   "outputs": [],
   "metadata": {}
  }
 ],
 "metadata": {
  "orig_nbformat": 4,
  "language_info": {
   "name": "python",
   "version": "3.6.13",
   "mimetype": "text/x-python",
   "codemirror_mode": {
    "name": "ipython",
    "version": 3
   },
   "pygments_lexer": "ipython3",
   "nbconvert_exporter": "python",
   "file_extension": ".py"
  },
  "kernelspec": {
   "name": "python3",
   "display_name": "Python 3.6.13 64-bit ('amir-gpu': conda)"
  },
  "interpreter": {
   "hash": "7588a423c7f0585c4390dfc777c20121528f48071b5d2e149a7a63bcae728633"
  }
 },
 "nbformat": 4,
 "nbformat_minor": 2
}