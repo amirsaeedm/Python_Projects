{
 "cells": [
  {
   "cell_type": "code",
   "execution_count": 1,
   "id": "impressed-century",
   "metadata": {},
   "outputs": [],
   "source": [
    "from keras.preprocessing.image import load_img"
   ]
  },
  {
   "cell_type": "code",
   "execution_count": 3,
   "id": "instant-spelling",
   "metadata": {},
   "outputs": [
    {
     "name": "stdout",
     "output_type": "stream",
     "text": [
      "<class 'PIL.JpegImagePlugin.JpegImageFile'>\n",
      "JPEG\n",
      "RGB\n",
      "(640, 427)\n"
     ]
    }
   ],
   "source": [
    "# load the image\n",
    "img = load_img('bondi_beach.jpg')\n",
    "# report details about the image\n",
    "print(type(img))\n",
    "print(img.format)\n",
    "print(img.mode)\n",
    "print(img.size)\n",
    "# show the image in windows default photo application \n",
    "img.show() "
   ]
  },
  {
   "cell_type": "markdown",
   "id": "developing-material",
   "metadata": {},
   "source": [
    "**We can confirm that the image was loaded as a PIL image in JPEG format with RGB channels and the size of 640 by 427 pixels**"
   ]
  },
  {
   "cell_type": "markdown",
   "id": "greenhouse-addition",
   "metadata": {},
   "source": [
    "# Convert Image to array"
   ]
  },
  {
   "cell_type": "code",
   "execution_count": 4,
   "id": "ideal-spine",
   "metadata": {},
   "outputs": [],
   "source": [
    "from keras.preprocessing.image import load_img\n",
    "from keras.preprocessing.image import img_to_array\n",
    "from keras.preprocessing.image import array_to_img"
   ]
  },
  {
   "cell_type": "code",
   "execution_count": 5,
   "id": "female-fundamentals",
   "metadata": {},
   "outputs": [],
   "source": [
    "img = load_img('bondi_beach.jpg')"
   ]
  },
  {
   "cell_type": "code",
   "execution_count": 6,
   "id": "english-greene",
   "metadata": {},
   "outputs": [],
   "source": [
    "img_array = img_to_array(img)"
   ]
  },
  {
   "cell_type": "code",
   "execution_count": 8,
   "id": "selective-rebecca",
   "metadata": {},
   "outputs": [
    {
     "name": "stdout",
     "output_type": "stream",
     "text": [
      "<class 'numpy.ndarray'>\n",
      "(427, 640, 3)\n"
     ]
    }
   ],
   "source": [
    "print(type(img_array))\n",
    "print(img_array.shape)"
   ]
  },
  {
   "cell_type": "markdown",
   "id": "brief-northern",
   "metadata": {},
   "source": [
    "# Convert Array to Image"
   ]
  },
  {
   "cell_type": "code",
   "execution_count": 9,
   "id": "better-frequency",
   "metadata": {},
   "outputs": [],
   "source": [
    "img_pil = array_to_img(img_array)"
   ]
  },
  {
   "cell_type": "code",
   "execution_count": 11,
   "id": "found-thomas",
   "metadata": {},
   "outputs": [
    {
     "name": "stdout",
     "output_type": "stream",
     "text": [
      "<class 'PIL.Image.Image'>\n"
     ]
    }
   ],
   "source": [
    "print(type(img_pil))\n",
    "img_pil.show() "
   ]
  },
  {
   "cell_type": "markdown",
   "id": "meaningful-leonard",
   "metadata": {},
   "source": [
    "# Save Image"
   ]
  },
  {
   "cell_type": "code",
   "execution_count": 12,
   "id": "confident-filename",
   "metadata": {},
   "outputs": [],
   "source": [
    "from keras.preprocessing.image import load_img\n",
    "from keras.preprocessing.image import save_img\n",
    "from keras.preprocessing.image import img_to_array"
   ]
  },
  {
   "cell_type": "code",
   "execution_count": 16,
   "id": "dental-closing",
   "metadata": {},
   "outputs": [],
   "source": [
    "# Import image as Greyscale\n",
    "img = load_img('bondi_beach.jpg', grayscale=True)"
   ]
  },
  {
   "cell_type": "code",
   "execution_count": 17,
   "id": "studied-nashville",
   "metadata": {},
   "outputs": [],
   "source": [
    "img_array = img_to_array(img)"
   ]
  },
  {
   "cell_type": "code",
   "execution_count": 18,
   "id": "narrative-civilian",
   "metadata": {},
   "outputs": [
    {
     "name": "stdout",
     "output_type": "stream",
     "text": [
      "<class 'numpy.ndarray'>\n",
      "(427, 640, 1)\n"
     ]
    }
   ],
   "source": [
    "print(type(img_array))\n",
    "print(img_array.shape)"
   ]
  },
  {
   "cell_type": "code",
   "execution_count": 19,
   "id": "administrative-stability",
   "metadata": {},
   "outputs": [],
   "source": [
    "save_img('bondi_beach_grayscale.jpg', img_array)"
   ]
  },
  {
   "cell_type": "code",
   "execution_count": null,
   "id": "sonic-williams",
   "metadata": {},
   "outputs": [],
   "source": []
  }
 ],
 "metadata": {
  "kernelspec": {
   "display_name": "Python [conda env:Amir_env] *",
   "language": "python",
   "name": "conda-env-Amir_env-py"
  },
  "language_info": {
   "codemirror_mode": {
    "name": "ipython",
    "version": 3
   },
   "file_extension": ".py",
   "mimetype": "text/x-python",
   "name": "python",
   "nbconvert_exporter": "python",
   "pygments_lexer": "ipython3",
   "version": "3.8.5"
  }
 },
 "nbformat": 4,
 "nbformat_minor": 5
}
