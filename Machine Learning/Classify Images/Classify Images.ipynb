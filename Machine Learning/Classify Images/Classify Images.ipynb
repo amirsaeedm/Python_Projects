{
 "cells": [
  {
   "cell_type": "code",
   "execution_count": 1,
   "id": "collected-sheriff",
   "metadata": {},
   "outputs": [],
   "source": [
    "import tensorflow as tf\n",
    "from tensorflow import keras\n",
    "from keras.models import Sequential\n",
    "from keras.layers import Dense, Flatten, Conv2D, MaxPooling2D, Dropout\n",
    "from tensorflow.keras import layers\n",
    "from keras.utils import to_categorical\n",
    "import numpy as np\n",
    "import matplotlib.pyplot as plt\n",
    "plt.style.use('fivethirtyeight')"
   ]
  },
  {
   "cell_type": "markdown",
   "id": "subjective-multimedia",
   "metadata": {},
   "source": [
    "# Import DataSet"
   ]
  },
  {
   "cell_type": "code",
   "execution_count": 2,
   "id": "subtle-complaint",
   "metadata": {},
   "outputs": [],
   "source": [
    "from keras.datasets import cifar10"
   ]
  },
  {
   "cell_type": "code",
   "execution_count": 3,
   "id": "equivalent-stress",
   "metadata": {},
   "outputs": [],
   "source": [
    "(x_train, y_train) , (x_test, y_test) = cifar10.load_data()"
   ]
  },
  {
   "cell_type": "code",
   "execution_count": 4,
   "id": "local-introduction",
   "metadata": {},
   "outputs": [
    {
     "name": "stdout",
     "output_type": "stream",
     "text": [
      "<class 'numpy.ndarray'>\n",
      "<class 'numpy.ndarray'>\n",
      "<class 'numpy.ndarray'>\n",
      "<class 'numpy.ndarray'>\n"
     ]
    }
   ],
   "source": [
    "print(type(x_train))\n",
    "print(type(y_train))\n",
    "print(type(x_test))\n",
    "print(type(y_test))"
   ]
  },
  {
   "cell_type": "code",
   "execution_count": 5,
   "id": "entertaining-amazon",
   "metadata": {},
   "outputs": [
    {
     "name": "stdout",
     "output_type": "stream",
     "text": [
      "(50000, 32, 32, 3)\n",
      "(50000, 1)\n",
      "(10000, 32, 32, 3)\n",
      "(10000, 1)\n"
     ]
    }
   ],
   "source": [
    "# x_train has 50000 rows with image size 32x32 and depth 3 i.e. RGB\n",
    "# y_train has 50000 rows with 1 classifier\n",
    "print(x_train.shape)\n",
    "print(y_train.shape)\n",
    "print(x_test.shape)\n",
    "print(y_test.shape)"
   ]
  },
  {
   "cell_type": "code",
   "execution_count": 6,
   "id": "accompanied-speaking",
   "metadata": {
    "scrolled": true
   },
   "outputs": [
    {
     "data": {
      "text/plain": [
       "array([[[ 59,  62,  63],\n",
       "        [ 43,  46,  45],\n",
       "        [ 50,  48,  43],\n",
       "        ...,\n",
       "        [158, 132, 108],\n",
       "        [152, 125, 102],\n",
       "        [148, 124, 103]],\n",
       "\n",
       "       [[ 16,  20,  20],\n",
       "        [  0,   0,   0],\n",
       "        [ 18,   8,   0],\n",
       "        ...,\n",
       "        [123,  88,  55],\n",
       "        [119,  83,  50],\n",
       "        [122,  87,  57]],\n",
       "\n",
       "       [[ 25,  24,  21],\n",
       "        [ 16,   7,   0],\n",
       "        [ 49,  27,   8],\n",
       "        ...,\n",
       "        [118,  84,  50],\n",
       "        [120,  84,  50],\n",
       "        [109,  73,  42]],\n",
       "\n",
       "       ...,\n",
       "\n",
       "       [[208, 170,  96],\n",
       "        [201, 153,  34],\n",
       "        [198, 161,  26],\n",
       "        ...,\n",
       "        [160, 133,  70],\n",
       "        [ 56,  31,   7],\n",
       "        [ 53,  34,  20]],\n",
       "\n",
       "       [[180, 139,  96],\n",
       "        [173, 123,  42],\n",
       "        [186, 144,  30],\n",
       "        ...,\n",
       "        [184, 148,  94],\n",
       "        [ 97,  62,  34],\n",
       "        [ 83,  53,  34]],\n",
       "\n",
       "       [[177, 144, 116],\n",
       "        [168, 129,  94],\n",
       "        [179, 142,  87],\n",
       "        ...,\n",
       "        [216, 184, 140],\n",
       "        [151, 118,  84],\n",
       "        [123,  92,  72]]], dtype=uint8)"
      ]
     },
     "execution_count": 6,
     "metadata": {},
     "output_type": "execute_result"
    }
   ],
   "source": [
    "# Take a look at First Image as an Array\n",
    "index = 0\n",
    "x_train[index]"
   ]
  },
  {
   "cell_type": "code",
   "execution_count": 7,
   "id": "medieval-involvement",
   "metadata": {},
   "outputs": [
    {
     "data": {
      "image/png": "[encoded data removed]",
      "text/plain": [
       "<Figure size 432x288 with 1 Axes>"
      ]
     },
     "metadata": {},
     "output_type": "display_data"
    }
   ],
   "source": [
    "# Show image as a Picture\n",
    "img = plt.imshow(x_train[index])"
   ]
  },
  {
   "cell_type": "code",
   "execution_count": 9,
   "id": "german-bridges",
   "metadata": {},
   "outputs": [
    {
     "name": "stdout",
     "output_type": "stream",
     "text": [
      "[6]\n"
     ]
    }
   ],
   "source": [
    "# Get the Image Label\n",
    "# Every number corresponsds to a name, i.e. number 6 is a Frog\n",
    "print(y_train[index])"
   ]
  },
  {
   "cell_type": "code",
   "execution_count": 14,
   "id": "modular-blast",
   "metadata": {},
   "outputs": [
    {
     "name": "stdout",
     "output_type": "stream",
     "text": [
      "frog\n"
     ]
    }
   ],
   "source": [
    "classification = ['airplane','automobile','bird','cat','dear',\n",
    "                  'dog','frog','horse','ship','truck']\n",
    "print(classification[y_train[index][0]])"
   ]
  },
  {
   "cell_type": "markdown",
   "id": "thorough-general",
   "metadata": {},
   "source": [
    "# One Hot encoding of Labels"
   ]
  },
  {
   "cell_type": "code",
   "execution_count": 17,
   "id": "honey-process",
   "metadata": {},
   "outputs": [],
   "source": [
    "# Convert the labels into a set of 10 numbers to input into NN\n",
    "# Every set of rows will have 10 values, all 0 except the one with actual label index\n",
    "y_train_one_hot = to_categorical(y_train)\n",
    "y_test_one_hot = to_categorical(y_test)"
   ]
  },
  {
   "cell_type": "code",
   "execution_count": 22,
   "id": "conscious-affair",
   "metadata": {},
   "outputs": [
    {
     "data": {
      "text/plain": [
       "array([0., 0., 0., 0., 0., 0., 1., 0., 0., 0.], dtype=float32)"
      ]
     },
     "execution_count": 22,
     "metadata": {},
     "output_type": "execute_result"
    }
   ],
   "source": [
    "y_train_one_hot[index]"
   ]
  },
  {
   "cell_type": "raw",
   "id": "acute-absence",
   "metadata": {},
   "source": [
    "print(y_train_one_hot)"
   ]
  },
  {
   "cell_type": "code",
   "execution_count": 20,
   "id": "worldwide-least",
   "metadata": {},
   "outputs": [
    {
     "name": "stdout",
     "output_type": "stream",
     "text": [
      "(50000, 10)\n",
      "(10000, 10)\n"
     ]
    }
   ],
   "source": [
    "print(y_train_one_hot.shape)\n",
    "print(y_test_one_hot.shape)"
   ]
  },
  {
   "cell_type": "markdown",
   "id": "saving-monaco",
   "metadata": {},
   "source": [
    "# Normalize pixel values between 0 and 1"
   ]
  },
  {
   "cell_type": "code",
   "execution_count": 23,
   "id": "representative-judge",
   "metadata": {},
   "outputs": [],
   "source": [
    "x_train = x_train /255\n",
    "x_test = x_test /255"
   ]
  },
  {
   "cell_type": "code",
   "execution_count": 24,
   "id": "muslim-navigator",
   "metadata": {
    "scrolled": true
   },
   "outputs": [
    {
     "data": {
      "text/plain": [
       "array([[[0.23137255, 0.24313725, 0.24705882],\n",
       "        [0.16862745, 0.18039216, 0.17647059],\n",
       "        [0.19607843, 0.18823529, 0.16862745],\n",
       "        ...,\n",
       "        [0.61960784, 0.51764706, 0.42352941],\n",
       "        [0.59607843, 0.49019608, 0.4       ],\n",
       "        [0.58039216, 0.48627451, 0.40392157]],\n",
       "\n",
       "       [[0.0627451 , 0.07843137, 0.07843137],\n",
       "        [0.        , 0.        , 0.        ],\n",
       "        [0.07058824, 0.03137255, 0.        ],\n",
       "        ...,\n",
       "        [0.48235294, 0.34509804, 0.21568627],\n",
       "        [0.46666667, 0.3254902 , 0.19607843],\n",
       "        [0.47843137, 0.34117647, 0.22352941]],\n",
       "\n",
       "       [[0.09803922, 0.09411765, 0.08235294],\n",
       "        [0.0627451 , 0.02745098, 0.        ],\n",
       "        [0.19215686, 0.10588235, 0.03137255],\n",
       "        ...,\n",
       "        [0.4627451 , 0.32941176, 0.19607843],\n",
       "        [0.47058824, 0.32941176, 0.19607843],\n",
       "        [0.42745098, 0.28627451, 0.16470588]],\n",
       "\n",
       "       ...,\n",
       "\n",
       "       [[0.81568627, 0.66666667, 0.37647059],\n",
       "        [0.78823529, 0.6       , 0.13333333],\n",
       "        [0.77647059, 0.63137255, 0.10196078],\n",
       "        ...,\n",
       "        [0.62745098, 0.52156863, 0.2745098 ],\n",
       "        [0.21960784, 0.12156863, 0.02745098],\n",
       "        [0.20784314, 0.13333333, 0.07843137]],\n",
       "\n",
       "       [[0.70588235, 0.54509804, 0.37647059],\n",
       "        [0.67843137, 0.48235294, 0.16470588],\n",
       "        [0.72941176, 0.56470588, 0.11764706],\n",
       "        ...,\n",
       "        [0.72156863, 0.58039216, 0.36862745],\n",
       "        [0.38039216, 0.24313725, 0.13333333],\n",
       "        [0.3254902 , 0.20784314, 0.13333333]],\n",
       "\n",
       "       [[0.69411765, 0.56470588, 0.45490196],\n",
       "        [0.65882353, 0.50588235, 0.36862745],\n",
       "        [0.70196078, 0.55686275, 0.34117647],\n",
       "        ...,\n",
       "        [0.84705882, 0.72156863, 0.54901961],\n",
       "        [0.59215686, 0.4627451 , 0.32941176],\n",
       "        [0.48235294, 0.36078431, 0.28235294]]])"
      ]
     },
     "execution_count": 24,
     "metadata": {},
     "output_type": "execute_result"
    }
   ],
   "source": [
    "x_train[index]"
   ]
  },
  {
   "cell_type": "markdown",
   "id": "medical-auction",
   "metadata": {},
   "source": [
    "# Create Model"
   ]
  },
  {
   "cell_type": "code",
   "execution_count": 31,
   "id": "answering-funeral",
   "metadata": {},
   "outputs": [],
   "source": [
    "model = Sequential()\n",
    "\n",
    "# First Layer (32 5x5 relu convoluted feature maps)\n",
    "model.add(Conv2D(32, (5,5) , activation = 'relu', input_shape=(32,32,3)))\n",
    "\n",
    "# 2nd Layer as pooling Layer (creating a pooling layer with 2x2 pixel filter)\n",
    "model.add(MaxPooling2D(pool_size = (2,2)))\n",
    "\n",
    "# 3rd Layer (2nd Colvolution Layer)\n",
    "model.add(Conv2D(32, (5,5) , activation = 'relu'))\n",
    "\n",
    "# 4th Layer (2nd Pooling Layer)\n",
    "model.add(MaxPooling2D(pool_size = (2,2)))\n",
    "\n",
    "# 5th Layer (Flattening Layer)\n",
    "model.add(Flatten())\n",
    "\n",
    "# 6th Layer with 1000 neurons to feed from previous layers\n",
    "model.add(Dense(1000, activation = 'relu'))\n",
    "\n",
    "# 7th Layer (Dropout layer with 50%)\n",
    "model.add(Dropout(0.5))\n",
    "\n",
    "# 8th Layer with 500 neurons to feed from previous layers\n",
    "model.add(Dense(500, activation = 'relu'))\n",
    "\n",
    "# 9th Layer (Dropout layer with 50%)\n",
    "model.add(Dropout(0.5))\n",
    "\n",
    "# 10th Layer with 250 neurons to feed from previous layers\n",
    "model.add(Dense(250, activation = 'relu'))\n",
    "\n",
    "# 11th Layer with 10 neurons (as there are 10 different Classifications)\n",
    "model.add(Dense(10, activation = 'softmax'))"
   ]
  },
  {
   "cell_type": "code",
   "execution_count": 32,
   "id": "published-transparency",
   "metadata": {},
   "outputs": [],
   "source": [
    "# Compile the Model\n",
    "\n",
    "model.compile(loss = 'categorical_crossentropy',\n",
    "             optimizer = 'adam',\n",
    "              metrics = ['accuracy']\n",
    "             )"
   ]
  },
  {
   "cell_type": "code",
   "execution_count": 33,
   "id": "atomic-dispute",
   "metadata": {},
   "outputs": [
    {
     "name": "stdout",
     "output_type": "stream",
     "text": [
      "Epoch 1/10\n",
      "157/157 [==============================] - 31s 197ms/step - loss: 2.0242 - accuracy: 0.2357 - val_loss: 1.5312 - val_accuracy: 0.4364\n",
      "Epoch 2/10\n",
      "157/157 [==============================] - 28s 180ms/step - loss: 1.4725 - accuracy: 0.4569 - val_loss: 1.3460 - val_accuracy: 0.5060\n",
      "Epoch 3/10\n",
      "157/157 [==============================] - 32s 205ms/step - loss: 1.2878 - accuracy: 0.5336 - val_loss: 1.1856 - val_accuracy: 0.5800\n",
      "Epoch 4/10\n",
      "157/157 [==============================] - 29s 182ms/step - loss: 1.1765 - accuracy: 0.5763 - val_loss: 1.1332 - val_accuracy: 0.6010\n",
      "Epoch 5/10\n",
      "157/157 [==============================] - 32s 201ms/step - loss: 1.0642 - accuracy: 0.6210 - val_loss: 1.0453 - val_accuracy: 0.6345\n",
      "Epoch 6/10\n",
      "157/157 [==============================] - 30s 191ms/step - loss: 1.0149 - accuracy: 0.6451 - val_loss: 1.0241 - val_accuracy: 0.6472\n",
      "Epoch 7/10\n",
      "157/157 [==============================] - 32s 206ms/step - loss: 0.9485 - accuracy: 0.6610 - val_loss: 0.9633 - val_accuracy: 0.6641\n",
      "Epoch 8/10\n",
      "157/157 [==============================] - 28s 180ms/step - loss: 0.8762 - accuracy: 0.6924 - val_loss: 0.9956 - val_accuracy: 0.6586\n",
      "Epoch 9/10\n",
      "157/157 [==============================] - 34s 217ms/step - loss: 0.8121 - accuracy: 0.7112 - val_loss: 0.9180 - val_accuracy: 0.6856\n",
      "Epoch 10/10\n",
      "157/157 [==============================] - 34s 217ms/step - loss: 0.7420 - accuracy: 0.7331 - val_loss: 0.9237 - val_accuracy: 0.6808\n"
     ]
    }
   ],
   "source": [
    "# Train the Model\n",
    "\n",
    "hist = model.fit(x_train, y_train_one_hot,\n",
    "                batch_size = 256, epochs = 10,\n",
    "                validation_split = 0.2)  # Validation split is 20%"
   ]
  },
  {
   "cell_type": "markdown",
   "id": "chief-camera",
   "metadata": {},
   "source": [
    "# Evaluate the Model using Test Data"
   ]
  },
  {
   "cell_type": "markdown",
   "id": "yellow-bench",
   "metadata": {},
   "source": [
    "### Model is 67% Accurate"
   ]
  },
  {
   "cell_type": "code",
   "execution_count": 94,
   "id": "senior-calibration",
   "metadata": {},
   "outputs": [
    {
     "name": "stdout",
     "output_type": "stream",
     "text": [
      "313/313 [==============================] - 4s 13ms/step - loss: 0.9467 - accuracy: 0.6701\n"
     ]
    },
    {
     "data": {
      "text/plain": [
       "0.6700999736785889"
      ]
     },
     "execution_count": 94,
     "metadata": {},
     "output_type": "execute_result"
    }
   ],
   "source": [
    "model.evaluate(x_test, y_test_one_hot)[1]"
   ]
  },
  {
   "cell_type": "markdown",
   "id": "disturbed-recording",
   "metadata": {},
   "source": [
    "# Visualize Model's Accuracy and Loss based on validation data"
   ]
  },
  {
   "cell_type": "code",
   "execution_count": 35,
   "id": "answering-arrival",
   "metadata": {},
   "outputs": [
    {
     "data": {
      "text/plain": [
       "dict_keys(['loss', 'accuracy', 'val_loss', 'val_accuracy'])"
      ]
     },
     "execution_count": 35,
     "metadata": {},
     "output_type": "execute_result"
    }
   ],
   "source": [
    "hist.history.keys()"
   ]
  },
  {
   "cell_type": "code",
   "execution_count": 41,
   "id": "alone-staff",
   "metadata": {},
   "outputs": [
    {
     "data": {
      "image/png": "[encoded data removed]",
      "text/plain": [
       "<Figure size 432x288 with 1 Axes>"
      ]
     },
     "metadata": {},
     "output_type": "display_data"
    }
   ],
   "source": [
    "plt.plot(hist.history['accuracy'], label = 'Train')\n",
    "plt.plot(hist.history['val_accuracy'], label = 'Val')\n",
    "plt.title('Model Accuracy')\n",
    "plt.ylabel('Accuracy')\n",
    "plt.xlabel('Epocs')\n",
    "plt.legend()\n",
    "plt.show()"
   ]
  },
  {
   "cell_type": "code",
   "execution_count": 44,
   "id": "insured-shooting",
   "metadata": {},
   "outputs": [
    {
     "data": {
      "image/png": "[encoded data removed]",
      "text/plain": [
       "<Figure size 432x288 with 1 Axes>"
      ]
     },
     "metadata": {},
     "output_type": "display_data"
    }
   ],
   "source": [
    "plt.plot(hist.history['loss'], label = 'Train')\n",
    "plt.plot(hist.history['val_loss'], label = 'Val')\n",
    "plt.title('Model Loss')\n",
    "plt.ylabel('Loss')\n",
    "plt.xlabel('Epocs')\n",
    "plt.legend()\n",
    "plt.show()"
   ]
  },
  {
   "cell_type": "markdown",
   "id": "loose-masters",
   "metadata": {},
   "source": [
    "# Test the Model with random images online"
   ]
  },
  {
   "cell_type": "markdown",
   "id": "polished-canada",
   "metadata": {},
   "source": [
    "# Resize image to 32x32"
   ]
  },
  {
   "cell_type": "code",
   "execution_count": 60,
   "id": "sitting-agency",
   "metadata": {},
   "outputs": [],
   "source": [
    "from PIL import Image\n",
    "from keras.preprocessing.image import load_img\n",
    "from keras.preprocessing.image import img_to_array"
   ]
  },
  {
   "cell_type": "code",
   "execution_count": 83,
   "id": "portable-archives",
   "metadata": {},
   "outputs": [],
   "source": [
    "img = load_img('airplane1.jpg')\n",
    "new_width  = 32\n",
    "new_height = 32\n",
    "img = img.resize((new_width, new_height), Image.ANTIALIAS)"
   ]
  },
  {
   "cell_type": "code",
   "execution_count": 84,
   "id": "secret-variety",
   "metadata": {},
   "outputs": [
    {
     "data": {
      "text/plain": [
       "<matplotlib.image.AxesImage at 0x192b2d3e5e0>"
      ]
     },
     "execution_count": 84,
     "metadata": {},
     "output_type": "execute_result"
    },
    {
     "data": {
      "image/png": "[encoded data removed]",
      "text/plain": [
       "<Figure size 432x288 with 1 Axes>"
      ]
     },
     "metadata": {},
     "output_type": "display_data"
    }
   ],
   "source": [
    "plt.imshow(img)"
   ]
  },
  {
   "cell_type": "code",
   "execution_count": 85,
   "id": "breathing-assembly",
   "metadata": {},
   "outputs": [],
   "source": [
    "img_array = img_to_array(img)"
   ]
  },
  {
   "cell_type": "code",
   "execution_count": 86,
   "id": "consolidated-denmark",
   "metadata": {},
   "outputs": [
    {
     "data": {
      "text/plain": [
       "(32, 32, 3)"
      ]
     },
     "execution_count": 86,
     "metadata": {},
     "output_type": "execute_result"
    }
   ],
   "source": [
    "img_array.shape"
   ]
  },
  {
   "cell_type": "code",
   "execution_count": 87,
   "id": "aggregate-silver",
   "metadata": {},
   "outputs": [],
   "source": [
    "img_array = np.expand_dims(img_array, axis=0)"
   ]
  },
  {
   "cell_type": "code",
   "execution_count": 88,
   "id": "olive-chaos",
   "metadata": {},
   "outputs": [
    {
     "data": {
      "text/plain": [
       "(1, 32, 32, 3)"
      ]
     },
     "execution_count": 88,
     "metadata": {},
     "output_type": "execute_result"
    }
   ],
   "source": [
    "img_array.shape"
   ]
  },
  {
   "cell_type": "code",
   "execution_count": 89,
   "id": "pacific-chicago",
   "metadata": {},
   "outputs": [
    {
     "data": {
      "text/plain": [
       "array([[1.00000000e+00, 0.00000000e+00, 0.00000000e+00, 0.00000000e+00,\n",
       "        0.00000000e+00, 0.00000000e+00, 0.00000000e+00, 0.00000000e+00,\n",
       "        1.22584555e-33, 0.00000000e+00]], dtype=float32)"
      ]
     },
     "execution_count": 89,
     "metadata": {},
     "output_type": "execute_result"
    }
   ],
   "source": [
    "predictions = model.predict(img_array)\n",
    "predictions"
   ]
  },
  {
   "cell_type": "code",
   "execution_count": 90,
   "id": "outstanding-aquarium",
   "metadata": {},
   "outputs": [
    {
     "name": "stdout",
     "output_type": "stream",
     "text": [
      "[0, 8, 2, 3, 4, 5, 6, 7, 1, 9]\n"
     ]
    }
   ],
   "source": [
    "# Sort predictions from least to Greatest\n",
    "list_index = [0,1,2,3,4,5,6,7,8,9]\n",
    "x = predictions\n",
    "\n",
    "for i in range(10):\n",
    "    for j in range(10):\n",
    "        if x[0][list_index[i]] > x[0][list_index[j]]:\n",
    "            temp = list_index[i]\n",
    "            list_index[i] = list_index[j]\n",
    "            list_index[j] = temp\n",
    "            \n",
    "# Show the sorted labels in order\n",
    "print(list_index)"
   ]
  },
  {
   "cell_type": "code",
   "execution_count": 93,
   "id": "nonprofit-geology",
   "metadata": {},
   "outputs": [
    {
     "name": "stdout",
     "output_type": "stream",
     "text": [
      "airplane : 100.0 %\n",
      "ship : 0.0 %\n",
      "bird : 0.0 %\n",
      "cat : 0.0 %\n",
      "dear : 0.0 %\n"
     ]
    }
   ],
   "source": [
    "# Print first 5 predictions\n",
    "\n",
    "for i in range(5):\n",
    "    print(classification[list_index[i]], ':', round(predictions[0][list_index[i]] * 100,2), '%' )"
   ]
  },
  {
   "cell_type": "code",
   "execution_count": null,
   "id": "announced-sugar",
   "metadata": {},
   "outputs": [],
   "source": []
  }
 ],
 "metadata": {
  "kernelspec": {
   "display_name": "Python [conda env:Amir_env] *",
   "language": "python",
   "name": "conda-env-Amir_env-py"
  },
  "language_info": {
   "codemirror_mode": {
    "name": "ipython",
    "version": 3
   },
   "file_extension": ".py",
   "mimetype": "text/x-python",
   "name": "python",
   "nbconvert_exporter": "python",
   "pygments_lexer": "ipython3",
   "version": "3.8.5"
  }
 },
 "nbformat": 4,
 "nbformat_minor": 5
}
