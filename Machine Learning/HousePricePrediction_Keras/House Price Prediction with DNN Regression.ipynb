{
 "cells": [
  {
   "cell_type": "markdown",
   "id": "original-spice",
   "metadata": {},
   "source": [
    "# Imports"
   ]
  },
  {
   "cell_type": "code",
   "execution_count": 1,
   "id": "attractive-catalog",
   "metadata": {},
   "outputs": [
    {
     "name": "stderr",
     "output_type": "stream",
     "text": [
      "Using TensorFlow backend.\n"
     ]
    }
   ],
   "source": [
    "import keras\n",
    "import numpy as np\n",
    "import pandas as pd"
   ]
  },
  {
   "cell_type": "markdown",
   "id": "automotive-oriental",
   "metadata": {},
   "source": [
    "# Load Data"
   ]
  },
  {
   "cell_type": "code",
   "execution_count": 2,
   "id": "geological-penguin",
   "metadata": {},
   "outputs": [],
   "source": [
    "housedf = pd.read_csv('HousingPrices.csv')"
   ]
  },
  {
   "cell_type": "code",
   "execution_count": 3,
   "id": "cubic-preliminary",
   "metadata": {
    "scrolled": true
   },
   "outputs": [
    {
     "data": {
      "text/html": [
       "<div>\n",
       "<style scoped>\n",
       "    .dataframe tbody tr th:only-of-type {\n",
       "        vertical-align: middle;\n",
       "    }\n",
       "\n",
       "    .dataframe tbody tr th {\n",
       "        vertical-align: top;\n",
       "    }\n",
       "\n",
       "    .dataframe thead th {\n",
       "        text-align: right;\n",
       "    }\n",
       "</style>\n",
       "<table border=\"1\" class=\"dataframe\">\n",
       "  <thead>\n",
       "    <tr style=\"text-align: right;\">\n",
       "      <th></th>\n",
       "      <th>YearBuilt</th>\n",
       "      <th>2ndFlrSF</th>\n",
       "      <th>GrLivArea</th>\n",
       "      <th>FullBath</th>\n",
       "      <th>HalfBath</th>\n",
       "      <th>BedroomAbvGr</th>\n",
       "      <th>TotRmsAbvGrd</th>\n",
       "      <th>YrSold</th>\n",
       "      <th>SalePrice</th>\n",
       "    </tr>\n",
       "  </thead>\n",
       "  <tbody>\n",
       "    <tr>\n",
       "      <th>0</th>\n",
       "      <td>2003</td>\n",
       "      <td>854</td>\n",
       "      <td>1710</td>\n",
       "      <td>2</td>\n",
       "      <td>1</td>\n",
       "      <td>3</td>\n",
       "      <td>8</td>\n",
       "      <td>2008</td>\n",
       "      <td>208500</td>\n",
       "    </tr>\n",
       "    <tr>\n",
       "      <th>1</th>\n",
       "      <td>1976</td>\n",
       "      <td>0</td>\n",
       "      <td>1262</td>\n",
       "      <td>2</td>\n",
       "      <td>0</td>\n",
       "      <td>3</td>\n",
       "      <td>6</td>\n",
       "      <td>2007</td>\n",
       "      <td>181500</td>\n",
       "    </tr>\n",
       "    <tr>\n",
       "      <th>2</th>\n",
       "      <td>2001</td>\n",
       "      <td>866</td>\n",
       "      <td>1786</td>\n",
       "      <td>2</td>\n",
       "      <td>1</td>\n",
       "      <td>3</td>\n",
       "      <td>6</td>\n",
       "      <td>2008</td>\n",
       "      <td>223500</td>\n",
       "    </tr>\n",
       "    <tr>\n",
       "      <th>3</th>\n",
       "      <td>1915</td>\n",
       "      <td>756</td>\n",
       "      <td>1717</td>\n",
       "      <td>1</td>\n",
       "      <td>0</td>\n",
       "      <td>3</td>\n",
       "      <td>7</td>\n",
       "      <td>2006</td>\n",
       "      <td>140000</td>\n",
       "    </tr>\n",
       "    <tr>\n",
       "      <th>4</th>\n",
       "      <td>2000</td>\n",
       "      <td>1053</td>\n",
       "      <td>2198</td>\n",
       "      <td>2</td>\n",
       "      <td>1</td>\n",
       "      <td>4</td>\n",
       "      <td>9</td>\n",
       "      <td>2008</td>\n",
       "      <td>250000</td>\n",
       "    </tr>\n",
       "  </tbody>\n",
       "</table>\n",
       "</div>"
      ],
      "text/plain": [
       "   YearBuilt  2ndFlrSF  GrLivArea  FullBath  HalfBath  BedroomAbvGr  \\\n",
       "0       2003       854       1710         2         1             3   \n",
       "1       1976         0       1262         2         0             3   \n",
       "2       2001       866       1786         2         1             3   \n",
       "3       1915       756       1717         1         0             3   \n",
       "4       2000      1053       2198         2         1             4   \n",
       "\n",
       "   TotRmsAbvGrd  YrSold  SalePrice  \n",
       "0             8    2008     208500  \n",
       "1             6    2007     181500  \n",
       "2             6    2008     223500  \n",
       "3             7    2006     140000  \n",
       "4             9    2008     250000  "
      ]
     },
     "execution_count": 3,
     "metadata": {},
     "output_type": "execute_result"
    }
   ],
   "source": [
    "housedf.head()"
   ]
  },
  {
   "cell_type": "markdown",
   "id": "central-indicator",
   "metadata": {},
   "source": [
    "# Split Data into Features and Output"
   ]
  },
  {
   "cell_type": "code",
   "execution_count": 4,
   "id": "deluxe-upper",
   "metadata": {},
   "outputs": [],
   "source": [
    "x = housedf.drop(columns=['SalePrice'])\n",
    "y = housedf[['SalePrice']]"
   ]
  },
  {
   "cell_type": "markdown",
   "id": "narrow-least",
   "metadata": {},
   "source": [
    "# Build Model"
   ]
  },
  {
   "cell_type": "markdown",
   "id": "confidential-vocabulary",
   "metadata": {},
   "source": [
    "### Model with 2 hidden layers with 8 neurons each\n",
    "### Activation with relu normalizes data\n",
    "### Input shape must be number of features that are to be input to model"
   ]
  },
  {
   "cell_type": "code",
   "execution_count": 5,
   "id": "unable-helping",
   "metadata": {},
   "outputs": [],
   "source": [
    "model = keras.Sequential()\n",
    "model.add(keras.layers.Dense(8, activation='relu', input_shape=(8,)))\n",
    "model.add(keras.layers.Dense(8, activation='relu'))\n",
    "model.add(keras.layers.Dense(1))"
   ]
  },
  {
   "cell_type": "markdown",
   "id": "noble-macintosh",
   "metadata": {},
   "source": [
    "### Compile and run model.\n",
    "### While running the model, to prevent overfitting while choosing epochs number, we can add callbacks to stop model before overfitting"
   ]
  },
  {
   "cell_type": "code",
   "execution_count": 6,
   "id": "cathedral-feature",
   "metadata": {},
   "outputs": [],
   "source": [
    "model.compile(optimizer='adam',loss='mean_squared_error')"
   ]
  },
  {
   "cell_type": "code",
   "execution_count": 7,
   "id": "eight-marsh",
   "metadata": {
    "scrolled": true
   },
   "outputs": [
    {
     "name": "stdout",
     "output_type": "stream",
     "text": [
      "Epoch 1/30\n",
      "1460/1460 [==============================] - 2s 1ms/step - loss: 38904075788.6247\n",
      "Epoch 2/30\n",
      "1460/1460 [==============================] - 0s 123us/step - loss: 38495965217.6657\n"
     ]
    },
    {
     "name": "stderr",
     "output_type": "stream",
     "text": [
      "C:\\ProgramData\\Anaconda3\\envs\\ten-gpu\\lib\\site-packages\\keras\\callbacks.py:569: RuntimeWarning: Early stopping conditioned on metric `val_loss` which is not available. Available metrics are: loss\n",
      "  (self.monitor, ','.join(list(logs.keys()))), RuntimeWarning\n"
     ]
    },
    {
     "name": "stdout",
     "output_type": "stream",
     "text": [
      "Epoch 3/30\n",
      "1460/1460 [==============================] - 0s 149us/step - loss: 37947921680.1315\n",
      "Epoch 4/30\n",
      "1460/1460 [==============================] - 0s 118us/step - loss: 37149523362.0164\n",
      "Epoch 5/30\n",
      "1460/1460 [==============================] - 0s 144us/step - loss: 36022395643.0904\n",
      "Epoch 6/30\n",
      "1460/1460 [==============================] - 0s 101us/step - loss: 34501678065.9726\n",
      "Epoch 7/30\n",
      "1460/1460 [==============================] - 0s 135us/step - loss: 32406596521.0301\n",
      "Epoch 8/30\n",
      "1460/1460 [==============================] - 0s 131us/step - loss: 29713381145.9507\n",
      "Epoch 9/30\n",
      "1460/1460 [==============================] - 0s 113us/step - loss: 26522688817.7973\n",
      "Epoch 10/30\n",
      "1460/1460 [==============================] - 0s 133us/step - loss: 23009225688.7233\n",
      "Epoch 11/30\n",
      "1460/1460 [==============================] - 0s 164us/step - loss: 19337837144.3726\n",
      "Epoch 12/30\n",
      "1460/1460 [==============================] - 0s 149us/step - loss: 15755603895.0575\n",
      "Epoch 13/30\n",
      "1460/1460 [==============================] - 0s 150us/step - loss: 12510713019.9671\n",
      "Epoch 14/30\n",
      "1460/1460 [==============================] - 0s 159us/step - loss: 9779676606.0712\n",
      "Epoch 15/30\n",
      "1460/1460 [==============================] - 0s 124us/step - loss: 7674248670.3342\n",
      "Epoch 16/30\n",
      "1460/1460 [==============================] - 0s 128us/step - loss: 6206724954.8274\n",
      "Epoch 17/30\n",
      "1460/1460 [==============================] - 0s 151us/step - loss: 5279113450.2575\n",
      "Epoch 18/30\n",
      "1460/1460 [==============================] - 0s 123us/step - loss: 4749271933.5452\n",
      "Epoch 19/30\n",
      "1460/1460 [==============================] - 0s 137us/step - loss: 4485037446.3123\n",
      "Epoch 20/30\n",
      "1460/1460 [==============================] - 0s 123us/step - loss: 4359669838.5534\n",
      "Epoch 21/30\n",
      "1460/1460 [==============================] - 0s 114us/step - loss: 4305910433.3151\n",
      "Epoch 22/30\n",
      "1460/1460 [==============================] - 0s 142us/step - loss: 4280407936.3507\n",
      "Epoch 23/30\n",
      "1460/1460 [==============================] - 0s 145us/step - loss: 4271380149.6548\n",
      "Epoch 24/30\n",
      "1460/1460 [==============================] - 0s 136us/step - loss: 4259554503.1890\n",
      "Epoch 25/30\n",
      "1460/1460 [==============================] - 0s 141us/step - loss: 4253166051.2438\n",
      "Epoch 26/30\n",
      "1460/1460 [==============================] - 0s 105us/step - loss: 4247065059.2438\n",
      "Epoch 27/30\n",
      "1460/1460 [==============================] - 0s 114us/step - loss: 4239309889.9288\n",
      "Epoch 28/30\n",
      "1460/1460 [==============================] - 0s 116us/step - loss: 4233226679.0575\n",
      "Epoch 29/30\n",
      "1460/1460 [==============================] - 0s 107us/step - loss: 4225691262.9479\n",
      "Epoch 30/30\n",
      "1460/1460 [==============================] - 0s 133us/step - loss: 4219562819.3315\n"
     ]
    },
    {
     "data": {
      "text/plain": [
       "<keras.callbacks.History at 0x1f8cef71dd8>"
      ]
     },
     "execution_count": 7,
     "metadata": {},
     "output_type": "execute_result"
    }
   ],
   "source": [
    "model.fit(x,y,epochs=30,callbacks=[keras.callbacks.EarlyStopping(patience=5)])"
   ]
  },
  {
   "cell_type": "markdown",
   "id": "designing-modem",
   "metadata": {},
   "source": [
    "# Test the model with existing data, but essentially we should use new values"
   ]
  },
  {
   "cell_type": "code",
   "execution_count": 8,
   "id": "toxic-burden",
   "metadata": {},
   "outputs": [
    {
     "name": "stdout",
     "output_type": "stream",
     "text": [
      "[[205745.78]]\n"
     ]
    }
   ],
   "source": [
    "test_data = np.array([2003,854,1710,2,1,3,8,2008]) # Row 0 of Data\n",
    "print(model.predict(test_data.reshape(1,8), batch_size=1))"
   ]
  },
  {
   "cell_type": "code",
   "execution_count": 9,
   "id": "deluxe-perception",
   "metadata": {},
   "outputs": [
    {
     "data": {
      "text/plain": [
       "208500"
      ]
     },
     "execution_count": 9,
     "metadata": {},
     "output_type": "execute_result"
    }
   ],
   "source": [
    "housedf.iloc[0]['SalePrice']"
   ]
  },
  {
   "cell_type": "markdown",
   "id": "mediterranean-olive",
   "metadata": {},
   "source": [
    "# Save Model to a file"
   ]
  },
  {
   "cell_type": "code",
   "execution_count": 10,
   "id": "growing-fifth",
   "metadata": {},
   "outputs": [],
   "source": [
    "model.save('housing_model.h5')"
   ]
  },
  {
   "cell_type": "markdown",
   "id": "similar-drink",
   "metadata": {},
   "source": [
    "# Load Model from File and Use"
   ]
  },
  {
   "cell_type": "code",
   "execution_count": 11,
   "id": "outer-queen",
   "metadata": {},
   "outputs": [
    {
     "ename": "AttributeError",
     "evalue": "'str' object has no attribute 'decode'",
     "output_type": "error",
     "traceback": [
      "\u001b[1;31m---------------------------------------------------------------------------\u001b[0m",
      "\u001b[1;31mAttributeError\u001b[0m                            Traceback (most recent call last)",
      "\u001b[1;32m<ipython-input-11-ea70640adc27>\u001b[0m in \u001b[0;36m<module>\u001b[1;34m\u001b[0m\n\u001b[1;32m----> 1\u001b[1;33m \u001b[0mold_model\u001b[0m \u001b[1;33m=\u001b[0m \u001b[0mkeras\u001b[0m\u001b[1;33m.\u001b[0m\u001b[0mmodels\u001b[0m\u001b[1;33m.\u001b[0m\u001b[0mload_model\u001b[0m\u001b[1;33m(\u001b[0m\u001b[1;34m'housing_model.h5'\u001b[0m\u001b[1;33m)\u001b[0m\u001b[1;33m\u001b[0m\u001b[1;33m\u001b[0m\u001b[0m\n\u001b[0m",
      "\u001b[1;32mC:\\ProgramData\\Anaconda3\\envs\\ten-gpu\\lib\\site-packages\\keras\\engine\\saving.py\u001b[0m in \u001b[0;36mload_model\u001b[1;34m(filepath, custom_objects, compile)\u001b[0m\n\u001b[0;32m    417\u001b[0m     \u001b[0mf\u001b[0m \u001b[1;33m=\u001b[0m \u001b[0mh5dict\u001b[0m\u001b[1;33m(\u001b[0m\u001b[0mfilepath\u001b[0m\u001b[1;33m,\u001b[0m \u001b[1;34m'r'\u001b[0m\u001b[1;33m)\u001b[0m\u001b[1;33m\u001b[0m\u001b[1;33m\u001b[0m\u001b[0m\n\u001b[0;32m    418\u001b[0m     \u001b[1;32mtry\u001b[0m\u001b[1;33m:\u001b[0m\u001b[1;33m\u001b[0m\u001b[1;33m\u001b[0m\u001b[0m\n\u001b[1;32m--> 419\u001b[1;33m         \u001b[0mmodel\u001b[0m \u001b[1;33m=\u001b[0m \u001b[0m_deserialize_model\u001b[0m\u001b[1;33m(\u001b[0m\u001b[0mf\u001b[0m\u001b[1;33m,\u001b[0m \u001b[0mcustom_objects\u001b[0m\u001b[1;33m,\u001b[0m \u001b[0mcompile\u001b[0m\u001b[1;33m)\u001b[0m\u001b[1;33m\u001b[0m\u001b[1;33m\u001b[0m\u001b[0m\n\u001b[0m\u001b[0;32m    420\u001b[0m     \u001b[1;32mfinally\u001b[0m\u001b[1;33m:\u001b[0m\u001b[1;33m\u001b[0m\u001b[1;33m\u001b[0m\u001b[0m\n\u001b[0;32m    421\u001b[0m         \u001b[1;32mif\u001b[0m \u001b[0mopened_new_file\u001b[0m\u001b[1;33m:\u001b[0m\u001b[1;33m\u001b[0m\u001b[1;33m\u001b[0m\u001b[0m\n",
      "\u001b[1;32mC:\\ProgramData\\Anaconda3\\envs\\ten-gpu\\lib\\site-packages\\keras\\engine\\saving.py\u001b[0m in \u001b[0;36m_deserialize_model\u001b[1;34m(f, custom_objects, compile)\u001b[0m\n\u001b[0;32m    222\u001b[0m     \u001b[1;32mif\u001b[0m \u001b[0mmodel_config\u001b[0m \u001b[1;32mis\u001b[0m \u001b[1;32mNone\u001b[0m\u001b[1;33m:\u001b[0m\u001b[1;33m\u001b[0m\u001b[1;33m\u001b[0m\u001b[0m\n\u001b[0;32m    223\u001b[0m         \u001b[1;32mraise\u001b[0m \u001b[0mValueError\u001b[0m\u001b[1;33m(\u001b[0m\u001b[1;34m'No model found in config.'\u001b[0m\u001b[1;33m)\u001b[0m\u001b[1;33m\u001b[0m\u001b[1;33m\u001b[0m\u001b[0m\n\u001b[1;32m--> 224\u001b[1;33m     \u001b[0mmodel_config\u001b[0m \u001b[1;33m=\u001b[0m \u001b[0mjson\u001b[0m\u001b[1;33m.\u001b[0m\u001b[0mloads\u001b[0m\u001b[1;33m(\u001b[0m\u001b[0mmodel_config\u001b[0m\u001b[1;33m.\u001b[0m\u001b[0mdecode\u001b[0m\u001b[1;33m(\u001b[0m\u001b[1;34m'utf-8'\u001b[0m\u001b[1;33m)\u001b[0m\u001b[1;33m)\u001b[0m\u001b[1;33m\u001b[0m\u001b[1;33m\u001b[0m\u001b[0m\n\u001b[0m\u001b[0;32m    225\u001b[0m     \u001b[0mmodel\u001b[0m \u001b[1;33m=\u001b[0m \u001b[0mmodel_from_config\u001b[0m\u001b[1;33m(\u001b[0m\u001b[0mmodel_config\u001b[0m\u001b[1;33m,\u001b[0m \u001b[0mcustom_objects\u001b[0m\u001b[1;33m=\u001b[0m\u001b[0mcustom_objects\u001b[0m\u001b[1;33m)\u001b[0m\u001b[1;33m\u001b[0m\u001b[1;33m\u001b[0m\u001b[0m\n\u001b[0;32m    226\u001b[0m     \u001b[0mmodel_weights_group\u001b[0m \u001b[1;33m=\u001b[0m \u001b[0mf\u001b[0m\u001b[1;33m[\u001b[0m\u001b[1;34m'model_weights'\u001b[0m\u001b[1;33m]\u001b[0m\u001b[1;33m\u001b[0m\u001b[1;33m\u001b[0m\u001b[0m\n",
      "\u001b[1;31mAttributeError\u001b[0m: 'str' object has no attribute 'decode'"
     ]
    }
   ],
   "source": [
    "old_model = keras.models.load_model('housing_model.h5')"
   ]
  },
  {
   "cell_type": "code",
   "execution_count": 14,
   "id": "supreme-indicator",
   "metadata": {},
   "outputs": [
    {
     "name": "stdout",
     "output_type": "stream",
     "text": [
      "[[204762.17]]\n"
     ]
    }
   ],
   "source": [
    "test_data = np.array([2003,854,1710,2,1,3,8,2008]) # Row 0 of Data\n",
    "print(model.predict(test_data.reshape(1,8), batch_size=1))"
   ]
  },
  {
   "cell_type": "code",
   "execution_count": null,
   "id": "crazy-estimate",
   "metadata": {},
   "outputs": [],
   "source": []
  }
 ],
 "metadata": {
  "kernelspec": {
   "display_name": "Python 3",
   "language": "python",
   "name": "python3"
  },
  "language_info": {
   "codemirror_mode": {
    "name": "ipython",
    "version": 3
   },
   "file_extension": ".py",
   "mimetype": "text/x-python",
   "name": "python",
   "nbconvert_exporter": "python",
   "pygments_lexer": "ipython3",
   "version": "3.6.13"
  }
 },
 "nbformat": 4,
 "nbformat_minor": 5
}
