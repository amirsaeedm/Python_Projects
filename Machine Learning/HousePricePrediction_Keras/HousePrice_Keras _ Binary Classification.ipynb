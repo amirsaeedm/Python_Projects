{
 "cells": [
  {
   "cell_type": "markdown",
   "id": "sound-profit",
   "metadata": {},
   "source": [
    "### This Program predicts if the price of a house will be above the median price or not, based on its features using Deep Learning"
   ]
  },
  {
   "cell_type": "code",
   "execution_count": 1,
   "id": "laughing-median",
   "metadata": {},
   "outputs": [
    {
     "name": "stderr",
     "output_type": "stream",
     "text": [
      "Using TensorFlow backend.\n"
     ]
    }
   ],
   "source": [
    "from keras.models import Sequential   # Initialize ANN\n",
    "from keras.layers import Dense        # Tell us number of layers, Neurons per layer and Activation function\n",
    "from sklearn.model_selection import train_test_split\n",
    "from sklearn.preprocessing import MinMaxScaler\n",
    "import matplotlib.pyplot as plt\n",
    "%matplotlib inline\n",
    "import pandas as pd\n",
    "import numpy as np"
   ]
  },
  {
   "cell_type": "code",
   "execution_count": 2,
   "id": "occupied-equipment",
   "metadata": {},
   "outputs": [],
   "source": [
    "df = pd.read_csv('housepricedata.csv')"
   ]
  },
  {
   "cell_type": "code",
   "execution_count": 3,
   "id": "welsh-anthony",
   "metadata": {},
   "outputs": [
    {
     "data": {
      "text/html": [
       "<div>\n",
       "<style scoped>\n",
       "    .dataframe tbody tr th:only-of-type {\n",
       "        vertical-align: middle;\n",
       "    }\n",
       "\n",
       "    .dataframe tbody tr th {\n",
       "        vertical-align: top;\n",
       "    }\n",
       "\n",
       "    .dataframe thead th {\n",
       "        text-align: right;\n",
       "    }\n",
       "</style>\n",
       "<table border=\"1\" class=\"dataframe\">\n",
       "  <thead>\n",
       "    <tr style=\"text-align: right;\">\n",
       "      <th></th>\n",
       "      <th>LotArea</th>\n",
       "      <th>OverallQual</th>\n",
       "      <th>OverallCond</th>\n",
       "      <th>TotalBsmtSF</th>\n",
       "      <th>FullBath</th>\n",
       "      <th>HalfBath</th>\n",
       "      <th>BedroomAbvGr</th>\n",
       "      <th>TotRmsAbvGrd</th>\n",
       "      <th>Fireplaces</th>\n",
       "      <th>GarageArea</th>\n",
       "      <th>AboveMedianPrice</th>\n",
       "    </tr>\n",
       "  </thead>\n",
       "  <tbody>\n",
       "    <tr>\n",
       "      <th>0</th>\n",
       "      <td>8450</td>\n",
       "      <td>7</td>\n",
       "      <td>5</td>\n",
       "      <td>856</td>\n",
       "      <td>2</td>\n",
       "      <td>1</td>\n",
       "      <td>3</td>\n",
       "      <td>8</td>\n",
       "      <td>0</td>\n",
       "      <td>548</td>\n",
       "      <td>1</td>\n",
       "    </tr>\n",
       "    <tr>\n",
       "      <th>1</th>\n",
       "      <td>9600</td>\n",
       "      <td>6</td>\n",
       "      <td>8</td>\n",
       "      <td>1262</td>\n",
       "      <td>2</td>\n",
       "      <td>0</td>\n",
       "      <td>3</td>\n",
       "      <td>6</td>\n",
       "      <td>1</td>\n",
       "      <td>460</td>\n",
       "      <td>1</td>\n",
       "    </tr>\n",
       "    <tr>\n",
       "      <th>2</th>\n",
       "      <td>11250</td>\n",
       "      <td>7</td>\n",
       "      <td>5</td>\n",
       "      <td>920</td>\n",
       "      <td>2</td>\n",
       "      <td>1</td>\n",
       "      <td>3</td>\n",
       "      <td>6</td>\n",
       "      <td>1</td>\n",
       "      <td>608</td>\n",
       "      <td>1</td>\n",
       "    </tr>\n",
       "    <tr>\n",
       "      <th>3</th>\n",
       "      <td>9550</td>\n",
       "      <td>7</td>\n",
       "      <td>5</td>\n",
       "      <td>756</td>\n",
       "      <td>1</td>\n",
       "      <td>0</td>\n",
       "      <td>3</td>\n",
       "      <td>7</td>\n",
       "      <td>1</td>\n",
       "      <td>642</td>\n",
       "      <td>0</td>\n",
       "    </tr>\n",
       "    <tr>\n",
       "      <th>4</th>\n",
       "      <td>14260</td>\n",
       "      <td>8</td>\n",
       "      <td>5</td>\n",
       "      <td>1145</td>\n",
       "      <td>2</td>\n",
       "      <td>1</td>\n",
       "      <td>4</td>\n",
       "      <td>9</td>\n",
       "      <td>1</td>\n",
       "      <td>836</td>\n",
       "      <td>1</td>\n",
       "    </tr>\n",
       "  </tbody>\n",
       "</table>\n",
       "</div>"
      ],
      "text/plain": [
       "   LotArea  OverallQual  OverallCond  TotalBsmtSF  FullBath  HalfBath  \\\n",
       "0     8450            7            5          856         2         1   \n",
       "1     9600            6            8         1262         2         0   \n",
       "2    11250            7            5          920         2         1   \n",
       "3     9550            7            5          756         1         0   \n",
       "4    14260            8            5         1145         2         1   \n",
       "\n",
       "   BedroomAbvGr  TotRmsAbvGrd  Fireplaces  GarageArea  AboveMedianPrice  \n",
       "0             3             8           0         548                 1  \n",
       "1             3             6           1         460                 1  \n",
       "2             3             6           1         608                 1  \n",
       "3             3             7           1         642                 0  \n",
       "4             4             9           1         836                 1  "
      ]
     },
     "execution_count": 3,
     "metadata": {},
     "output_type": "execute_result"
    }
   ],
   "source": [
    "df.head()"
   ]
  },
  {
   "cell_type": "code",
   "execution_count": 4,
   "id": "absent-cleaning",
   "metadata": {},
   "outputs": [
    {
     "data": {
      "text/plain": [
       "(1460, 11)"
      ]
     },
     "execution_count": 4,
     "metadata": {},
     "output_type": "execute_result"
    }
   ],
   "source": [
    "# Convert Data into array\n",
    "dataset = df.values\n",
    "dataset.shape"
   ]
  },
  {
   "cell_type": "code",
   "execution_count": 5,
   "id": "solid-grain",
   "metadata": {},
   "outputs": [],
   "source": [
    "# Split Dataset into Indedpendant and Dependant\n",
    "X = dataset[:,0:10] # Get all the rows of Columns 1 to 10\n",
    "Y = dataset[:,10]   # Get all the rows of Column 11 i.e.AboveMedianPrice"
   ]
  },
  {
   "cell_type": "code",
   "execution_count": 6,
   "id": "maritime-continuity",
   "metadata": {},
   "outputs": [
    {
     "name": "stdout",
     "output_type": "stream",
     "text": [
      "(1460, 10)\n",
      "(1460,)\n"
     ]
    }
   ],
   "source": [
    "print(X.shape)\n",
    "print(Y.shape)"
   ]
  },
  {
   "cell_type": "code",
   "execution_count": 7,
   "id": "together-martial",
   "metadata": {},
   "outputs": [
    {
     "name": "stdout",
     "output_type": "stream",
     "text": [
      "(1460, 10)\n"
     ]
    },
    {
     "data": {
      "text/plain": [
       "array([[0.0334198 , 0.66666667, 0.5       , ..., 0.5       , 0.        ,\n",
       "        0.3864598 ],\n",
       "       [0.03879502, 0.55555556, 0.875     , ..., 0.33333333, 0.33333333,\n",
       "        0.32440056],\n",
       "       [0.04650728, 0.66666667, 0.5       , ..., 0.33333333, 0.33333333,\n",
       "        0.42877292],\n",
       "       ...,\n",
       "       [0.03618687, 0.66666667, 1.        , ..., 0.58333333, 0.66666667,\n",
       "        0.17771509],\n",
       "       [0.03934189, 0.44444444, 0.625     , ..., 0.25      , 0.        ,\n",
       "        0.16925247],\n",
       "       [0.04037019, 0.44444444, 0.625     , ..., 0.33333333, 0.        ,\n",
       "        0.19464034]])"
      ]
     },
     "execution_count": 7,
     "metadata": {},
     "output_type": "execute_result"
    }
   ],
   "source": [
    "# Use MinMax Scaller to scale all features\n",
    "min_max_scaler = MinMaxScaler()\n",
    "X_scale = min_max_scaler.fit_transform(X)\n",
    "print(X_scale.shape)\n",
    "X_scale"
   ]
  },
  {
   "cell_type": "code",
   "execution_count": 8,
   "id": "selective-spelling",
   "metadata": {},
   "outputs": [],
   "source": [
    "# Split Data to 80-20 Train-Test Data and then further Testing data to \n",
    "# 10% Testing and 10% Validation\n",
    "\n",
    "X_train, X_val_test, Y_train, Y_val_test = train_test_split(X_scale,Y,\n",
    "                                                            test_size=0.2)\n",
    "X_val, X_test, Y_val, Y_test = train_test_split(X_val_test,Y_val_test,\n",
    "                                               test_size=0.5)"
   ]
  },
  {
   "cell_type": "code",
   "execution_count": 9,
   "id": "behind-athletics",
   "metadata": {},
   "outputs": [
    {
     "name": "stdout",
     "output_type": "stream",
     "text": [
      "(1168, 10)\n",
      "(1168,)\n",
      "(146, 10)\n",
      "(146,)\n",
      "(146, 10)\n",
      "(146,)\n"
     ]
    }
   ],
   "source": [
    "print(X_train.shape)\n",
    "print(Y_train.shape)\n",
    "print(X_val.shape)\n",
    "print(Y_val.shape)\n",
    "print(X_test.shape)\n",
    "print(Y_test.shape)"
   ]
  },
  {
   "cell_type": "code",
   "execution_count": 10,
   "id": "missing-membrane",
   "metadata": {},
   "outputs": [],
   "source": [
    "# Build Model and Architecture of Deep Neural Network\n",
    "\n",
    "model = Sequential()  # Initialize ANN\n",
    "# Add layers of Neural Network = 4 , input_dim = number oof features\n",
    "# units = 32 is number of neurons\n",
    "model.add(Dense(units = 32, activation='relu', input_dim=10))\n",
    "model.add(Dense(units = 32, activation='relu'))\n",
    "model.add(Dense(units = 32, activation='relu'))\n",
    "model.add(Dense(units = 1, activation='sigmoid'))"
   ]
  },
  {
   "cell_type": "code",
   "execution_count": 11,
   "id": "radical-secretariat",
   "metadata": {},
   "outputs": [],
   "source": [
    "# Loss Function measures how well the model did on training and then tries\n",
    "# to improve on it using optimizer\n",
    "model.compile(optimizer = 'sgd',\n",
    "             loss = 'binary_crossentropy',\n",
    "             metrics = ['accuracy'])"
   ]
  },
  {
   "cell_type": "code",
   "execution_count": 12,
   "id": "local-variation",
   "metadata": {
    "scrolled": true
   },
   "outputs": [
    {
     "name": "stdout",
     "output_type": "stream",
     "text": [
      "Train on 1168 samples, validate on 146 samples\n",
      "Epoch 1/100\n",
      "1168/1168 [==============================] - 3s 2ms/step - loss: 0.6992 - acc: 0.4752 - val_loss: 0.6955 - val_acc: 0.4110\n",
      "Epoch 2/100\n",
      "1168/1168 [==============================] - 0s 119us/step - loss: 0.6932 - acc: 0.4795 - val_loss: 0.6926 - val_acc: 0.4726\n",
      "Epoch 3/100\n",
      "1168/1168 [==============================] - 0s 148us/step - loss: 0.6893 - acc: 0.5334 - val_loss: 0.6903 - val_acc: 0.4795\n",
      "Epoch 4/100\n",
      "1168/1168 [==============================] - 0s 133us/step - loss: 0.6858 - acc: 0.5068 - val_loss: 0.6873 - val_acc: 0.4795\n",
      "Epoch 5/100\n",
      "1168/1168 [==============================] - 0s 101us/step - loss: 0.6826 - acc: 0.5077 - val_loss: 0.6843 - val_acc: 0.4795\n",
      "Epoch 6/100\n",
      "1168/1168 [==============================] - 0s 160us/step - loss: 0.6792 - acc: 0.5068 - val_loss: 0.6808 - val_acc: 0.4863\n",
      "Epoch 7/100\n",
      "1168/1168 [==============================] - 0s 123us/step - loss: 0.6756 - acc: 0.5146 - val_loss: 0.6773 - val_acc: 0.4932\n",
      "Epoch 8/100\n",
      "1168/1168 [==============================] - 0s 155us/step - loss: 0.6719 - acc: 0.5368 - val_loss: 0.6738 - val_acc: 0.4932\n",
      "Epoch 9/100\n",
      "1168/1168 [==============================] - 0s 110us/step - loss: 0.6679 - acc: 0.5505 - val_loss: 0.6697 - val_acc: 0.5068\n",
      "Epoch 10/100\n",
      "1168/1168 [==============================] - 0s 150us/step - loss: 0.6638 - acc: 0.5788 - val_loss: 0.6650 - val_acc: 0.5411\n",
      "Epoch 11/100\n",
      "1168/1168 [==============================] - 0s 141us/step - loss: 0.6589 - acc: 0.6490 - val_loss: 0.6601 - val_acc: 0.5753\n",
      "Epoch 12/100\n",
      "1168/1168 [==============================] - 0s 145us/step - loss: 0.6535 - acc: 0.6310 - val_loss: 0.6537 - val_acc: 0.6781\n",
      "Epoch 13/100\n",
      "1168/1168 [==============================] - 0s 153us/step - loss: 0.6476 - acc: 0.7209 - val_loss: 0.6474 - val_acc: 0.7055\n",
      "Epoch 14/100\n",
      "1168/1168 [==============================] - 0s 161us/step - loss: 0.6412 - acc: 0.7603 - val_loss: 0.6409 - val_acc: 0.7123\n",
      "Epoch 15/100\n",
      "1168/1168 [==============================] - 0s 134us/step - loss: 0.6340 - acc: 0.7432 - val_loss: 0.6327 - val_acc: 0.7671\n",
      "Epoch 16/100\n",
      "1168/1168 [==============================] - 0s 131us/step - loss: 0.6265 - acc: 0.7825 - val_loss: 0.6243 - val_acc: 0.7808\n",
      "Epoch 17/100\n",
      "1168/1168 [==============================] - 0s 99us/step - loss: 0.6181 - acc: 0.7962 - val_loss: 0.6150 - val_acc: 0.7740\n",
      "Epoch 18/100\n",
      "1168/1168 [==============================] - 0s 165us/step - loss: 0.6092 - acc: 0.8253 - val_loss: 0.6059 - val_acc: 0.7808\n",
      "Epoch 19/100\n",
      "1168/1168 [==============================] - 0s 163us/step - loss: 0.5994 - acc: 0.8253 - val_loss: 0.5955 - val_acc: 0.7808\n",
      "Epoch 20/100\n",
      "1168/1168 [==============================] - 0s 186us/step - loss: 0.5888 - acc: 0.8288 - val_loss: 0.5839 - val_acc: 0.7808\n",
      "Epoch 21/100\n",
      "1168/1168 [==============================] - 0s 178us/step - loss: 0.5775 - acc: 0.8416 - val_loss: 0.5732 - val_acc: 0.7808\n",
      "Epoch 22/100\n",
      "1168/1168 [==============================] - 0s 119us/step - loss: 0.5657 - acc: 0.8348 - val_loss: 0.5596 - val_acc: 0.7945\n",
      "Epoch 23/100\n",
      "1168/1168 [==============================] - 0s 158us/step - loss: 0.5531 - acc: 0.8399 - val_loss: 0.5449 - val_acc: 0.8151\n",
      "Epoch 24/100\n",
      "1168/1168 [==============================] - 0s 116us/step - loss: 0.5388 - acc: 0.8408 - val_loss: 0.5293 - val_acc: 0.8356\n",
      "Epoch 25/100\n",
      "1168/1168 [==============================] - 0s 163us/step - loss: 0.5238 - acc: 0.8519 - val_loss: 0.5129 - val_acc: 0.8562\n",
      "Epoch 26/100\n",
      "1168/1168 [==============================] - 0s 158us/step - loss: 0.5083 - acc: 0.8570 - val_loss: 0.4965 - val_acc: 0.8562\n",
      "Epoch 27/100\n",
      "1168/1168 [==============================] - 0s 124us/step - loss: 0.4934 - acc: 0.8545 - val_loss: 0.4801 - val_acc: 0.8630\n",
      "Epoch 28/100\n",
      "1168/1168 [==============================] - 0s 176us/step - loss: 0.4786 - acc: 0.8579 - val_loss: 0.4636 - val_acc: 0.8630\n",
      "Epoch 29/100\n",
      "1168/1168 [==============================] - 0s 142us/step - loss: 0.4649 - acc: 0.8622 - val_loss: 0.4488 - val_acc: 0.8630\n",
      "Epoch 30/100\n",
      "1168/1168 [==============================] - 0s 166us/step - loss: 0.4509 - acc: 0.8630 - val_loss: 0.4396 - val_acc: 0.8630\n",
      "Epoch 31/100\n",
      "1168/1168 [==============================] - 0s 205us/step - loss: 0.4381 - acc: 0.8630 - val_loss: 0.4238 - val_acc: 0.8699\n",
      "Epoch 32/100\n",
      "1168/1168 [==============================] - 0s 165us/step - loss: 0.4255 - acc: 0.8647 - val_loss: 0.4058 - val_acc: 0.8767\n",
      "Epoch 33/100\n",
      "1168/1168 [==============================] - 0s 136us/step - loss: 0.4128 - acc: 0.8707 - val_loss: 0.3929 - val_acc: 0.8630\n",
      "Epoch 34/100\n",
      "1168/1168 [==============================] - 0s 144us/step - loss: 0.4018 - acc: 0.8724 - val_loss: 0.3836 - val_acc: 0.8767\n",
      "Epoch 35/100\n",
      "1168/1168 [==============================] - 0s 171us/step - loss: 0.3916 - acc: 0.8690 - val_loss: 0.3693 - val_acc: 0.8630\n",
      "Epoch 36/100\n",
      "1168/1168 [==============================] - 0s 141us/step - loss: 0.3814 - acc: 0.8733 - val_loss: 0.3572 - val_acc: 0.8699\n",
      "Epoch 37/100\n",
      "1168/1168 [==============================] - 0s 141us/step - loss: 0.3724 - acc: 0.8818 - val_loss: 0.3484 - val_acc: 0.8699\n",
      "Epoch 38/100\n",
      "1168/1168 [==============================] - 0s 176us/step - loss: 0.3637 - acc: 0.8793 - val_loss: 0.3418 - val_acc: 0.8767\n",
      "Epoch 39/100\n",
      "1168/1168 [==============================] - 0s 151us/step - loss: 0.3559 - acc: 0.8733 - val_loss: 0.3325 - val_acc: 0.8699\n",
      "Epoch 40/100\n",
      "1168/1168 [==============================] - 0s 140us/step - loss: 0.3492 - acc: 0.8810 - val_loss: 0.3208 - val_acc: 0.8836\n",
      "Epoch 41/100\n",
      "1168/1168 [==============================] - 0s 167us/step - loss: 0.3428 - acc: 0.8810 - val_loss: 0.3163 - val_acc: 0.8699\n",
      "Epoch 42/100\n",
      "1168/1168 [==============================] - 0s 143us/step - loss: 0.3365 - acc: 0.8784 - val_loss: 0.3073 - val_acc: 0.8836\n",
      "Epoch 43/100\n",
      "1168/1168 [==============================] - 0s 135us/step - loss: 0.3310 - acc: 0.8793 - val_loss: 0.3084 - val_acc: 0.8767\n",
      "Epoch 44/100\n",
      "1168/1168 [==============================] - 0s 175us/step - loss: 0.3260 - acc: 0.8767 - val_loss: 0.2960 - val_acc: 0.8699\n",
      "Epoch 45/100\n",
      "1168/1168 [==============================] - 0s 137us/step - loss: 0.3221 - acc: 0.8793 - val_loss: 0.2952 - val_acc: 0.8973\n",
      "Epoch 46/100\n",
      "1168/1168 [==============================] - 0s 141us/step - loss: 0.3167 - acc: 0.8750 - val_loss: 0.2929 - val_acc: 0.8904\n",
      "Epoch 47/100\n",
      "1168/1168 [==============================] - 0s 132us/step - loss: 0.3141 - acc: 0.8776 - val_loss: 0.2897 - val_acc: 0.8904\n",
      "Epoch 48/100\n",
      "1168/1168 [==============================] - 0s 158us/step - loss: 0.3116 - acc: 0.8836 - val_loss: 0.2870 - val_acc: 0.8904\n",
      "Epoch 49/100\n",
      "1168/1168 [==============================] - 0s 166us/step - loss: 0.3075 - acc: 0.8836 - val_loss: 0.2767 - val_acc: 0.8767\n",
      "Epoch 50/100\n",
      "1168/1168 [==============================] - 0s 175us/step - loss: 0.3044 - acc: 0.8793 - val_loss: 0.2771 - val_acc: 0.8973\n",
      "Epoch 51/100\n",
      "1168/1168 [==============================] - 0s 159us/step - loss: 0.3025 - acc: 0.8784 - val_loss: 0.2809 - val_acc: 0.8904\n",
      "Epoch 52/100\n",
      "1168/1168 [==============================] - 0s 177us/step - loss: 0.2979 - acc: 0.8836 - val_loss: 0.2690 - val_acc: 0.8767\n",
      "Epoch 53/100\n",
      "1168/1168 [==============================] - 0s 119us/step - loss: 0.2979 - acc: 0.8844 - val_loss: 0.2698 - val_acc: 0.8904\n",
      "Epoch 54/100\n",
      "1168/1168 [==============================] - 0s 116us/step - loss: 0.2931 - acc: 0.8801 - val_loss: 0.2660 - val_acc: 0.8904\n",
      "Epoch 55/100\n",
      "1168/1168 [==============================] - 0s 147us/step - loss: 0.2930 - acc: 0.8853 - val_loss: 0.2627 - val_acc: 0.8904\n",
      "Epoch 56/100\n",
      "1168/1168 [==============================] - 0s 170us/step - loss: 0.2924 - acc: 0.8818 - val_loss: 0.2621 - val_acc: 0.8904\n",
      "Epoch 57/100\n",
      "1168/1168 [==============================] - 0s 149us/step - loss: 0.2894 - acc: 0.8896 - val_loss: 0.2628 - val_acc: 0.8904\n",
      "Epoch 58/100\n",
      "1168/1168 [==============================] - 0s 135us/step - loss: 0.2879 - acc: 0.8870 - val_loss: 0.2579 - val_acc: 0.8904\n",
      "Epoch 59/100\n",
      "1168/1168 [==============================] - 0s 151us/step - loss: 0.2868 - acc: 0.8844 - val_loss: 0.2573 - val_acc: 0.8973\n",
      "Epoch 60/100\n"
     ]
    },
    {
     "name": "stdout",
     "output_type": "stream",
     "text": [
      "1168/1168 [==============================] - 0s 119us/step - loss: 0.2854 - acc: 0.8853 - val_loss: 0.2571 - val_acc: 0.9041\n",
      "Epoch 61/100\n",
      "1168/1168 [==============================] - 0s 177us/step - loss: 0.2841 - acc: 0.8904 - val_loss: 0.2554 - val_acc: 0.9041\n",
      "Epoch 62/100\n",
      "1168/1168 [==============================] - 0s 131us/step - loss: 0.2824 - acc: 0.8887 - val_loss: 0.2536 - val_acc: 0.8973\n",
      "Epoch 63/100\n",
      "1168/1168 [==============================] - 0s 150us/step - loss: 0.2813 - acc: 0.8844 - val_loss: 0.2567 - val_acc: 0.9041\n",
      "Epoch 64/100\n",
      "1168/1168 [==============================] - 0s 120us/step - loss: 0.2811 - acc: 0.8870 - val_loss: 0.2522 - val_acc: 0.8973\n",
      "Epoch 65/100\n",
      "1168/1168 [==============================] - 0s 155us/step - loss: 0.2800 - acc: 0.8904 - val_loss: 0.2670 - val_acc: 0.8904\n",
      "Epoch 66/100\n",
      "1168/1168 [==============================] - 0s 183us/step - loss: 0.2782 - acc: 0.8853 - val_loss: 0.2518 - val_acc: 0.9041\n",
      "Epoch 67/100\n",
      "1168/1168 [==============================] - 0s 183us/step - loss: 0.2778 - acc: 0.8878 - val_loss: 0.2507 - val_acc: 0.9041\n",
      "Epoch 68/100\n",
      "1168/1168 [==============================] - 0s 139us/step - loss: 0.2755 - acc: 0.8870 - val_loss: 0.2544 - val_acc: 0.9041\n",
      "Epoch 69/100\n",
      "1168/1168 [==============================] - 0s 113us/step - loss: 0.2749 - acc: 0.8870 - val_loss: 0.2602 - val_acc: 0.8904\n",
      "Epoch 70/100\n",
      "1168/1168 [==============================] - 0s 146us/step - loss: 0.2742 - acc: 0.8818 - val_loss: 0.2498 - val_acc: 0.9041\n",
      "Epoch 71/100\n",
      "1168/1168 [==============================] - 0s 137us/step - loss: 0.2746 - acc: 0.8887 - val_loss: 0.2486 - val_acc: 0.8973\n",
      "Epoch 72/100\n",
      "1168/1168 [==============================] - 0s 126us/step - loss: 0.2724 - acc: 0.8887 - val_loss: 0.2557 - val_acc: 0.9041\n",
      "Epoch 73/100\n",
      "1168/1168 [==============================] - 0s 178us/step - loss: 0.2739 - acc: 0.8896 - val_loss: 0.2504 - val_acc: 0.8973\n",
      "Epoch 74/100\n",
      "1168/1168 [==============================] - 0s 139us/step - loss: 0.2723 - acc: 0.8887 - val_loss: 0.2476 - val_acc: 0.8904\n",
      "Epoch 75/100\n",
      "1168/1168 [==============================] - 0s 112us/step - loss: 0.2711 - acc: 0.8861 - val_loss: 0.2469 - val_acc: 0.8973\n",
      "Epoch 76/100\n",
      "1168/1168 [==============================] - 0s 100us/step - loss: 0.2706 - acc: 0.8904 - val_loss: 0.2458 - val_acc: 0.8904\n",
      "Epoch 77/100\n",
      "1168/1168 [==============================] - 0s 139us/step - loss: 0.2706 - acc: 0.8904 - val_loss: 0.2481 - val_acc: 0.8904\n",
      "Epoch 78/100\n",
      "1168/1168 [==============================] - 0s 151us/step - loss: 0.2685 - acc: 0.8844 - val_loss: 0.2453 - val_acc: 0.8904\n",
      "Epoch 79/100\n",
      "1168/1168 [==============================] - 0s 205us/step - loss: 0.2666 - acc: 0.8878 - val_loss: 0.2455 - val_acc: 0.9041\n",
      "Epoch 80/100\n",
      "1168/1168 [==============================] - 0s 157us/step - loss: 0.2671 - acc: 0.8887 - val_loss: 0.2450 - val_acc: 0.8973\n",
      "Epoch 81/100\n",
      "1168/1168 [==============================] - 0s 141us/step - loss: 0.2672 - acc: 0.8870 - val_loss: 0.2443 - val_acc: 0.9041\n",
      "Epoch 82/100\n",
      "1168/1168 [==============================] - 0s 194us/step - loss: 0.2660 - acc: 0.8896 - val_loss: 0.2483 - val_acc: 0.8973\n",
      "Epoch 83/100\n",
      "1168/1168 [==============================] - 0s 137us/step - loss: 0.2661 - acc: 0.8861 - val_loss: 0.2440 - val_acc: 0.8904\n",
      "Epoch 84/100\n",
      "1168/1168 [==============================] - 0s 113us/step - loss: 0.2650 - acc: 0.8921 - val_loss: 0.2480 - val_acc: 0.9041\n",
      "Epoch 85/100\n",
      "1168/1168 [==============================] - 0s 141us/step - loss: 0.2636 - acc: 0.8887 - val_loss: 0.2495 - val_acc: 0.8973\n",
      "Epoch 86/100\n",
      "1168/1168 [==============================] - 0s 174us/step - loss: 0.2647 - acc: 0.8921 - val_loss: 0.2431 - val_acc: 0.8904\n",
      "Epoch 87/100\n",
      "1168/1168 [==============================] - 0s 135us/step - loss: 0.2624 - acc: 0.8947 - val_loss: 0.2438 - val_acc: 0.9041\n",
      "Epoch 88/100\n",
      "1168/1168 [==============================] - 0s 163us/step - loss: 0.2634 - acc: 0.8861 - val_loss: 0.2491 - val_acc: 0.8973\n",
      "Epoch 89/100\n",
      "1168/1168 [==============================] - 0s 130us/step - loss: 0.2649 - acc: 0.8887 - val_loss: 0.2452 - val_acc: 0.8973\n",
      "Epoch 90/100\n",
      "1168/1168 [==============================] - 0s 139us/step - loss: 0.2631 - acc: 0.8921 - val_loss: 0.2464 - val_acc: 0.8973\n",
      "Epoch 91/100\n",
      "1168/1168 [==============================] - 0s 156us/step - loss: 0.2611 - acc: 0.8938 - val_loss: 0.2428 - val_acc: 0.9041\n",
      "Epoch 92/100\n",
      "1168/1168 [==============================] - 0s 151us/step - loss: 0.2636 - acc: 0.8904 - val_loss: 0.2452 - val_acc: 0.8973\n",
      "Epoch 93/100\n",
      "1168/1168 [==============================] - 0s 146us/step - loss: 0.2612 - acc: 0.8947 - val_loss: 0.2415 - val_acc: 0.8904\n",
      "Epoch 94/100\n",
      "1168/1168 [==============================] - 0s 126us/step - loss: 0.2601 - acc: 0.8947 - val_loss: 0.2412 - val_acc: 0.9110\n",
      "Epoch 95/100\n",
      "1168/1168 [==============================] - 0s 113us/step - loss: 0.2579 - acc: 0.8964 - val_loss: 0.2772 - val_acc: 0.8836\n",
      "Epoch 96/100\n",
      "1168/1168 [==============================] - 0s 136us/step - loss: 0.2621 - acc: 0.8921 - val_loss: 0.2419 - val_acc: 0.8836\n",
      "Epoch 97/100\n",
      "1168/1168 [==============================] - 0s 155us/step - loss: 0.2616 - acc: 0.8938 - val_loss: 0.2432 - val_acc: 0.8904\n",
      "Epoch 98/100\n",
      "1168/1168 [==============================] - 0s 165us/step - loss: 0.2578 - acc: 0.8938 - val_loss: 0.2483 - val_acc: 0.8973\n",
      "Epoch 99/100\n",
      "1168/1168 [==============================] - 0s 154us/step - loss: 0.2603 - acc: 0.8921 - val_loss: 0.2414 - val_acc: 0.9041\n",
      "Epoch 100/100\n",
      "1168/1168 [==============================] - 0s 135us/step - loss: 0.2604 - acc: 0.8904 - val_loss: 0.2412 - val_acc: 0.9110\n"
     ]
    }
   ],
   "source": [
    "# Train the model\n",
    "\n",
    "hist = model.fit(\n",
    "    X_train, Y_train,\n",
    "    batch_size=32, epochs = 100,\n",
    "    validation_data = (X_val, Y_val)\n",
    ")"
   ]
  },
  {
   "cell_type": "code",
   "execution_count": 13,
   "id": "injured-training",
   "metadata": {},
   "outputs": [
    {
     "name": "stdout",
     "output_type": "stream",
     "text": [
      "146/146 [==============================] - 0s 112us/step\n"
     ]
    },
    {
     "data": {
      "text/plain": [
       "0.8972602707065948"
      ]
     },
     "execution_count": 13,
     "metadata": {},
     "output_type": "execute_result"
    }
   ],
   "source": [
    "# Evaluate the model\n",
    "\n",
    "model.evaluate(X_test, Y_test)[1]  # Position 1  will will return accuracy"
   ]
  },
  {
   "cell_type": "code",
   "execution_count": 14,
   "id": "induced-heart",
   "metadata": {},
   "outputs": [
    {
     "data": {
      "text/plain": [
       "array([0.96608436], dtype=float32)"
      ]
     },
     "execution_count": 14,
     "metadata": {},
     "output_type": "execute_result"
    }
   ],
   "source": [
    "# Make a Prediction\n",
    "# All these predictions are pencentages\n",
    "# Since our objective is to predict the price is above or below Median Price\n",
    "# So we will seturp a Thresold to form our output lable\n",
    "\n",
    "prediction = model.predict(X_test)\n",
    "prediction[0]"
   ]
  },
  {
   "cell_type": "code",
   "execution_count": 15,
   "id": "temporal-temple",
   "metadata": {},
   "outputs": [],
   "source": [
    "prediction2 = np.where(prediction>= 0.87, 1,0 )"
   ]
  },
  {
   "cell_type": "code",
   "execution_count": 16,
   "id": "cleared-particle",
   "metadata": {},
   "outputs": [],
   "source": [
    "prediction1 = [1 if y>=0.87 else 0 for y in prediction]"
   ]
  },
  {
   "cell_type": "code",
   "execution_count": 17,
   "id": "fixed-starter",
   "metadata": {},
   "outputs": [
    {
     "data": {
      "text/plain": [
       "94"
      ]
     },
     "execution_count": 17,
     "metadata": {},
     "output_type": "execute_result"
    }
   ],
   "source": [
    "len(prediction2[prediction2 ==0])"
   ]
  },
  {
   "cell_type": "code",
   "execution_count": null,
   "id": "respiratory-starter",
   "metadata": {},
   "outputs": [],
   "source": []
  },
  {
   "cell_type": "code",
   "execution_count": 18,
   "id": "dramatic-broadway",
   "metadata": {},
   "outputs": [
    {
     "data": {
      "text/plain": [
       "dict_keys(['val_loss', 'val_acc', 'loss', 'acc'])"
      ]
     },
     "execution_count": 18,
     "metadata": {},
     "output_type": "execute_result"
    }
   ],
   "source": [
    "hist.history.keys()"
   ]
  },
  {
   "cell_type": "code",
   "execution_count": 19,
   "id": "stable-discharge",
   "metadata": {},
   "outputs": [
    {
     "data": {
      "text/plain": [
       "<matplotlib.legend.Legend at 0x21e853719e8>"
      ]
     },
     "execution_count": 19,
     "metadata": {},
     "output_type": "execute_result"
    },
    {
     "data": {
      "image/png": "[encoded data removed]",
      "text/plain": [
       "<Figure size 432x288 with 1 Axes>"
      ]
     },
     "metadata": {
      "needs_background": "light"
     },
     "output_type": "display_data"
    }
   ],
   "source": [
    "# Visuialize the Training and Valudation Loss to see if Model is overfitting\n",
    "plt.plot(hist.history[\"loss\"])\n",
    "plt.plot(hist.history[\"val_loss\"])\n",
    "plt.title('Model Loss')\n",
    "plt.ylabel('Loss')\n",
    "plt.xlabel('Epochs')\n",
    "plt.legend(['Train', 'Val'])"
   ]
  },
  {
   "cell_type": "code",
   "execution_count": 21,
   "id": "hearing-mining",
   "metadata": {},
   "outputs": [
    {
     "data": {
      "text/plain": [
       "<matplotlib.legend.Legend at 0x21e85bb2da0>"
      ]
     },
     "execution_count": 21,
     "metadata": {},
     "output_type": "execute_result"
    },
    {
     "data": {
      "image/png": "[encoded data removed]",
      "text/plain": [
       "<Figure size 432x288 with 1 Axes>"
      ]
     },
     "metadata": {
      "needs_background": "light"
     },
     "output_type": "display_data"
    }
   ],
   "source": [
    "# Visuialize the Training and Valudation Loss to see if Model is overfitting\n",
    "plt.plot(hist.history[\"acc\"])\n",
    "plt.plot(hist.history[\"val_acc\"])\n",
    "plt.title('Model Accuracy')\n",
    "plt.ylabel('Accuracy')\n",
    "plt.xlabel('Epochs')\n",
    "plt.legend(['Train', 'Val'])"
   ]
  },
  {
   "cell_type": "markdown",
   "id": "turned-hayes",
   "metadata": {},
   "source": [
    "# From both charts its is clear that model is following trend with accuracy > 80% and is not overfitting"
   ]
  },
  {
   "cell_type": "code",
   "execution_count": null,
   "id": "enormous-salon",
   "metadata": {},
   "outputs": [],
   "source": []
  }
 ],
 "metadata": {
  "kernelspec": {
   "display_name": "Python 3",
   "language": "python",
   "name": "python3"
  },
  "language_info": {
   "codemirror_mode": {
    "name": "ipython",
    "version": 3
   },
   "file_extension": ".py",
   "mimetype": "text/x-python",
   "name": "python",
   "nbconvert_exporter": "python",
   "pygments_lexer": "ipython3",
   "version": "3.6.13"
  }
 },
 "nbformat": 4,
 "nbformat_minor": 5
}
