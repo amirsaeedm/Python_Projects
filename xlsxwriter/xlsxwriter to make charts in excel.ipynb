{
 "cells": [
  {
   "cell_type": "code",
   "execution_count": 1,
   "metadata": {},
   "outputs": [],
   "source": [
    "import numpy as np\n",
    "import pandas as pd\n",
    "import xlsxwriter"
   ]
  },
  {
   "cell_type": "code",
   "execution_count": 2,
   "metadata": {},
   "outputs": [
    {
     "data": {
      "text/html": [
       "<div>\n",
       "<style scoped>\n",
       "    .dataframe tbody tr th:only-of-type {\n",
       "        vertical-align: middle;\n",
       "    }\n",
       "\n",
       "    .dataframe tbody tr th {\n",
       "        vertical-align: top;\n",
       "    }\n",
       "\n",
       "    .dataframe thead th {\n",
       "        text-align: right;\n",
       "    }\n",
       "</style>\n",
       "<table border=\"1\" class=\"dataframe\">\n",
       "  <thead>\n",
       "    <tr style=\"text-align: right;\">\n",
       "      <th></th>\n",
       "      <th>Date</th>\n",
       "      <th>High</th>\n",
       "      <th>Low</th>\n",
       "      <th>Open</th>\n",
       "      <th>Close</th>\n",
       "      <th>Volume</th>\n",
       "      <th>Adj Close</th>\n",
       "    </tr>\n",
       "  </thead>\n",
       "  <tbody>\n",
       "    <tr>\n",
       "      <th>0</th>\n",
       "      <td>2017-01-03</td>\n",
       "      <td>758.760010</td>\n",
       "      <td>747.700012</td>\n",
       "      <td>757.919983</td>\n",
       "      <td>753.669983</td>\n",
       "      <td>3521100</td>\n",
       "      <td>753.669983</td>\n",
       "    </tr>\n",
       "    <tr>\n",
       "      <th>1</th>\n",
       "      <td>2017-01-04</td>\n",
       "      <td>759.679993</td>\n",
       "      <td>754.200012</td>\n",
       "      <td>758.390015</td>\n",
       "      <td>757.179993</td>\n",
       "      <td>2510500</td>\n",
       "      <td>757.179993</td>\n",
       "    </tr>\n",
       "    <tr>\n",
       "      <th>2</th>\n",
       "      <td>2017-01-05</td>\n",
       "      <td>782.400024</td>\n",
       "      <td>760.260010</td>\n",
       "      <td>761.549988</td>\n",
       "      <td>780.450012</td>\n",
       "      <td>5830100</td>\n",
       "      <td>780.450012</td>\n",
       "    </tr>\n",
       "    <tr>\n",
       "      <th>3</th>\n",
       "      <td>2017-01-06</td>\n",
       "      <td>799.440002</td>\n",
       "      <td>778.479980</td>\n",
       "      <td>782.359985</td>\n",
       "      <td>795.989990</td>\n",
       "      <td>5986200</td>\n",
       "      <td>795.989990</td>\n",
       "    </tr>\n",
       "    <tr>\n",
       "      <th>4</th>\n",
       "      <td>2017-01-07</td>\n",
       "      <td>801.770020</td>\n",
       "      <td>791.770020</td>\n",
       "      <td>798.000000</td>\n",
       "      <td>796.919983</td>\n",
       "      <td>3446100</td>\n",
       "      <td>796.919983</td>\n",
       "    </tr>\n",
       "  </tbody>\n",
       "</table>\n",
       "</div>"
      ],
      "text/plain": [
       "        Date        High         Low        Open       Close   Volume  \\\n",
       "0 2017-01-03  758.760010  747.700012  757.919983  753.669983  3521100   \n",
       "1 2017-01-04  759.679993  754.200012  758.390015  757.179993  2510500   \n",
       "2 2017-01-05  782.400024  760.260010  761.549988  780.450012  5830100   \n",
       "3 2017-01-06  799.440002  778.479980  782.359985  795.989990  5986200   \n",
       "4 2017-01-07  801.770020  791.770020  798.000000  796.919983  3446100   \n",
       "\n",
       "    Adj Close  \n",
       "0  753.669983  \n",
       "1  757.179993  \n",
       "2  780.450012  \n",
       "3  795.989990  \n",
       "4  796.919983  "
      ]
     },
     "execution_count": 2,
     "metadata": {},
     "output_type": "execute_result"
    }
   ],
   "source": [
    "AMZN_data = pd.read_excel('Stock Prices.xlsx',sheet_name='AMZN')\n",
    "AMZN_data.head()"
   ]
  },
  {
   "cell_type": "code",
   "execution_count": 151,
   "metadata": {},
   "outputs": [
    {
     "data": {
      "text/html": [
       "<div>\n",
       "<style scoped>\n",
       "    .dataframe tbody tr th:only-of-type {\n",
       "        vertical-align: middle;\n",
       "    }\n",
       "\n",
       "    .dataframe tbody tr th {\n",
       "        vertical-align: top;\n",
       "    }\n",
       "\n",
       "    .dataframe thead th {\n",
       "        text-align: right;\n",
       "    }\n",
       "</style>\n",
       "<table border=\"1\" class=\"dataframe\">\n",
       "  <thead>\n",
       "    <tr style=\"text-align: right;\">\n",
       "      <th></th>\n",
       "      <th>Date</th>\n",
       "      <th>High</th>\n",
       "      <th>Low</th>\n",
       "      <th>Open</th>\n",
       "      <th>Close</th>\n",
       "      <th>Volume</th>\n",
       "      <th>Adj Close</th>\n",
       "    </tr>\n",
       "  </thead>\n",
       "  <tbody>\n",
       "    <tr>\n",
       "      <th>0</th>\n",
       "      <td>2017-01-03</td>\n",
       "      <td>758.760010</td>\n",
       "      <td>747.700012</td>\n",
       "      <td>757.919983</td>\n",
       "      <td>753.669983</td>\n",
       "      <td>3521100</td>\n",
       "      <td>753.669983</td>\n",
       "    </tr>\n",
       "    <tr>\n",
       "      <th>1</th>\n",
       "      <td>2017-01-04</td>\n",
       "      <td>759.679993</td>\n",
       "      <td>754.200012</td>\n",
       "      <td>758.390015</td>\n",
       "      <td>757.179993</td>\n",
       "      <td>2510500</td>\n",
       "      <td>757.179993</td>\n",
       "    </tr>\n",
       "    <tr>\n",
       "      <th>2</th>\n",
       "      <td>2017-01-05</td>\n",
       "      <td>782.400024</td>\n",
       "      <td>760.260010</td>\n",
       "      <td>761.549988</td>\n",
       "      <td>780.450012</td>\n",
       "      <td>5830100</td>\n",
       "      <td>780.450012</td>\n",
       "    </tr>\n",
       "    <tr>\n",
       "      <th>3</th>\n",
       "      <td>2017-01-06</td>\n",
       "      <td>799.440002</td>\n",
       "      <td>778.479980</td>\n",
       "      <td>782.359985</td>\n",
       "      <td>795.989990</td>\n",
       "      <td>5986200</td>\n",
       "      <td>795.989990</td>\n",
       "    </tr>\n",
       "    <tr>\n",
       "      <th>4</th>\n",
       "      <td>2017-01-07</td>\n",
       "      <td>801.770020</td>\n",
       "      <td>791.770020</td>\n",
       "      <td>798.000000</td>\n",
       "      <td>796.919983</td>\n",
       "      <td>3446100</td>\n",
       "      <td>796.919983</td>\n",
       "    </tr>\n",
       "    <tr>\n",
       "      <th>5</th>\n",
       "      <td>2017-01-08</td>\n",
       "      <td>798.000000</td>\n",
       "      <td>789.539978</td>\n",
       "      <td>796.599976</td>\n",
       "      <td>795.900024</td>\n",
       "      <td>2558400</td>\n",
       "      <td>795.900024</td>\n",
       "    </tr>\n",
       "    <tr>\n",
       "      <th>6</th>\n",
       "      <td>2017-01-09</td>\n",
       "      <td>799.500000</td>\n",
       "      <td>789.510010</td>\n",
       "      <td>793.659973</td>\n",
       "      <td>799.020020</td>\n",
       "      <td>2992800</td>\n",
       "      <td>799.020020</td>\n",
       "    </tr>\n",
       "    <tr>\n",
       "      <th>7</th>\n",
       "      <td>2017-01-10</td>\n",
       "      <td>814.130005</td>\n",
       "      <td>799.500000</td>\n",
       "      <td>800.309998</td>\n",
       "      <td>813.640015</td>\n",
       "      <td>4873900</td>\n",
       "      <td>813.640015</td>\n",
       "    </tr>\n",
       "    <tr>\n",
       "      <th>8</th>\n",
       "      <td>2017-01-11</td>\n",
       "      <td>821.650024</td>\n",
       "      <td>811.400024</td>\n",
       "      <td>814.320007</td>\n",
       "      <td>817.140015</td>\n",
       "      <td>3791900</td>\n",
       "      <td>817.140015</td>\n",
       "    </tr>\n",
       "    <tr>\n",
       "      <th>9</th>\n",
       "      <td>2017-01-12</td>\n",
       "      <td>816.000000</td>\n",
       "      <td>803.440002</td>\n",
       "      <td>815.700012</td>\n",
       "      <td>809.719971</td>\n",
       "      <td>3670500</td>\n",
       "      <td>809.719971</td>\n",
       "    </tr>\n",
       "    <tr>\n",
       "      <th>10</th>\n",
       "      <td>2017-01-13</td>\n",
       "      <td>811.729980</td>\n",
       "      <td>804.270020</td>\n",
       "      <td>809.500000</td>\n",
       "      <td>807.479980</td>\n",
       "      <td>2354200</td>\n",
       "      <td>807.479980</td>\n",
       "    </tr>\n",
       "    <tr>\n",
       "      <th>11</th>\n",
       "      <td>2017-01-14</td>\n",
       "      <td>813.510010</td>\n",
       "      <td>807.320007</td>\n",
       "      <td>810.000000</td>\n",
       "      <td>809.039978</td>\n",
       "      <td>2540800</td>\n",
       "      <td>809.039978</td>\n",
       "    </tr>\n",
       "    <tr>\n",
       "      <th>12</th>\n",
       "      <td>2017-01-15</td>\n",
       "      <td>816.020020</td>\n",
       "      <td>806.260010</td>\n",
       "      <td>815.280029</td>\n",
       "      <td>808.330017</td>\n",
       "      <td>3376200</td>\n",
       "      <td>808.330017</td>\n",
       "    </tr>\n",
       "    <tr>\n",
       "      <th>13</th>\n",
       "      <td>2017-01-16</td>\n",
       "      <td>818.500000</td>\n",
       "      <td>805.080017</td>\n",
       "      <td>806.799988</td>\n",
       "      <td>817.880005</td>\n",
       "      <td>2797500</td>\n",
       "      <td>817.880005</td>\n",
       "    </tr>\n",
       "    <tr>\n",
       "      <th>14</th>\n",
       "      <td>2017-01-17</td>\n",
       "      <td>823.989990</td>\n",
       "      <td>814.500000</td>\n",
       "      <td>822.000000</td>\n",
       "      <td>822.440002</td>\n",
       "      <td>2971700</td>\n",
       "      <td>822.440002</td>\n",
       "    </tr>\n",
       "    <tr>\n",
       "      <th>15</th>\n",
       "      <td>2017-01-18</td>\n",
       "      <td>837.419983</td>\n",
       "      <td>825.289978</td>\n",
       "      <td>825.789978</td>\n",
       "      <td>836.520020</td>\n",
       "      <td>3922600</td>\n",
       "      <td>836.520020</td>\n",
       "    </tr>\n",
       "    <tr>\n",
       "      <th>16</th>\n",
       "      <td>2017-01-19</td>\n",
       "      <td>843.840027</td>\n",
       "      <td>833.000000</td>\n",
       "      <td>835.530029</td>\n",
       "      <td>839.150024</td>\n",
       "      <td>3586300</td>\n",
       "      <td>839.150024</td>\n",
       "    </tr>\n",
       "    <tr>\n",
       "      <th>17</th>\n",
       "      <td>2017-01-20</td>\n",
       "      <td>839.700012</td>\n",
       "      <td>829.440002</td>\n",
       "      <td>839.000000</td>\n",
       "      <td>835.770020</td>\n",
       "      <td>2998700</td>\n",
       "      <td>835.770020</td>\n",
       "    </tr>\n",
       "    <tr>\n",
       "      <th>18</th>\n",
       "      <td>2017-01-21</td>\n",
       "      <td>833.500000</td>\n",
       "      <td>816.380005</td>\n",
       "      <td>833.000000</td>\n",
       "      <td>830.380005</td>\n",
       "      <td>3747300</td>\n",
       "      <td>830.380005</td>\n",
       "    </tr>\n",
       "    <tr>\n",
       "      <th>19</th>\n",
       "      <td>2017-01-22</td>\n",
       "      <td>826.989990</td>\n",
       "      <td>819.559998</td>\n",
       "      <td>823.750000</td>\n",
       "      <td>823.479980</td>\n",
       "      <td>3137200</td>\n",
       "      <td>823.479980</td>\n",
       "    </tr>\n",
       "  </tbody>\n",
       "</table>\n",
       "</div>"
      ],
      "text/plain": [
       "         Date        High         Low        Open       Close   Volume  \\\n",
       "0  2017-01-03  758.760010  747.700012  757.919983  753.669983  3521100   \n",
       "1  2017-01-04  759.679993  754.200012  758.390015  757.179993  2510500   \n",
       "2  2017-01-05  782.400024  760.260010  761.549988  780.450012  5830100   \n",
       "3  2017-01-06  799.440002  778.479980  782.359985  795.989990  5986200   \n",
       "4  2017-01-07  801.770020  791.770020  798.000000  796.919983  3446100   \n",
       "5  2017-01-08  798.000000  789.539978  796.599976  795.900024  2558400   \n",
       "6  2017-01-09  799.500000  789.510010  793.659973  799.020020  2992800   \n",
       "7  2017-01-10  814.130005  799.500000  800.309998  813.640015  4873900   \n",
       "8  2017-01-11  821.650024  811.400024  814.320007  817.140015  3791900   \n",
       "9  2017-01-12  816.000000  803.440002  815.700012  809.719971  3670500   \n",
       "10 2017-01-13  811.729980  804.270020  809.500000  807.479980  2354200   \n",
       "11 2017-01-14  813.510010  807.320007  810.000000  809.039978  2540800   \n",
       "12 2017-01-15  816.020020  806.260010  815.280029  808.330017  3376200   \n",
       "13 2017-01-16  818.500000  805.080017  806.799988  817.880005  2797500   \n",
       "14 2017-01-17  823.989990  814.500000  822.000000  822.440002  2971700   \n",
       "15 2017-01-18  837.419983  825.289978  825.789978  836.520020  3922600   \n",
       "16 2017-01-19  843.840027  833.000000  835.530029  839.150024  3586300   \n",
       "17 2017-01-20  839.700012  829.440002  839.000000  835.770020  2998700   \n",
       "18 2017-01-21  833.500000  816.380005  833.000000  830.380005  3747300   \n",
       "19 2017-01-22  826.989990  819.559998  823.750000  823.479980  3137200   \n",
       "\n",
       "     Adj Close  \n",
       "0   753.669983  \n",
       "1   757.179993  \n",
       "2   780.450012  \n",
       "3   795.989990  \n",
       "4   796.919983  \n",
       "5   795.900024  \n",
       "6   799.020020  \n",
       "7   813.640015  \n",
       "8   817.140015  \n",
       "9   809.719971  \n",
       "10  807.479980  \n",
       "11  809.039978  \n",
       "12  808.330017  \n",
       "13  817.880005  \n",
       "14  822.440002  \n",
       "15  836.520020  \n",
       "16  839.150024  \n",
       "17  835.770020  \n",
       "18  830.380005  \n",
       "19  823.479980  "
      ]
     },
     "execution_count": 151,
     "metadata": {},
     "output_type": "execute_result"
    }
   ],
   "source": [
    "data = AMZN_data.iloc[:20]\n",
    "data"
   ]
  },
  {
   "cell_type": "code",
   "execution_count": 3,
   "metadata": {},
   "outputs": [],
   "source": [
    "# Initialize the excel output file\n",
    "excel_file_path = './Output_Stock_Prices_Chart.xlsx'\n",
    "\n",
    "workbook = xlsxwriter.Workbook(excel_file_path)\n",
    "\n",
    "AMZN_worksheet = workbook.add_worksheet()\n",
    "\n",
    "date_format = workbook.add_format({'num_format': 'dd/mm/yy'})"
   ]
  },
  {
   "attachments": {
    "image.png": {
     "image/png": "[encoded data removed]"
    }
   },
   "cell_type": "markdown",
   "metadata": {},
   "source": [
    "![image.png](attachment:image.png)"
   ]
  },
  {
   "cell_type": "code",
   "execution_count": 4,
   "metadata": {},
   "outputs": [],
   "source": [
    "j = 1\n",
    "for i,col_name in enumerate(AMZN_data.columns):\n",
    "    AMZN_worksheet.write(0,i,col_name)\n",
    "    if(i==0):\n",
    "        AMZN_worksheet.write_column(1,i,AMZN_data[col_name],date_format)\n",
    "    else:\n",
    "        AMZN_worksheet.write_column(1, i, AMZN_data[col_name])\n",
    "\n",
    "        chart=workbook.add_chart({'type':'scatter','subtype':'straight'})\n",
    "        col_letter=xlsxwriter.utility.xl_col_to_name(i)\n",
    "\n",
    "\n",
    "        chart.add_series({'categories':'=Sheet1!$A$2:$A$'+str(len(AMZN_data['Close']+1)),\n",
    "                          'values':'=Sheet1!$'+col_letter+'$2:$'+col_letter+'$755',\n",
    "                          'name': col_name})\n",
    "\n",
    "        peak=np.max(AMZN_data[col_name])\n",
    "        peak_index=np.argmax(AMZN_data[col_name])\n",
    "\n",
    "        chart.add_series({'categories':'=Sheet1!$A$'+str(2+peak_index),\n",
    "                          'values':'=Sheet1!$'+col_letter+'$'+str(2+peak_index),\n",
    "                          'name': 'Peak',\n",
    "                          'marker':{'type':'circle'}})\n",
    "\n",
    "        chart.set_x_axis({'name':'Date'})\n",
    "        chart.set_title({'name': col_name})\n",
    "        chart.set_y_axis({'name':col_name,'min':0,'max':1.2*peak})\n",
    "\n",
    "        AMZN_worksheet.insert_chart('I'+str(j),chart)\n",
    "        j += 16"
   ]
  },
  {
   "cell_type": "code",
   "execution_count": 5,
   "metadata": {},
   "outputs": [],
   "source": [
    "workbook.close()"
   ]
  },
  {
   "cell_type": "code",
   "execution_count": null,
   "metadata": {},
   "outputs": [],
   "source": []
  },
  {
   "cell_type": "code",
   "execution_count": 286,
   "metadata": {},
   "outputs": [],
   "source": [
    "# Initialize the excel output file\n",
    "excel_file_path = './Output_Stock_Prices_Chart.xlsx'\n",
    "\n",
    "workbook = xlsxwriter.Workbook(excel_file_path)\n",
    "\n",
    "AMZN_worksheet = workbook.add_worksheet()\n",
    "\n",
    "date_format = workbook.add_format({'num_format': 'dd/mm/yy'})"
   ]
  },
  {
   "cell_type": "code",
   "execution_count": 287,
   "metadata": {},
   "outputs": [],
   "source": [
    "AMZN_worksheet.write(0,0,'Date')\n",
    "AMZN_worksheet.write_column(1, 0, data['Date'],date_format)\n",
    "AMZN_worksheet.write(0,1,'High')\n",
    "AMZN_worksheet.write_column(1, 1, data['High'])\n",
    "AMZN_worksheet.write(0,2,'Low')\n",
    "AMZN_worksheet.write_column(1, 2, data['Low'])\n",
    "\n",
    "chart = workbook.add_chart({'type':'line','subtype':'stacked'})\n",
    "col_letter = xlsxwriter.utility.xl_col_to_name(1)\n",
    "\n",
    "\n",
    "chart.add_series({\n",
    "    'categories':'=Sheet1!$A$2:$A$'+str(len(data['High'])+1),\n",
    "    'values':'=Sheet1!$'+col_letter+'$2:$'+col_letter+'$'+str(len(data['High'])+1),\n",
    "    'name': AMZN_data.columns[1],\n",
    "    'line': {'color': '#4F008C', 'width': 2.75},\n",
    "    #'marker': {'type': 'circle', 'size' : 3, 'border': {'color': '#4F008C'},  'fill' : {'color' : '#4F008C'}},\n",
    "    'smooth': True,\n",
    "    'data_labels': {\n",
    "        'value': True, 'position': 'above', 'num_format': '#,##0.0',\n",
    "        'font': {'name': 'Calibri', 'size': 9, 'color': '#4F008C'},\n",
    "        #'border': {'color': '#4F008C'}, 'fill':   {'color': 'white'}\n",
    "                    }\n",
    "    \n",
    "})\n",
    "\n",
    "chart.add_series({\n",
    "    'categories':'=Sheet1!$A$2:$A$'+str(len(data['High'])+1),\n",
    "    'values':'=Sheet1!$C$2:$C$'+str(len(data['High'])+1),\n",
    "    'name': AMZN_data.columns[2],\n",
    "    'line': {'color': '#00B050', 'width': 2.75, 'dash_type': 'dash'},\n",
    "    'smooth': True    \n",
    "                })\n",
    "\n",
    "\n",
    "chart.set_x_axis({ 'num_font': {'name': 'Calibri', 'size': 12, 'color': '#4F008C'}, \n",
    "                  'major_gridlines': {'visible': False },\n",
    "                  'minor_gridlines': {'visible': False } })\n",
    "\n",
    "# chart.set_y_axis({'name':data.columns[1], 'min': 720, 'max': 880 ,\n",
    "#                   'name_font': {'size': 9, 'bold': False},\n",
    "#                  'num_font': {'name': 'Arial', 'size': 7, 'color': 'red'},\n",
    "#                  })\n",
    "\n",
    "chart.set_y_axis({'visible': False,\n",
    "                 'major_gridlines': {'visible': False },\n",
    "                 'minor_gridlines': {'visible': False } })\n",
    "chart.set_legend({'none': True})\n",
    "chart.set_title({'name': data.columns[1], 'name_font': {'size': 18, 'bold': True}})\n",
    "\n",
    "AMZN_worksheet.insert_chart('I'+str(1),chart, {'x_scale': 1.4, 'y_scale': 1})"
   ]
  },
  {
   "cell_type": "code",
   "execution_count": 288,
   "metadata": {},
   "outputs": [],
   "source": [
    "workbook.close()"
   ]
  },
  {
   "cell_type": "code",
   "execution_count": null,
   "metadata": {},
   "outputs": [],
   "source": []
  },
  {
   "cell_type": "code",
   "execution_count": null,
   "metadata": {},
   "outputs": [],
   "source": []
  },
  {
   "cell_type": "code",
   "execution_count": null,
   "metadata": {},
   "outputs": [],
   "source": []
  },
  {
   "cell_type": "markdown",
   "metadata": {},
   "source": [
    "# Cell Utility Functions"
   ]
  },
  {
   "cell_type": "code",
   "execution_count": 25,
   "metadata": {},
   "outputs": [],
   "source": [
    "from xlsxwriter.utility import xl_rowcol_to_cell\n",
    "from xlsxwriter.utility import xl_cell_to_rowcol\n",
    "from xlsxwriter.utility import xl_col_to_name\n",
    "from xlsxwriter.utility import xl_range\n",
    "from xlsxwriter.utility import xl_range_abs"
   ]
  },
  {
   "cell_type": "markdown",
   "metadata": {},
   "source": [
    "## xl_rowcol_to_cell"
   ]
  },
  {
   "cell_type": "code",
   "execution_count": 19,
   "metadata": {},
   "outputs": [
    {
     "data": {
      "text/plain": [
       "'A1'"
      ]
     },
     "execution_count": 19,
     "metadata": {},
     "output_type": "execute_result"
    }
   ],
   "source": [
    "cell = xl_rowcol_to_cell(0, 0)\n",
    "cell"
   ]
  },
  {
   "cell_type": "markdown",
   "metadata": {},
   "source": [
    "## xl_cell_to_rowcol"
   ]
  },
  {
   "cell_type": "code",
   "execution_count": 20,
   "metadata": {},
   "outputs": [
    {
     "name": "stdout",
     "output_type": "stream",
     "text": [
      "1 - 1\n"
     ]
    }
   ],
   "source": [
    "(row, col) = xl_cell_to_rowcol('B2')\n",
    "print(row,'-',col)"
   ]
  },
  {
   "cell_type": "markdown",
   "metadata": {},
   "source": [
    "## xl_col_to_name (complete column)"
   ]
  },
  {
   "cell_type": "code",
   "execution_count": 22,
   "metadata": {},
   "outputs": [
    {
     "name": "stdout",
     "output_type": "stream",
     "text": [
      "A\n",
      "A\n",
      "$B\n"
     ]
    }
   ],
   "source": [
    "column1 = xl_col_to_name(0)     # Non Absolute\n",
    "column2 = xl_col_to_name(0, False)  # Non Absolute\n",
    "column3 = xl_col_to_name(1, True)   # Absulute Absolute\n",
    "print(column1)\n",
    "print(column2)\n",
    "print(column3)"
   ]
  },
  {
   "cell_type": "markdown",
   "metadata": {},
   "source": [
    "## xl_range"
   ]
  },
  {
   "cell_type": "code",
   "execution_count": 23,
   "metadata": {},
   "outputs": [
    {
     "data": {
      "text/plain": [
       "'A1:A10'"
      ]
     },
     "execution_count": 23,
     "metadata": {},
     "output_type": "execute_result"
    }
   ],
   "source": [
    "cell_range = xl_range(0, 0, 9, 0)\n",
    "cell_range"
   ]
  },
  {
   "cell_type": "markdown",
   "metadata": {},
   "source": [
    "## xl_range_abs"
   ]
  },
  {
   "cell_type": "code",
   "execution_count": 26,
   "metadata": {},
   "outputs": [
    {
     "data": {
      "text/plain": [
       "'$A$1:$A$10'"
      ]
     },
     "execution_count": 26,
     "metadata": {},
     "output_type": "execute_result"
    }
   ],
   "source": [
    "cell_range = xl_range_abs(0, 0, 9, 0)\n",
    "cell_range"
   ]
  },
  {
   "cell_type": "code",
   "execution_count": null,
   "metadata": {},
   "outputs": [],
   "source": []
  },
  {
   "cell_type": "code",
   "execution_count": null,
   "metadata": {},
   "outputs": [],
   "source": []
  }
 ],
 "metadata": {
  "kernelspec": {
   "display_name": "Python 3",
   "language": "python",
   "name": "python3"
  },
  "language_info": {
   "codemirror_mode": {
    "name": "ipython",
    "version": 3
   },
   "file_extension": ".py",
   "mimetype": "text/x-python",
   "name": "python",
   "nbconvert_exporter": "python",
   "pygments_lexer": "ipython3",
   "version": "3.7.3"
  }
 },
 "nbformat": 4,
 "nbformat_minor": 2
}
