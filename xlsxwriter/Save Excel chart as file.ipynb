{
 "cells": [
  {
   "cell_type": "code",
   "execution_count": 46,
   "metadata": {},
   "outputs": [],
   "source": [
    "import win32com.client      \n",
    "from PIL import ImageGrab   \n",
    "import os"
   ]
  },
  {
   "cell_type": "code",
   "execution_count": 47,
   "metadata": {},
   "outputs": [],
   "source": [
    "path = 'D:/Python_Projects/xlsxwriter/'"
   ]
  },
  {
   "cell_type": "code",
   "execution_count": 51,
   "metadata": {},
   "outputs": [],
   "source": [
    "o = win32com.client.Dispatch(\"Excel.Application\")\n",
    "o.Visible = 0\n",
    "o.DisplayAlerts = 0\n",
    "wb = o.Workbooks.Open(path+'Output_Stock_Prices_Chart')"
   ]
  },
  {
   "cell_type": "code",
   "execution_count": 44,
   "metadata": {},
   "outputs": [
    {
     "data": {
      "text/plain": [
       "<COMObject <unknown>>"
      ]
     },
     "execution_count": 44,
     "metadata": {},
     "output_type": "execute_result"
    }
   ],
   "source": [
    "wb.Sheets('Sheet1').Shapes"
   ]
  },
  {
   "cell_type": "code",
   "execution_count": 52,
   "metadata": {},
   "outputs": [
    {
     "name": "stdout",
     "output_type": "stream",
     "text": [
      "0 - <COMObject <unknown>>\n",
      "1 - <COMObject <unknown>>\n",
      "2 - <COMObject <unknown>>\n",
      "3 - <COMObject <unknown>>\n",
      "4 - <COMObject <unknown>>\n",
      "5 - <COMObject <unknown>>\n"
     ]
    }
   ],
   "source": [
    "for n, shapes in enumerate(wb.Sheets(1).Shapes):\n",
    "    print(n, \"-\",shapes)"
   ]
  },
  {
   "cell_type": "code",
   "execution_count": 53,
   "metadata": {},
   "outputs": [],
   "source": [
    "\n",
    "    for n, shape in enumerate(wb.Sheets(1).Shapes):\n",
    "        shape.Copy()\n",
    "        image = ImageGrab.grabclipboard()\n",
    "        image.save(path+'excel_image'+str(n)+'.png', quality=95, dpi = (300,300)) # General This code is easy to make mistakes, because the clipboard may have no content, it is best to add try...except...\n",
    "        pass"
   ]
  },
  {
   "cell_type": "code",
   "execution_count": 54,
   "metadata": {},
   "outputs": [],
   "source": [
    "wb.Close(True)\n",
    "o.Quit()"
   ]
  },
  {
   "cell_type": "code",
   "execution_count": null,
   "metadata": {},
   "outputs": [],
   "source": []
  }
 ],
 "metadata": {
  "kernelspec": {
   "display_name": "Python 3",
   "language": "python",
   "name": "python3"
  },
  "language_info": {
   "codemirror_mode": {
    "name": "ipython",
    "version": 3
   },
   "file_extension": ".py",
   "mimetype": "text/x-python",
   "name": "python",
   "nbconvert_exporter": "python",
   "pygments_lexer": "ipython3",
   "version": "3.7.3"
  }
 },
 "nbformat": 4,
 "nbformat_minor": 2
}
