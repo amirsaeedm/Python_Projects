{
 "cells": [
  {
   "cell_type": "code",
   "execution_count": 1,
   "metadata": {},
   "outputs": [],
   "source": [
    "import os\n",
    "import shutil\n",
    "import numpy as np\n",
    "import pandas as pd\n",
    "import calendar\n",
    "from datetime import datetime\n",
    "from fpdf import FPDF\n",
    "\n",
    "import matplotlib.pyplot as plt\n",
    "from matplotlib import rcParams\n",
    "rcParams['axes.spines.top'] = False\n",
    "rcParams['axes.spines.right'] = False"
   ]
  },
  {
   "cell_type": "markdown",
   "metadata": {},
   "source": [
    "## Create Data for Plotting"
   ]
  },
  {
   "cell_type": "code",
   "execution_count": 2,
   "metadata": {},
   "outputs": [],
   "source": [
    "def generate_sales_data(month: int) -> pd.DataFrame:\n",
    "    # Date range from first day of month until last\n",
    "    # Use ```calendar.monthrange(year, month)``` to get the last date\n",
    "    dates = pd.date_range(\n",
    "        start=datetime(year=2020, month=month, day=1),\n",
    "        end=datetime(year=2020, month=month, day=calendar.monthrange(2020, month)[1])\n",
    "    )\n",
    "    \n",
    "    # Sales numbers as a random integer between 1000 and 2000\n",
    "    sales = np.random.randint(low=1000, high=2000, size=len(dates))\n",
    "    \n",
    "    # Combine into a single dataframe\n",
    "    return pd.DataFrame({\n",
    "        'Date': dates,\n",
    "        'ItemsSold': sales\n",
    "    })"
   ]
  },
  {
   "cell_type": "code",
   "execution_count": 3,
   "metadata": {
    "scrolled": false
   },
   "outputs": [
    {
     "data": {
      "text/html": [
       "<div>\n",
       "<style scoped>\n",
       "    .dataframe tbody tr th:only-of-type {\n",
       "        vertical-align: middle;\n",
       "    }\n",
       "\n",
       "    .dataframe tbody tr th {\n",
       "        vertical-align: top;\n",
       "    }\n",
       "\n",
       "    .dataframe thead th {\n",
       "        text-align: right;\n",
       "    }\n",
       "</style>\n",
       "<table border=\"1\" class=\"dataframe\">\n",
       "  <thead>\n",
       "    <tr style=\"text-align: right;\">\n",
       "      <th></th>\n",
       "      <th>Date</th>\n",
       "      <th>ItemsSold</th>\n",
       "    </tr>\n",
       "  </thead>\n",
       "  <tbody>\n",
       "    <tr>\n",
       "      <th>0</th>\n",
       "      <td>2020-03-01</td>\n",
       "      <td>1342</td>\n",
       "    </tr>\n",
       "    <tr>\n",
       "      <th>1</th>\n",
       "      <td>2020-03-02</td>\n",
       "      <td>1110</td>\n",
       "    </tr>\n",
       "    <tr>\n",
       "      <th>2</th>\n",
       "      <td>2020-03-03</td>\n",
       "      <td>1147</td>\n",
       "    </tr>\n",
       "    <tr>\n",
       "      <th>3</th>\n",
       "      <td>2020-03-04</td>\n",
       "      <td>1531</td>\n",
       "    </tr>\n",
       "    <tr>\n",
       "      <th>4</th>\n",
       "      <td>2020-03-05</td>\n",
       "      <td>1937</td>\n",
       "    </tr>\n",
       "  </tbody>\n",
       "</table>\n",
       "</div>"
      ],
      "text/plain": [
       "        Date  ItemsSold\n",
       "0 2020-03-01       1342\n",
       "1 2020-03-02       1110\n",
       "2 2020-03-03       1147\n",
       "3 2020-03-04       1531\n",
       "4 2020-03-05       1937"
      ]
     },
     "execution_count": 3,
     "metadata": {},
     "output_type": "execute_result"
    }
   ],
   "source": [
    "# Test function for Genratting Sales Data\n",
    "generate_sales_data(month=3).head()"
   ]
  },
  {
   "cell_type": "markdown",
   "metadata": {},
   "source": [
    "## Define Plot"
   ]
  },
  {
   "cell_type": "code",
   "execution_count": 4,
   "metadata": {},
   "outputs": [],
   "source": [
    "def plot(data: pd.DataFrame, filename: str) -> None:\n",
    "    plt.figure(figsize=(12, 4))\n",
    "    plt.grid(color='#F2F2F2', alpha=1, zorder=0)\n",
    "    plt.plot(data['Date'], data['ItemsSold'], color='#087E8B', lw=3, zorder=5)\n",
    "    plt.title(f'Sales 2020/{data[\"Date\"].dt.month[0]}', fontsize=17)\n",
    "    plt.xlabel('Period', fontsize=13)\n",
    "    plt.xticks(fontsize=9)\n",
    "    plt.ylabel('Number of items sold', fontsize=13)\n",
    "    plt.yticks(fontsize=9)\n",
    "    plt.savefig(filename, dpi=300, bbox_inches='tight', pad_inches=0)\n",
    "    plt.close()\n",
    "    plt.show()\n",
    "    return"
   ]
  },
  {
   "cell_type": "code",
   "execution_count": 5,
   "metadata": {},
   "outputs": [
    {
     "name": "stderr",
     "output_type": "stream",
     "text": [
      "C:\\ProgramData\\Anaconda3\\lib\\site-packages\\matplotlib\\cbook\\__init__.py:1402: FutureWarning: Support for multi-dimensional indexing (e.g. `obj[:, None]`) is deprecated and will be removed in a future version.  Convert to a numpy array before indexing instead.\n",
      "  x[:, None]\n",
      "C:\\ProgramData\\Anaconda3\\lib\\site-packages\\matplotlib\\axes\\_base.py:276: FutureWarning: Support for multi-dimensional indexing (e.g. `obj[:, None]`) is deprecated and will be removed in a future version.  Convert to a numpy array before indexing instead.\n",
      "  x = x[:, np.newaxis]\n",
      "C:\\ProgramData\\Anaconda3\\lib\\site-packages\\matplotlib\\axes\\_base.py:278: FutureWarning: Support for multi-dimensional indexing (e.g. `obj[:, None]`) is deprecated and will be removed in a future version.  Convert to a numpy array before indexing instead.\n",
      "  y = y[:, np.newaxis]\n"
     ]
    }
   ],
   "source": [
    "# Test Plotting the generated Data\n",
    "december = generate_sales_data(month=12)\n",
    "plot(data=december, filename='december.png')"
   ]
  },
  {
   "cell_type": "markdown",
   "metadata": {},
   "source": [
    "## Create plot pictures and Sort by file name for PDF"
   ]
  },
  {
   "cell_type": "code",
   "execution_count": 6,
   "metadata": {},
   "outputs": [],
   "source": [
    "PLOT_DIR = 'plots'"
   ]
  },
  {
   "cell_type": "code",
   "execution_count": 7,
   "metadata": {},
   "outputs": [],
   "source": [
    "def construct():\n",
    "    # Delete folder if exists and create it again\n",
    "    try:\n",
    "        shutil.rmtree(PLOT_DIR)\n",
    "        os.mkdir(PLOT_DIR)\n",
    "    except FileNotFoundError:\n",
    "        os.mkdir(PLOT_DIR)\n",
    "        \n",
    "    # Iterate over all months in 2020 except January\n",
    "    for i in range(2, 13):\n",
    "        # Save visualization\n",
    "        plot(data=generate_sales_data(month=i), filename=f'{PLOT_DIR}/{i}.png')\n",
    "        \n",
    "    # Construct data shown in document\n",
    "    counter = 0\n",
    "    pages_data = []\n",
    "    temp = []\n",
    "    # Get all plots\n",
    "    files = os.listdir(PLOT_DIR)\n",
    "    # Sort them by month - a bit tricky because the file names are strings\n",
    "    files = sorted(os.listdir(PLOT_DIR), key=lambda x: int(x.split('.')[0]))\n",
    "    # Iterate over all created visualization\n",
    "    for fname in files:\n",
    "        # We want 3 per page\n",
    "        if counter == 3:\n",
    "            pages_data.append(temp)\n",
    "            temp = []\n",
    "            counter = 0\n",
    "\n",
    "        temp.append(f'{PLOT_DIR}/{fname}')\n",
    "        counter += 1\n",
    "\n",
    "    return [*pages_data, temp]"
   ]
  },
  {
   "cell_type": "code",
   "execution_count": 8,
   "metadata": {},
   "outputs": [
    {
     "data": {
      "text/plain": [
       "[['plots/2.png', 'plots/3.png', 'plots/4.png'],\n",
       " ['plots/5.png', 'plots/6.png', 'plots/7.png'],\n",
       " ['plots/8.png', 'plots/9.png', 'plots/10.png'],\n",
       " ['plots/11.png', 'plots/12.png']]"
      ]
     },
     "execution_count": 8,
     "metadata": {},
     "output_type": "execute_result"
    }
   ],
   "source": [
    "plots_per_page = construct()\n",
    "plots_per_page"
   ]
  },
  {
   "cell_type": "code",
   "execution_count": 9,
   "metadata": {},
   "outputs": [
    {
     "data": {
      "text/plain": [
       "['plots/2.png', 'plots/3.png', 'plots/4.png']"
      ]
     },
     "execution_count": 9,
     "metadata": {},
     "output_type": "execute_result"
    }
   ],
   "source": [
    "plots_per_page[0]"
   ]
  },
  {
   "cell_type": "code",
   "execution_count": 10,
   "metadata": {},
   "outputs": [
    {
     "data": {
      "text/plain": [
       "['plots/5.png', 'plots/6.png', 'plots/7.png']"
      ]
     },
     "execution_count": 10,
     "metadata": {},
     "output_type": "execute_result"
    }
   ],
   "source": [
    "plots_per_page[1]"
   ]
  },
  {
   "cell_type": "code",
   "execution_count": 11,
   "metadata": {},
   "outputs": [
    {
     "data": {
      "text/plain": [
       "['plots/8.png', 'plots/9.png', 'plots/10.png']"
      ]
     },
     "execution_count": 11,
     "metadata": {},
     "output_type": "execute_result"
    }
   ],
   "source": [
    "plots_per_page[2]"
   ]
  },
  {
   "cell_type": "code",
   "execution_count": 12,
   "metadata": {},
   "outputs": [
    {
     "data": {
      "text/plain": [
       "['plots/11.png', 'plots/12.png']"
      ]
     },
     "execution_count": 12,
     "metadata": {},
     "output_type": "execute_result"
    }
   ],
   "source": [
    "plots_per_page[3]"
   ]
  },
  {
   "cell_type": "markdown",
   "metadata": {},
   "source": [
    "## Create PDF"
   ]
  },
  {
   "cell_type": "code",
   "execution_count": 13,
   "metadata": {},
   "outputs": [],
   "source": [
    "class PDF(FPDF):\n",
    "    def __init__(self):\n",
    "        super().__init__()\n",
    "        self.WIDTH = 210\n",
    "        self.HEIGHT = 297\n",
    "        \n",
    "    def header(self):\n",
    "        # Custom logo and positioning\n",
    "        # Create an `assets` folder and put any wide and short image inside\n",
    "        # Name the image `logo.png`\n",
    "        self.image('kpi.jpg', 10, 8, 33)\n",
    "        self.set_font('Arial', 'B', 11)\n",
    "        self.cell(self.WIDTH - 80)\n",
    "        self.cell(60, 1, 'Sales report', 0, 0, 'R')\n",
    "        self.ln(20)\n",
    "        \n",
    "    def footer(self):\n",
    "        # Page numbers in the footer\n",
    "        self.set_y(-15)\n",
    "        self.set_font('Arial', 'I', 8)\n",
    "        self.set_text_color(128)\n",
    "        self.cell(0, 10, 'Page ' + str(self.page_no()), 0, 0, 'C')\n",
    "\n",
    "    def page_body(self, images):\n",
    "        # Determine how many plots there are per page and set positions\n",
    "        # and margins accordingly\n",
    "        if len(images) == 3:\n",
    "            self.image(images[0], 15, 25, self.WIDTH - 30)\n",
    "            self.image(images[1], 15, self.WIDTH / 2 + 5, self.WIDTH - 30)\n",
    "            self.image(images[2], 15, self.WIDTH / 2 + 90, self.WIDTH - 30)\n",
    "        elif len(images) == 2:\n",
    "            self.image(images[0], 15, 25, self.WIDTH - 30)\n",
    "            self.image(images[1], 15, self.WIDTH / 2 + 5, self.WIDTH - 30)\n",
    "        else:\n",
    "            self.image(images[0], 15, 25, self.WIDTH - 30)\n",
    "            \n",
    "    def print_page(self, images):\n",
    "        # Generates the report\n",
    "        self.add_page()\n",
    "        self.page_body(images)"
   ]
  },
  {
   "cell_type": "code",
   "execution_count": 14,
   "metadata": {},
   "outputs": [],
   "source": [
    "pdf = PDF()"
   ]
  },
  {
   "cell_type": "code",
   "execution_count": 15,
   "metadata": {},
   "outputs": [
    {
     "data": {
      "text/plain": [
       "''"
      ]
     },
     "execution_count": 15,
     "metadata": {},
     "output_type": "execute_result"
    }
   ],
   "source": [
    "for elem in plots_per_page:\n",
    "    pdf.print_page(elem)\n",
    "    \n",
    "pdf.output('SalesRepot.pdf', 'F')"
   ]
  },
  {
   "cell_type": "code",
   "execution_count": null,
   "metadata": {},
   "outputs": [],
   "source": []
  }
 ],
 "metadata": {
  "kernelspec": {
   "display_name": "Python 3",
   "language": "python",
   "name": "python3"
  },
  "language_info": {
   "codemirror_mode": {
    "name": "ipython",
    "version": 3
   },
   "file_extension": ".py",
   "mimetype": "text/x-python",
   "name": "python",
   "nbconvert_exporter": "python",
   "pygments_lexer": "ipython3",
   "version": "3.7.3"
  }
 },
 "nbformat": 4,
 "nbformat_minor": 2
}
