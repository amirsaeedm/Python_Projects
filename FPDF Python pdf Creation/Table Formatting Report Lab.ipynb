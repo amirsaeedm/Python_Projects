{
 "cells": [
  {
   "cell_type": "code",
   "execution_count": 1,
   "metadata": {},
   "outputs": [],
   "source": [
    "data = [\n",
    "    ['Dedicated Hosting', 'VPS Hosting', 'Sharing Hosting', 'Reseller Hosting' ],\n",
    "    ['€200/Month', '€100/Month', '€20/Month', '€50/Month'],\n",
    "    ['Free Domain', 'Free Domain', 'Free Domain', 'Free Domain'],\n",
    "    ['2GB DDR2', '20GB Disc Space', 'Unlimited Email', 'Unlimited Email']\n",
    "]\n",
    "\n",
    "fileName = 'pdfTable.pdf'"
   ]
  },
  {
   "cell_type": "code",
   "execution_count": 14,
   "metadata": {},
   "outputs": [],
   "source": [
    "from reportlab.platypus import SimpleDocTemplate\n",
    "from reportlab.lib.pagesizes import letter\n",
    "from reportlab.platypus import Table\n",
    "from reportlab.platypus import TableStyle\n",
    "from reportlab.lib import colors"
   ]
  },
  {
   "cell_type": "code",
   "execution_count": 16,
   "metadata": {},
   "outputs": [],
   "source": [
    "pdf = SimpleDocTemplate(\n",
    "    fileName, pagesize = letter\n",
    ")\n",
    "\n",
    "#Add Style\n",
    "style = TableStyle([\n",
    "    ('BACKGROUND', (0,0), (3,0), colors.green),\n",
    "    ('TEXTCOLOR', (0,0), (-1,0), colors.whitesmoke),\n",
    "])\n",
    "table.setStyle(style)\n",
    "\n",
    "\n",
    "table = Table(data)\n",
    "\n",
    "# Append data in list for pdf\n",
    "elems = []\n",
    "elems.append(table)\n",
    "\n",
    "# Generate PDF\n",
    "pdf.build(elems)"
   ]
  },
  {
   "cell_type": "code",
   "execution_count": null,
   "metadata": {},
   "outputs": [],
   "source": []
  }
 ],
 "metadata": {
  "kernelspec": {
   "display_name": "Python 3",
   "language": "python",
   "name": "python3"
  },
  "language_info": {
   "codemirror_mode": {
    "name": "ipython",
    "version": 3
   },
   "file_extension": ".py",
   "mimetype": "text/x-python",
   "name": "python",
   "nbconvert_exporter": "python",
   "pygments_lexer": "ipython3",
   "version": "3.7.3"
  }
 },
 "nbformat": 4,
 "nbformat_minor": 2
}
