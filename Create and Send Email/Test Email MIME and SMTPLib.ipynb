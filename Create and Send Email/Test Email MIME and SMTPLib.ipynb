{
 "cells": [
  {
   "cell_type": "code",
   "execution_count": 3,
   "metadata": {},
   "outputs": [],
   "source": [
    "import os\n",
    "import smtplib\n",
    "from email.mime.text import MIMEText\n",
    "from email.mime.image import MIMEImage\n",
    "from email.mime.application import MIMEApplication\n",
    "from email.mime.multipart import MIMEMultipart"
   ]
  },
  {
   "cell_type": "code",
   "execution_count": 4,
   "metadata": {},
   "outputs": [],
   "source": [
    "def message(subject=\"Python Notification\", text=\"\", img=None, attachment=None):\n",
    "    # build message contents\n",
    "    msg = MIMEMultipart()\n",
    "    msg['Subject'] = subject  # add in the subject\n",
    "    msg.attach(MIMEText(text))  # add text contents\n",
    "\n",
    "    # check if we have anything given in the img parameter\n",
    "    if img is not None:\n",
    "        # if we do, we want to iterate through the images, so let's check that\n",
    "        # what we have is actually a list\n",
    "        if type(img) is not list:\n",
    "            img = [img]  # if it isn't a list, make it one\n",
    "        # now iterate through our list\n",
    "        for one_img in img:\n",
    "            img_data = open(one_img, 'rb').read()  # read the image binary data\n",
    "            # attach the image data to MIMEMultipart using MIMEImage, we add\n",
    "            # the given filename use os.basename\n",
    "            msg.attach(MIMEImage(img_data, name=os.path.basename(one_img)))\n",
    "\n",
    "    # we do the same for attachments as we did for images\n",
    "    if attachment is not None:\n",
    "        if type(attachment) is not list:\n",
    "            attachment = [attachment]  # if it isn't a list, make it one\n",
    "            \n",
    "        for one_attachment in attachment:\n",
    "            with open(one_attachment, 'rb') as f:\n",
    "                # read in the attachment using MIMEApplication\n",
    "                file = MIMEApplication(\n",
    "                    f.read(),\n",
    "                    name=os.path.basename(one_attachment)\n",
    "                )\n",
    "            # here we edit the attached file metadata\n",
    "            file['Content-Disposition'] = f'attachment; filename=\"{os.path.basename(one_attachment)}\"'\n",
    "            msg.attach(file)  # finally, add the attachment to our message object\n",
    "    return msg"
   ]
  },
  {
   "cell_type": "code",
   "execution_count": 7,
   "metadata": {},
   "outputs": [],
   "source": [
    "image = 'D:/STC CCEX/KPI_Reporting_Automation/table_pics/tno_table.png'\n",
    "att = 'D:/STC CCEX/KPI_Reporting_Automation/reports/TecOps_Slide.pdf'\n",
    "text = 'Kindly find CCEx Radar notification for week 23.'\n",
    "sub = 'CCEx Radar Notification_Week-23'"
   ]
  },
  {
   "cell_type": "code",
   "execution_count": 10,
   "metadata": {},
   "outputs": [],
   "source": [
    "email = message(subject= sub, text = text, img = image, attachment=att)"
   ]
  },
  {
   "cell_type": "code",
   "execution_count": 20,
   "metadata": {},
   "outputs": [],
   "source": [
    "# initialize connection to our email server, we will use Outlook here\n",
    "smtp = smtplib.SMTP('smtp-mail.outlook.com', port='587')\n",
    "\n",
    "smtp.ehlo()  # send the extended hello to our server\n",
    "smtp.starttls()  # tell server we want to communicate with TLS encryption\n",
    "\n",
    "smtp.login('amiicool@hotmail.com', 'Mercury@1234')  # login to our email server\n",
    "\n",
    "# send our email message 'msg' to our boss\n",
    "smtp.sendmail('amiicool@hotmail.com',\n",
    "              'amiicool@hotmail.com',\n",
    "              email.as_string())\n",
    "              \n",
    "smtp.quit()  # finally, don't forget to close the connection"
   ]
  },
  {
   "cell_type": "code",
   "execution_count": 15,
   "metadata": {},
   "outputs": [],
   "source": [
    "# \"\"\"\n",
    "# This method may raise the following exceptions:\n",
    "\n",
    "#  SMTPHeloError          The server didn't reply properly to\n",
    "#                         the helo greeting.\n",
    "#  SMTPRecipientsRefused  The server rejected ALL recipients\n",
    "#                         (no mail was sent).\n",
    "#  SMTPSenderRefused      The server didn't accept the from_addr.\n",
    "#  SMTPDataError          The server replied with an unexpected\n",
    "#                         error code (other than a refusal of\n",
    "#                         a recipient).\n",
    "#  SMTPNotSupportedError  The mail_options parameter includes 'SMTPUTF8'\n",
    "#                         but the SMTPUTF8 extension is not supported by\n",
    "#                         the server.\n",
    "\n",
    "# Note: the connection will be open even after an exception is raised.\n",
    "# \"\"\" "
   ]
  },
  {
   "cell_type": "code",
   "execution_count": null,
   "metadata": {},
   "outputs": [],
   "source": []
  }
 ],
 "metadata": {
  "kernelspec": {
   "display_name": "Python 3",
   "language": "python",
   "name": "python3"
  },
  "language_info": {
   "codemirror_mode": {
    "name": "ipython",
    "version": 3
   },
   "file_extension": ".py",
   "mimetype": "text/x-python",
   "name": "python",
   "nbconvert_exporter": "python",
   "pygments_lexer": "ipython3",
   "version": "3.7.3"
  }
 },
 "nbformat": 4,
 "nbformat_minor": 2
}
