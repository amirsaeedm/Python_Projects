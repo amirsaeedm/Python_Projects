{
 "cells": [
  {
   "cell_type": "code",
   "execution_count": 1,
   "metadata": {},
   "outputs": [],
   "source": [
    "import win32com.client as client"
   ]
  },
  {
   "cell_type": "code",
   "execution_count": 2,
   "metadata": {},
   "outputs": [],
   "source": [
    "image = 'D:/STC CCEX/KPI_Reporting_Automation/pdf_images/TechOps_1.jpg'\n",
    "att = 'D:/STC CCEX/KPI_Reporting_Automation/reports/CCEx_Radar_Notification_Wk-24_B2B.pdf'\n",
    "text = 'Kindly find CCEx Radar notification for week 23.'\n",
    "sub = 'CCEx Radar Notification_Week-23'"
   ]
  },
  {
   "cell_type": "code",
   "execution_count": 3,
   "metadata": {},
   "outputs": [],
   "source": [
    "outlook = client.Dispatch('Outlook.Application')\n",
    "message = outlook.CreateItem(0)"
   ]
  },
  {
   "cell_type": "code",
   "execution_count": 4,
   "metadata": {},
   "outputs": [],
   "source": [
    "message.Display()"
   ]
  },
  {
   "cell_type": "code",
   "execution_count": 5,
   "metadata": {},
   "outputs": [],
   "source": [
    "message.To = 'saeedma.c@stc.com.sa'\n",
    "message.CC = 'saeedma.c@stc.com.sa'\n",
    "message.BCC = 'saeedma.c@stc.com.sa'\n",
    "message.Subject = sub\n",
    "message.Body = text"
   ]
  },
  {
   "cell_type": "code",
   "execution_count": 6,
   "metadata": {},
   "outputs": [
    {
     "data": {
      "text/plain": [
       "<COMObject Add>"
      ]
     },
     "execution_count": 6,
     "metadata": {},
     "output_type": "execute_result"
    }
   ],
   "source": [
    "message.Attachments.Add(att)"
   ]
  },
  {
   "cell_type": "code",
   "execution_count": 7,
   "metadata": {},
   "outputs": [],
   "source": [
    "image = message.Attachments.Add(image)"
   ]
  },
  {
   "cell_type": "code",
   "execution_count": 8,
   "metadata": {},
   "outputs": [],
   "source": [
    "html_body = \"\"\"\n",
    "    <div>\n",
    "        <h1 style=\"font-family: 'Lucida Handwriting'; font-size: 56; font-weight: bold; color: #9eac9c;\"> Happy Birthday!! </h1>\n",
    "        <span style=\"font-family: 'Lucida Sans'; font-size: 28; color: #8d395c;\"> Wishing you all the best on your birthday!! </span>\n",
    "    </div><br>\n",
    "    <div>\n",
    "        <img src=\"cid:image\" width=50%>\n",
    "    </div>\n",
    "    \"\"\""
   ]
  },
  {
   "cell_type": "code",
   "execution_count": 9,
   "metadata": {},
   "outputs": [],
   "source": [
    "image.PropertyAccessor.SetProperty(\"http://schemas.microsoft.com/mapi/proptag/0x3712001F\", \"image\")"
   ]
  },
  {
   "cell_type": "code",
   "execution_count": 10,
   "metadata": {},
   "outputs": [],
   "source": [
    "message.HTMLBody = html_body"
   ]
  },
  {
   "cell_type": "code",
   "execution_count": 11,
   "metadata": {},
   "outputs": [],
   "source": [
    "message.Display()"
   ]
  },
  {
   "cell_type": "code",
   "execution_count": 12,
   "metadata": {},
   "outputs": [],
   "source": [
    "message.Send()"
   ]
  },
  {
   "cell_type": "code",
   "execution_count": null,
   "metadata": {},
   "outputs": [],
   "source": []
  }
 ],
 "metadata": {
  "kernelspec": {
   "display_name": "Python 3",
   "language": "python",
   "name": "python3"
  },
  "language_info": {
   "codemirror_mode": {
    "name": "ipython",
    "version": 3
   },
   "file_extension": ".py",
   "mimetype": "text/x-python",
   "name": "python",
   "nbconvert_exporter": "python",
   "pygments_lexer": "ipython3",
   "version": "3.7.3"
  }
 },
 "nbformat": 4,
 "nbformat_minor": 2
}
