{
 "cells": [
  {
   "cell_type": "code",
   "execution_count": 1,
   "id": "22bc4def",
   "metadata": {},
   "outputs": [],
   "source": [
    "import pandas as pd\n",
    "import numpy as np\n",
    "import matplotlib.pyplot as plt\n",
    "import seaborn as sns\n",
    "%matplotlib inline\n",
    "plt.style.use('fivethirtyeight')\n",
    "\n",
    "from sklearn.model_selection import train_test_split\n",
    "from sklearn.impute import SimpleImputer\n",
    "from sklearn.compose import ColumnTransformer\n",
    "from sklearn.pipeline import Pipeline\n",
    "from sklearn.preprocessing import OneHotEncoder\n",
    "from sklearn.model_selection import cross_val_score, cross_validate\n",
    "from sklearn.metrics import mean_absolute_percentage_error, mean_squared_error, mean_absolute_error, SCORERS, r2_score\n",
    "\n",
    "from sklearn.tree import DecisionTreeRegressor\n",
    "from sklearn.ensemble import RandomForestRegressor\n",
    "from xgboost import XGBRegressor\n",
    "from lightgbm import LGBMRegressor"
   ]
  },
  {
   "cell_type": "markdown",
   "id": "60c02c5d",
   "metadata": {},
   "source": [
    "## Load Data"
   ]
  },
  {
   "cell_type": "code",
   "execution_count": 2,
   "id": "4da1c503",
   "metadata": {},
   "outputs": [],
   "source": [
    "data = pd.read_csv('train.csv')"
   ]
  },
  {
   "cell_type": "code",
   "execution_count": 3,
   "id": "5da8b682",
   "metadata": {
    "tags": []
   },
   "outputs": [
    {
     "data": {
      "text/html": [
       "<div>\n",
       "<style scoped>\n",
       "    .dataframe tbody tr th:only-of-type {\n",
       "        vertical-align: middle;\n",
       "    }\n",
       "\n",
       "    .dataframe tbody tr th {\n",
       "        vertical-align: top;\n",
       "    }\n",
       "\n",
       "    .dataframe thead th {\n",
       "        text-align: right;\n",
       "    }\n",
       "</style>\n",
       "<table border=\"1\" class=\"dataframe\">\n",
       "  <thead>\n",
       "    <tr style=\"text-align: right;\">\n",
       "      <th></th>\n",
       "      <th>Id</th>\n",
       "      <th>MSSubClass</th>\n",
       "      <th>MSZoning</th>\n",
       "      <th>LotFrontage</th>\n",
       "      <th>LotArea</th>\n",
       "      <th>Street</th>\n",
       "      <th>Alley</th>\n",
       "      <th>LotShape</th>\n",
       "      <th>LandContour</th>\n",
       "      <th>Utilities</th>\n",
       "      <th>...</th>\n",
       "      <th>PoolArea</th>\n",
       "      <th>PoolQC</th>\n",
       "      <th>Fence</th>\n",
       "      <th>MiscFeature</th>\n",
       "      <th>MiscVal</th>\n",
       "      <th>MoSold</th>\n",
       "      <th>YrSold</th>\n",
       "      <th>SaleType</th>\n",
       "      <th>SaleCondition</th>\n",
       "      <th>SalePrice</th>\n",
       "    </tr>\n",
       "  </thead>\n",
       "  <tbody>\n",
       "    <tr>\n",
       "      <th>0</th>\n",
       "      <td>1</td>\n",
       "      <td>60</td>\n",
       "      <td>RL</td>\n",
       "      <td>65.0</td>\n",
       "      <td>8450</td>\n",
       "      <td>Pave</td>\n",
       "      <td>NaN</td>\n",
       "      <td>Reg</td>\n",
       "      <td>Lvl</td>\n",
       "      <td>AllPub</td>\n",
       "      <td>...</td>\n",
       "      <td>0</td>\n",
       "      <td>NaN</td>\n",
       "      <td>NaN</td>\n",
       "      <td>NaN</td>\n",
       "      <td>0</td>\n",
       "      <td>2</td>\n",
       "      <td>2008</td>\n",
       "      <td>WD</td>\n",
       "      <td>Normal</td>\n",
       "      <td>208500</td>\n",
       "    </tr>\n",
       "    <tr>\n",
       "      <th>1</th>\n",
       "      <td>2</td>\n",
       "      <td>20</td>\n",
       "      <td>RL</td>\n",
       "      <td>80.0</td>\n",
       "      <td>9600</td>\n",
       "      <td>Pave</td>\n",
       "      <td>NaN</td>\n",
       "      <td>Reg</td>\n",
       "      <td>Lvl</td>\n",
       "      <td>AllPub</td>\n",
       "      <td>...</td>\n",
       "      <td>0</td>\n",
       "      <td>NaN</td>\n",
       "      <td>NaN</td>\n",
       "      <td>NaN</td>\n",
       "      <td>0</td>\n",
       "      <td>5</td>\n",
       "      <td>2007</td>\n",
       "      <td>WD</td>\n",
       "      <td>Normal</td>\n",
       "      <td>181500</td>\n",
       "    </tr>\n",
       "    <tr>\n",
       "      <th>2</th>\n",
       "      <td>3</td>\n",
       "      <td>60</td>\n",
       "      <td>RL</td>\n",
       "      <td>68.0</td>\n",
       "      <td>11250</td>\n",
       "      <td>Pave</td>\n",
       "      <td>NaN</td>\n",
       "      <td>IR1</td>\n",
       "      <td>Lvl</td>\n",
       "      <td>AllPub</td>\n",
       "      <td>...</td>\n",
       "      <td>0</td>\n",
       "      <td>NaN</td>\n",
       "      <td>NaN</td>\n",
       "      <td>NaN</td>\n",
       "      <td>0</td>\n",
       "      <td>9</td>\n",
       "      <td>2008</td>\n",
       "      <td>WD</td>\n",
       "      <td>Normal</td>\n",
       "      <td>223500</td>\n",
       "    </tr>\n",
       "    <tr>\n",
       "      <th>3</th>\n",
       "      <td>4</td>\n",
       "      <td>70</td>\n",
       "      <td>RL</td>\n",
       "      <td>60.0</td>\n",
       "      <td>9550</td>\n",
       "      <td>Pave</td>\n",
       "      <td>NaN</td>\n",
       "      <td>IR1</td>\n",
       "      <td>Lvl</td>\n",
       "      <td>AllPub</td>\n",
       "      <td>...</td>\n",
       "      <td>0</td>\n",
       "      <td>NaN</td>\n",
       "      <td>NaN</td>\n",
       "      <td>NaN</td>\n",
       "      <td>0</td>\n",
       "      <td>2</td>\n",
       "      <td>2006</td>\n",
       "      <td>WD</td>\n",
       "      <td>Abnorml</td>\n",
       "      <td>140000</td>\n",
       "    </tr>\n",
       "    <tr>\n",
       "      <th>4</th>\n",
       "      <td>5</td>\n",
       "      <td>60</td>\n",
       "      <td>RL</td>\n",
       "      <td>84.0</td>\n",
       "      <td>14260</td>\n",
       "      <td>Pave</td>\n",
       "      <td>NaN</td>\n",
       "      <td>IR1</td>\n",
       "      <td>Lvl</td>\n",
       "      <td>AllPub</td>\n",
       "      <td>...</td>\n",
       "      <td>0</td>\n",
       "      <td>NaN</td>\n",
       "      <td>NaN</td>\n",
       "      <td>NaN</td>\n",
       "      <td>0</td>\n",
       "      <td>12</td>\n",
       "      <td>2008</td>\n",
       "      <td>WD</td>\n",
       "      <td>Normal</td>\n",
       "      <td>250000</td>\n",
       "    </tr>\n",
       "  </tbody>\n",
       "</table>\n",
       "<p>5 rows × 81 columns</p>\n",
       "</div>"
      ],
      "text/plain": [
       "   Id  MSSubClass MSZoning  LotFrontage  LotArea Street Alley LotShape  \\\n",
       "0   1          60       RL         65.0     8450   Pave   NaN      Reg   \n",
       "1   2          20       RL         80.0     9600   Pave   NaN      Reg   \n",
       "2   3          60       RL         68.0    11250   Pave   NaN      IR1   \n",
       "3   4          70       RL         60.0     9550   Pave   NaN      IR1   \n",
       "4   5          60       RL         84.0    14260   Pave   NaN      IR1   \n",
       "\n",
       "  LandContour Utilities  ... PoolArea PoolQC Fence MiscFeature MiscVal MoSold  \\\n",
       "0         Lvl    AllPub  ...        0    NaN   NaN         NaN       0      2   \n",
       "1         Lvl    AllPub  ...        0    NaN   NaN         NaN       0      5   \n",
       "2         Lvl    AllPub  ...        0    NaN   NaN         NaN       0      9   \n",
       "3         Lvl    AllPub  ...        0    NaN   NaN         NaN       0      2   \n",
       "4         Lvl    AllPub  ...        0    NaN   NaN         NaN       0     12   \n",
       "\n",
       "  YrSold  SaleType  SaleCondition  SalePrice  \n",
       "0   2008        WD         Normal     208500  \n",
       "1   2007        WD         Normal     181500  \n",
       "2   2008        WD         Normal     223500  \n",
       "3   2006        WD        Abnorml     140000  \n",
       "4   2008        WD         Normal     250000  \n",
       "\n",
       "[5 rows x 81 columns]"
      ]
     },
     "execution_count": 3,
     "metadata": {},
     "output_type": "execute_result"
    }
   ],
   "source": [
    "data.head()"
   ]
  },
  {
   "cell_type": "markdown",
   "id": "f4d6a03b",
   "metadata": {},
   "source": [
    "## Explore Data"
   ]
  },
  {
   "cell_type": "code",
   "execution_count": 4,
   "id": "03d94f48",
   "metadata": {},
   "outputs": [
    {
     "data": {
      "text/html": [
       "<div>\n",
       "<style scoped>\n",
       "    .dataframe tbody tr th:only-of-type {\n",
       "        vertical-align: middle;\n",
       "    }\n",
       "\n",
       "    .dataframe tbody tr th {\n",
       "        vertical-align: top;\n",
       "    }\n",
       "\n",
       "    .dataframe thead th {\n",
       "        text-align: right;\n",
       "    }\n",
       "</style>\n",
       "<table border=\"1\" class=\"dataframe\">\n",
       "  <thead>\n",
       "    <tr style=\"text-align: right;\">\n",
       "      <th></th>\n",
       "      <th>Id</th>\n",
       "      <th>MSSubClass</th>\n",
       "      <th>LotFrontage</th>\n",
       "      <th>LotArea</th>\n",
       "      <th>OverallQual</th>\n",
       "      <th>OverallCond</th>\n",
       "      <th>YearBuilt</th>\n",
       "      <th>YearRemodAdd</th>\n",
       "      <th>MasVnrArea</th>\n",
       "      <th>BsmtFinSF1</th>\n",
       "      <th>...</th>\n",
       "      <th>WoodDeckSF</th>\n",
       "      <th>OpenPorchSF</th>\n",
       "      <th>EnclosedPorch</th>\n",
       "      <th>3SsnPorch</th>\n",
       "      <th>ScreenPorch</th>\n",
       "      <th>PoolArea</th>\n",
       "      <th>MiscVal</th>\n",
       "      <th>MoSold</th>\n",
       "      <th>YrSold</th>\n",
       "      <th>SalePrice</th>\n",
       "    </tr>\n",
       "  </thead>\n",
       "  <tbody>\n",
       "    <tr>\n",
       "      <th>count</th>\n",
       "      <td>1460.000000</td>\n",
       "      <td>1460.000000</td>\n",
       "      <td>1201.000000</td>\n",
       "      <td>1460.000000</td>\n",
       "      <td>1460.000000</td>\n",
       "      <td>1460.000000</td>\n",
       "      <td>1460.000000</td>\n",
       "      <td>1460.000000</td>\n",
       "      <td>1452.000000</td>\n",
       "      <td>1460.000000</td>\n",
       "      <td>...</td>\n",
       "      <td>1460.000000</td>\n",
       "      <td>1460.000000</td>\n",
       "      <td>1460.000000</td>\n",
       "      <td>1460.000000</td>\n",
       "      <td>1460.000000</td>\n",
       "      <td>1460.000000</td>\n",
       "      <td>1460.000000</td>\n",
       "      <td>1460.000000</td>\n",
       "      <td>1460.000000</td>\n",
       "      <td>1460.000000</td>\n",
       "    </tr>\n",
       "    <tr>\n",
       "      <th>mean</th>\n",
       "      <td>730.500000</td>\n",
       "      <td>56.897260</td>\n",
       "      <td>70.049958</td>\n",
       "      <td>10516.828082</td>\n",
       "      <td>6.099315</td>\n",
       "      <td>5.575342</td>\n",
       "      <td>1971.267808</td>\n",
       "      <td>1984.865753</td>\n",
       "      <td>103.685262</td>\n",
       "      <td>443.639726</td>\n",
       "      <td>...</td>\n",
       "      <td>94.244521</td>\n",
       "      <td>46.660274</td>\n",
       "      <td>21.954110</td>\n",
       "      <td>3.409589</td>\n",
       "      <td>15.060959</td>\n",
       "      <td>2.758904</td>\n",
       "      <td>43.489041</td>\n",
       "      <td>6.321918</td>\n",
       "      <td>2007.815753</td>\n",
       "      <td>180921.195890</td>\n",
       "    </tr>\n",
       "    <tr>\n",
       "      <th>std</th>\n",
       "      <td>421.610009</td>\n",
       "      <td>42.300571</td>\n",
       "      <td>24.284752</td>\n",
       "      <td>9981.264932</td>\n",
       "      <td>1.382997</td>\n",
       "      <td>1.112799</td>\n",
       "      <td>30.202904</td>\n",
       "      <td>20.645407</td>\n",
       "      <td>181.066207</td>\n",
       "      <td>456.098091</td>\n",
       "      <td>...</td>\n",
       "      <td>125.338794</td>\n",
       "      <td>66.256028</td>\n",
       "      <td>61.119149</td>\n",
       "      <td>29.317331</td>\n",
       "      <td>55.757415</td>\n",
       "      <td>40.177307</td>\n",
       "      <td>496.123024</td>\n",
       "      <td>2.703626</td>\n",
       "      <td>1.328095</td>\n",
       "      <td>79442.502883</td>\n",
       "    </tr>\n",
       "    <tr>\n",
       "      <th>min</th>\n",
       "      <td>1.000000</td>\n",
       "      <td>20.000000</td>\n",
       "      <td>21.000000</td>\n",
       "      <td>1300.000000</td>\n",
       "      <td>1.000000</td>\n",
       "      <td>1.000000</td>\n",
       "      <td>1872.000000</td>\n",
       "      <td>1950.000000</td>\n",
       "      <td>0.000000</td>\n",
       "      <td>0.000000</td>\n",
       "      <td>...</td>\n",
       "      <td>0.000000</td>\n",
       "      <td>0.000000</td>\n",
       "      <td>0.000000</td>\n",
       "      <td>0.000000</td>\n",
       "      <td>0.000000</td>\n",
       "      <td>0.000000</td>\n",
       "      <td>0.000000</td>\n",
       "      <td>1.000000</td>\n",
       "      <td>2006.000000</td>\n",
       "      <td>34900.000000</td>\n",
       "    </tr>\n",
       "    <tr>\n",
       "      <th>25%</th>\n",
       "      <td>365.750000</td>\n",
       "      <td>20.000000</td>\n",
       "      <td>59.000000</td>\n",
       "      <td>7553.500000</td>\n",
       "      <td>5.000000</td>\n",
       "      <td>5.000000</td>\n",
       "      <td>1954.000000</td>\n",
       "      <td>1967.000000</td>\n",
       "      <td>0.000000</td>\n",
       "      <td>0.000000</td>\n",
       "      <td>...</td>\n",
       "      <td>0.000000</td>\n",
       "      <td>0.000000</td>\n",
       "      <td>0.000000</td>\n",
       "      <td>0.000000</td>\n",
       "      <td>0.000000</td>\n",
       "      <td>0.000000</td>\n",
       "      <td>0.000000</td>\n",
       "      <td>5.000000</td>\n",
       "      <td>2007.000000</td>\n",
       "      <td>129975.000000</td>\n",
       "    </tr>\n",
       "    <tr>\n",
       "      <th>50%</th>\n",
       "      <td>730.500000</td>\n",
       "      <td>50.000000</td>\n",
       "      <td>69.000000</td>\n",
       "      <td>9478.500000</td>\n",
       "      <td>6.000000</td>\n",
       "      <td>5.000000</td>\n",
       "      <td>1973.000000</td>\n",
       "      <td>1994.000000</td>\n",
       "      <td>0.000000</td>\n",
       "      <td>383.500000</td>\n",
       "      <td>...</td>\n",
       "      <td>0.000000</td>\n",
       "      <td>25.000000</td>\n",
       "      <td>0.000000</td>\n",
       "      <td>0.000000</td>\n",
       "      <td>0.000000</td>\n",
       "      <td>0.000000</td>\n",
       "      <td>0.000000</td>\n",
       "      <td>6.000000</td>\n",
       "      <td>2008.000000</td>\n",
       "      <td>163000.000000</td>\n",
       "    </tr>\n",
       "    <tr>\n",
       "      <th>75%</th>\n",
       "      <td>1095.250000</td>\n",
       "      <td>70.000000</td>\n",
       "      <td>80.000000</td>\n",
       "      <td>11601.500000</td>\n",
       "      <td>7.000000</td>\n",
       "      <td>6.000000</td>\n",
       "      <td>2000.000000</td>\n",
       "      <td>2004.000000</td>\n",
       "      <td>166.000000</td>\n",
       "      <td>712.250000</td>\n",
       "      <td>...</td>\n",
       "      <td>168.000000</td>\n",
       "      <td>68.000000</td>\n",
       "      <td>0.000000</td>\n",
       "      <td>0.000000</td>\n",
       "      <td>0.000000</td>\n",
       "      <td>0.000000</td>\n",
       "      <td>0.000000</td>\n",
       "      <td>8.000000</td>\n",
       "      <td>2009.000000</td>\n",
       "      <td>214000.000000</td>\n",
       "    </tr>\n",
       "    <tr>\n",
       "      <th>max</th>\n",
       "      <td>1460.000000</td>\n",
       "      <td>190.000000</td>\n",
       "      <td>313.000000</td>\n",
       "      <td>215245.000000</td>\n",
       "      <td>10.000000</td>\n",
       "      <td>9.000000</td>\n",
       "      <td>2010.000000</td>\n",
       "      <td>2010.000000</td>\n",
       "      <td>1600.000000</td>\n",
       "      <td>5644.000000</td>\n",
       "      <td>...</td>\n",
       "      <td>857.000000</td>\n",
       "      <td>547.000000</td>\n",
       "      <td>552.000000</td>\n",
       "      <td>508.000000</td>\n",
       "      <td>480.000000</td>\n",
       "      <td>738.000000</td>\n",
       "      <td>15500.000000</td>\n",
       "      <td>12.000000</td>\n",
       "      <td>2010.000000</td>\n",
       "      <td>755000.000000</td>\n",
       "    </tr>\n",
       "  </tbody>\n",
       "</table>\n",
       "<p>8 rows × 38 columns</p>\n",
       "</div>"
      ],
      "text/plain": [
       "                Id   MSSubClass  LotFrontage        LotArea  OverallQual  \\\n",
       "count  1460.000000  1460.000000  1201.000000    1460.000000  1460.000000   \n",
       "mean    730.500000    56.897260    70.049958   10516.828082     6.099315   \n",
       "std     421.610009    42.300571    24.284752    9981.264932     1.382997   \n",
       "min       1.000000    20.000000    21.000000    1300.000000     1.000000   \n",
       "25%     365.750000    20.000000    59.000000    7553.500000     5.000000   \n",
       "50%     730.500000    50.000000    69.000000    9478.500000     6.000000   \n",
       "75%    1095.250000    70.000000    80.000000   11601.500000     7.000000   \n",
       "max    1460.000000   190.000000   313.000000  215245.000000    10.000000   \n",
       "\n",
       "       OverallCond    YearBuilt  YearRemodAdd   MasVnrArea   BsmtFinSF1  ...  \\\n",
       "count  1460.000000  1460.000000   1460.000000  1452.000000  1460.000000  ...   \n",
       "mean      5.575342  1971.267808   1984.865753   103.685262   443.639726  ...   \n",
       "std       1.112799    30.202904     20.645407   181.066207   456.098091  ...   \n",
       "min       1.000000  1872.000000   1950.000000     0.000000     0.000000  ...   \n",
       "25%       5.000000  1954.000000   1967.000000     0.000000     0.000000  ...   \n",
       "50%       5.000000  1973.000000   1994.000000     0.000000   383.500000  ...   \n",
       "75%       6.000000  2000.000000   2004.000000   166.000000   712.250000  ...   \n",
       "max       9.000000  2010.000000   2010.000000  1600.000000  5644.000000  ...   \n",
       "\n",
       "        WoodDeckSF  OpenPorchSF  EnclosedPorch    3SsnPorch  ScreenPorch  \\\n",
       "count  1460.000000  1460.000000    1460.000000  1460.000000  1460.000000   \n",
       "mean     94.244521    46.660274      21.954110     3.409589    15.060959   \n",
       "std     125.338794    66.256028      61.119149    29.317331    55.757415   \n",
       "min       0.000000     0.000000       0.000000     0.000000     0.000000   \n",
       "25%       0.000000     0.000000       0.000000     0.000000     0.000000   \n",
       "50%       0.000000    25.000000       0.000000     0.000000     0.000000   \n",
       "75%     168.000000    68.000000       0.000000     0.000000     0.000000   \n",
       "max     857.000000   547.000000     552.000000   508.000000   480.000000   \n",
       "\n",
       "          PoolArea       MiscVal       MoSold       YrSold      SalePrice  \n",
       "count  1460.000000   1460.000000  1460.000000  1460.000000    1460.000000  \n",
       "mean      2.758904     43.489041     6.321918  2007.815753  180921.195890  \n",
       "std      40.177307    496.123024     2.703626     1.328095   79442.502883  \n",
       "min       0.000000      0.000000     1.000000  2006.000000   34900.000000  \n",
       "25%       0.000000      0.000000     5.000000  2007.000000  129975.000000  \n",
       "50%       0.000000      0.000000     6.000000  2008.000000  163000.000000  \n",
       "75%       0.000000      0.000000     8.000000  2009.000000  214000.000000  \n",
       "max     738.000000  15500.000000    12.000000  2010.000000  755000.000000  \n",
       "\n",
       "[8 rows x 38 columns]"
      ]
     },
     "execution_count": 4,
     "metadata": {},
     "output_type": "execute_result"
    }
   ],
   "source": [
    "data.describe()"
   ]
  },
  {
   "cell_type": "code",
   "execution_count": 5,
   "id": "c53fd8e1",
   "metadata": {
    "scrolled": true
   },
   "outputs": [
    {
     "name": "stdout",
     "output_type": "stream",
     "text": [
      "<class 'pandas.core.frame.DataFrame'>\n",
      "RangeIndex: 1460 entries, 0 to 1459\n",
      "Data columns (total 81 columns):\n",
      " #   Column         Non-Null Count  Dtype  \n",
      "---  ------         --------------  -----  \n",
      " 0   Id             1460 non-null   int64  \n",
      " 1   MSSubClass     1460 non-null   int64  \n",
      " 2   MSZoning       1460 non-null   object \n",
      " 3   LotFrontage    1201 non-null   float64\n",
      " 4   LotArea        1460 non-null   int64  \n",
      " 5   Street         1460 non-null   object \n",
      " 6   Alley          91 non-null     object \n",
      " 7   LotShape       1460 non-null   object \n",
      " 8   LandContour    1460 non-null   object \n",
      " 9   Utilities      1460 non-null   object \n",
      " 10  LotConfig      1460 non-null   object \n",
      " 11  LandSlope      1460 non-null   object \n",
      " 12  Neighborhood   1460 non-null   object \n",
      " 13  Condition1     1460 non-null   object \n",
      " 14  Condition2     1460 non-null   object \n",
      " 15  BldgType       1460 non-null   object \n",
      " 16  HouseStyle     1460 non-null   object \n",
      " 17  OverallQual    1460 non-null   int64  \n",
      " 18  OverallCond    1460 non-null   int64  \n",
      " 19  YearBuilt      1460 non-null   int64  \n",
      " 20  YearRemodAdd   1460 non-null   int64  \n",
      " 21  RoofStyle      1460 non-null   object \n",
      " 22  RoofMatl       1460 non-null   object \n",
      " 23  Exterior1st    1460 non-null   object \n",
      " 24  Exterior2nd    1460 non-null   object \n",
      " 25  MasVnrType     1452 non-null   object \n",
      " 26  MasVnrArea     1452 non-null   float64\n",
      " 27  ExterQual      1460 non-null   object \n",
      " 28  ExterCond      1460 non-null   object \n",
      " 29  Foundation     1460 non-null   object \n",
      " 30  BsmtQual       1423 non-null   object \n",
      " 31  BsmtCond       1423 non-null   object \n",
      " 32  BsmtExposure   1422 non-null   object \n",
      " 33  BsmtFinType1   1423 non-null   object \n",
      " 34  BsmtFinSF1     1460 non-null   int64  \n",
      " 35  BsmtFinType2   1422 non-null   object \n",
      " 36  BsmtFinSF2     1460 non-null   int64  \n",
      " 37  BsmtUnfSF      1460 non-null   int64  \n",
      " 38  TotalBsmtSF    1460 non-null   int64  \n",
      " 39  Heating        1460 non-null   object \n",
      " 40  HeatingQC      1460 non-null   object \n",
      " 41  CentralAir     1460 non-null   object \n",
      " 42  Electrical     1459 non-null   object \n",
      " 43  1stFlrSF       1460 non-null   int64  \n",
      " 44  2ndFlrSF       1460 non-null   int64  \n",
      " 45  LowQualFinSF   1460 non-null   int64  \n",
      " 46  GrLivArea      1460 non-null   int64  \n",
      " 47  BsmtFullBath   1460 non-null   int64  \n",
      " 48  BsmtHalfBath   1460 non-null   int64  \n",
      " 49  FullBath       1460 non-null   int64  \n",
      " 50  HalfBath       1460 non-null   int64  \n",
      " 51  BedroomAbvGr   1460 non-null   int64  \n",
      " 52  KitchenAbvGr   1460 non-null   int64  \n",
      " 53  KitchenQual    1460 non-null   object \n",
      " 54  TotRmsAbvGrd   1460 non-null   int64  \n",
      " 55  Functional     1460 non-null   object \n",
      " 56  Fireplaces     1460 non-null   int64  \n",
      " 57  FireplaceQu    770 non-null    object \n",
      " 58  GarageType     1379 non-null   object \n",
      " 59  GarageYrBlt    1379 non-null   float64\n",
      " 60  GarageFinish   1379 non-null   object \n",
      " 61  GarageCars     1460 non-null   int64  \n",
      " 62  GarageArea     1460 non-null   int64  \n",
      " 63  GarageQual     1379 non-null   object \n",
      " 64  GarageCond     1379 non-null   object \n",
      " 65  PavedDrive     1460 non-null   object \n",
      " 66  WoodDeckSF     1460 non-null   int64  \n",
      " 67  OpenPorchSF    1460 non-null   int64  \n",
      " 68  EnclosedPorch  1460 non-null   int64  \n",
      " 69  3SsnPorch      1460 non-null   int64  \n",
      " 70  ScreenPorch    1460 non-null   int64  \n",
      " 71  PoolArea       1460 non-null   int64  \n",
      " 72  PoolQC         7 non-null      object \n",
      " 73  Fence          281 non-null    object \n",
      " 74  MiscFeature    54 non-null     object \n",
      " 75  MiscVal        1460 non-null   int64  \n",
      " 76  MoSold         1460 non-null   int64  \n",
      " 77  YrSold         1460 non-null   int64  \n",
      " 78  SaleType       1460 non-null   object \n",
      " 79  SaleCondition  1460 non-null   object \n",
      " 80  SalePrice      1460 non-null   int64  \n",
      "dtypes: float64(3), int64(35), object(43)\n",
      "memory usage: 924.0+ KB\n"
     ]
    }
   ],
   "source": [
    "data.info()"
   ]
  },
  {
   "cell_type": "markdown",
   "id": "7abc8e05",
   "metadata": {},
   "source": [
    "### Check columns with missing values"
   ]
  },
  {
   "cell_type": "code",
   "execution_count": 6,
   "id": "077ff1da",
   "metadata": {
    "tags": []
   },
   "outputs": [
    {
     "name": "stdout",
     "output_type": "stream",
     "text": [
      "['LotFrontage', 'Alley', 'MasVnrType', 'MasVnrArea', 'BsmtQual', 'BsmtCond', 'BsmtExposure', 'BsmtFinType1', 'BsmtFinType2', 'Electrical', 'FireplaceQu', 'GarageType', 'GarageYrBlt', 'GarageFinish', 'GarageQual', 'GarageCond', 'PoolQC', 'Fence', 'MiscFeature']\n"
     ]
    }
   ],
   "source": [
    "missing = list(data.isnull().sum()[data.isnull().sum() > 0].index)\n",
    "print(missing)"
   ]
  },
  {
   "cell_type": "code",
   "execution_count": 7,
   "id": "afa62204",
   "metadata": {},
   "outputs": [
    {
     "data": {
      "text/plain": [
       "['Alley', 'PoolQC', 'Fence', 'MiscFeature']"
      ]
     },
     "execution_count": 7,
     "metadata": {},
     "output_type": "execute_result"
    }
   ],
   "source": [
    "mis_cols_toberemoved = data.isnull().sum()[data.isnull().sum() > 0]/data.shape[0]\n",
    "mis_cols_toberemoved = mis_cols_toberemoved > 0.5\n",
    "mis_cols_toberemoved = list(mis_cols_toberemoved[mis_cols_toberemoved].index)\n",
    "mis_cols_toberemoved"
   ]
  },
  {
   "cell_type": "markdown",
   "id": "ed4ff04d",
   "metadata": {},
   "source": [
    "### List of Columns with Categorical data"
   ]
  },
  {
   "cell_type": "code",
   "execution_count": 8,
   "id": "f5108dd7",
   "metadata": {},
   "outputs": [
    {
     "name": "stdout",
     "output_type": "stream",
     "text": [
      "Total Columns: 81\n",
      "Categorical Columns: 43\n",
      "\n",
      "['MSZoning', 'Street', 'Alley', 'LotShape', 'LandContour', 'Utilities', 'LotConfig', 'LandSlope', 'Neighborhood', 'Condition1', 'Condition2', 'BldgType', 'HouseStyle', 'RoofStyle', 'RoofMatl', 'Exterior1st', 'Exterior2nd', 'MasVnrType', 'ExterQual', 'ExterCond', 'Foundation', 'BsmtQual', 'BsmtCond', 'BsmtExposure', 'BsmtFinType1', 'BsmtFinType2', 'Heating', 'HeatingQC', 'CentralAir', 'Electrical', 'KitchenQual', 'Functional', 'FireplaceQu', 'GarageType', 'GarageFinish', 'GarageQual', 'GarageCond', 'PavedDrive', 'PoolQC', 'Fence', 'MiscFeature', 'SaleType', 'SaleCondition']\n"
     ]
    }
   ],
   "source": [
    "cat_cols = [col for col in data.columns if data[col].dtype == 'O' ]\n",
    "print('Total Columns: {}'.format(len(data.columns)))\n",
    "print('Categorical Columns: {}\\n'.format(len(cat_cols)))\n",
    "print(cat_cols)"
   ]
  },
  {
   "cell_type": "markdown",
   "id": "18b3f856",
   "metadata": {},
   "source": [
    "### Check Cardinality of Categorical Columns & Remove columns with High Cardinality"
   ]
  },
  {
   "cell_type": "code",
   "execution_count": 9,
   "id": "509b9114",
   "metadata": {
    "tags": []
   },
   "outputs": [
    {
     "name": "stdout",
     "output_type": "stream",
     "text": [
      "Categorical Columns before Removal: 43\n",
      "Categorical Columns after Removal: 40\n",
      "\n",
      "['MSZoning', 'Street', 'Alley', 'LotShape', 'LandContour', 'Utilities', 'LotConfig', 'LandSlope', 'Condition1', 'Condition2', 'BldgType', 'HouseStyle', 'RoofStyle', 'RoofMatl', 'MasVnrType', 'ExterQual', 'ExterCond', 'Foundation', 'BsmtQual', 'BsmtCond', 'BsmtExposure', 'BsmtFinType1', 'BsmtFinType2', 'Heating', 'HeatingQC', 'CentralAir', 'Electrical', 'KitchenQual', 'Functional', 'FireplaceQu', 'GarageType', 'GarageFinish', 'GarageQual', 'GarageCond', 'PavedDrive', 'PoolQC', 'Fence', 'MiscFeature', 'SaleType', 'SaleCondition']\n"
     ]
    }
   ],
   "source": [
    "print('Categorical Columns before Removal: {}'.format(len(cat_cols)))\n",
    "card_col = [col for col in cat_cols if data[col].nunique()<10]\n",
    "print('Categorical Columns after Removal: {}\\n'.format(len(card_col)))\n",
    "print(card_col)"
   ]
  },
  {
   "cell_type": "markdown",
   "id": "17a44199",
   "metadata": {},
   "source": [
    "### List Numerical Columns"
   ]
  },
  {
   "cell_type": "code",
   "execution_count": 10,
   "id": "128534b8",
   "metadata": {
    "tags": []
   },
   "outputs": [
    {
     "name": "stdout",
     "output_type": "stream",
     "text": [
      "Total Columns: 81\n",
      "Numerical Columns: 37\n",
      "\n",
      "['MSSubClass', 'LotFrontage', 'LotArea', 'OverallQual', 'OverallCond', 'YearBuilt', 'YearRemodAdd', 'MasVnrArea', 'BsmtFinSF1', 'BsmtFinSF2', 'BsmtUnfSF', 'TotalBsmtSF', '1stFlrSF', '2ndFlrSF', 'LowQualFinSF', 'GrLivArea', 'BsmtFullBath', 'BsmtHalfBath', 'FullBath', 'HalfBath', 'BedroomAbvGr', 'KitchenAbvGr', 'TotRmsAbvGrd', 'Fireplaces', 'GarageYrBlt', 'GarageCars', 'GarageArea', 'WoodDeckSF', 'OpenPorchSF', 'EnclosedPorch', '3SsnPorch', 'ScreenPorch', 'PoolArea', 'MiscVal', 'MoSold', 'YrSold', 'SalePrice']\n"
     ]
    }
   ],
   "source": [
    "num_cols = [col for col in data.columns if data[col].dtype in ('int64', 'float64') ]\n",
    "num_cols.remove('Id')\n",
    "print('Total Columns: {}'.format(len(data.columns)))\n",
    "print('Numerical Columns: {}\\n'.format(len(num_cols)))\n",
    "print(num_cols)"
   ]
  },
  {
   "cell_type": "markdown",
   "id": "ac1955ba",
   "metadata": {},
   "source": [
    "### Select Numerical Columns based on Correlation above 0.3"
   ]
  },
  {
   "cell_type": "code",
   "execution_count": 11,
   "id": "e5f594ec",
   "metadata": {},
   "outputs": [
    {
     "name": "stdout",
     "output_type": "stream",
     "text": [
      "Numerical Columns before Removal: 37\n",
      "Numerical Columns after Removal: 19\n",
      "\n",
      "['LotFrontage', 'OverallQual', 'YearBuilt', 'YearRemodAdd', 'MasVnrArea', 'BsmtFinSF1', 'TotalBsmtSF', '1stFlrSF', '2ndFlrSF', 'GrLivArea', 'FullBath', 'TotRmsAbvGrd', 'Fireplaces', 'GarageYrBlt', 'GarageCars', 'GarageArea', 'WoodDeckSF', 'OpenPorchSF', 'SalePrice']\n"
     ]
    }
   ],
   "source": [
    "print('Numerical Columns before Removal: {}'.format(len(num_cols)))\n",
    "num_cols = list(data[num_cols].corr()['SalePrice'][abs(data[num_cols].corr()['SalePrice'])>0.3].index)\n",
    "print('Numerical Columns after Removal: {}\\n'.format(len(num_cols)))\n",
    "print(num_cols)"
   ]
  },
  {
   "cell_type": "markdown",
   "id": "6c363866",
   "metadata": {},
   "source": [
    "### Select Required Columns"
   ]
  },
  {
   "cell_type": "code",
   "execution_count": 12,
   "id": "ba26be74",
   "metadata": {
    "tags": []
   },
   "outputs": [
    {
     "data": {
      "text/plain": [
       "55"
      ]
     },
     "execution_count": 12,
     "metadata": {},
     "output_type": "execute_result"
    }
   ],
   "source": [
    "card_col = [col for col in card_col if col not in mis_cols_toberemoved]\n",
    "my_cols = card_col + num_cols\n",
    "len(my_cols)"
   ]
  },
  {
   "cell_type": "markdown",
   "id": "95aca39e-a0a3-4ffe-9e63-a2834d1e25b7",
   "metadata": {},
   "source": [
    "### Impute Numerical Columns"
   ]
  },
  {
   "cell_type": "code",
   "execution_count": 13,
   "id": "9fd1cb16-5a46-46ec-b74e-896c22a3dcb7",
   "metadata": {},
   "outputs": [
    {
     "name": "stdout",
     "output_type": "stream",
     "text": [
      "Type of Imputed Numerical Columns: <class 'pandas.core.frame.DataFrame'>\n",
      "Type of Imputed Numerical Columns: (1460, 19)\n"
     ]
    }
   ],
   "source": [
    "impt = SimpleImputer(strategy = 'median')\n",
    "X_imp = pd.DataFrame(impt.fit_transform(data[num_cols]))\n",
    "X_imp.columns = data[num_cols].columns\n",
    "print('Type of Imputed Numerical Columns: {}'.format(type(X_imp)))\n",
    "print('Type of Imputed Numerical Columns: {}'.format(X_imp.shape))"
   ]
  },
  {
   "cell_type": "markdown",
   "id": "b98f116d-8ff2-4a6c-a53c-543a81500519",
   "metadata": {},
   "source": [
    "### Impute Categorical Columns"
   ]
  },
  {
   "cell_type": "code",
   "execution_count": 14,
   "id": "61e2203b-3435-4dd6-9db1-3f6a715d4dbe",
   "metadata": {},
   "outputs": [
    {
     "name": "stdout",
     "output_type": "stream",
     "text": [
      "Type of Imputed Numerical Columns: <class 'pandas.core.frame.DataFrame'>\n",
      "Type of Imputed Numerical Columns: (1460, 36)\n"
     ]
    }
   ],
   "source": [
    "imptC = SimpleImputer(strategy = 'most_frequent')\n",
    "X_impC = pd.DataFrame(imptC.fit_transform(data[card_col]))\n",
    "X_impC.columns = data[card_col].columns\n",
    "print('Type of Imputed Numerical Columns: {}'.format(type(X_impC)))\n",
    "print('Type of Imputed Numerical Columns: {}'.format(X_impC.shape))"
   ]
  },
  {
   "cell_type": "markdown",
   "id": "62957596",
   "metadata": {},
   "source": [
    "### Join Numerical/Categoical Imputed Data and Split into Features and Output"
   ]
  },
  {
   "cell_type": "code",
   "execution_count": 15,
   "id": "5348fd4b",
   "metadata": {},
   "outputs": [
    {
     "name": "stdout",
     "output_type": "stream",
     "text": [
      "Shape of Features Data (1460, 54)\n",
      "Shape of Output Columns (1460,)\n"
     ]
    }
   ],
   "source": [
    "sel_data = pd.concat([X_imp, X_impC], axis='columns')\n",
    "y = sel_data['SalePrice']\n",
    "X = sel_data.drop(['SalePrice'], axis=1)\n",
    "print('Shape of Features Data {}'.format(X.shape))\n",
    "print('Shape of Output Columns {}'.format(y.shape))"
   ]
  },
  {
   "cell_type": "markdown",
   "id": "3b83cc54-92e5-4764-9aae-4370f5b0d27d",
   "metadata": {},
   "source": [
    "### OneHotEncode Categorical Columns"
   ]
  },
  {
   "cell_type": "code",
   "execution_count": 16,
   "id": "d19ed2e2-3dca-4b83-8873-8a612f395025",
   "metadata": {},
   "outputs": [
    {
     "name": "stdout",
     "output_type": "stream",
     "text": [
      "Shape of Features Data after OneHotEncoding (1460, 201)\n"
     ]
    }
   ],
   "source": [
    "X = pd.get_dummies(X)\n",
    "print('Shape of Features Data after OneHotEncoding {}'.format(X.shape))"
   ]
  },
  {
   "cell_type": "markdown",
   "id": "a7a7b022",
   "metadata": {},
   "source": [
    "### Train-Validation Split"
   ]
  },
  {
   "cell_type": "code",
   "execution_count": 17,
   "id": "26cb763b",
   "metadata": {
    "tags": []
   },
   "outputs": [
    {
     "name": "stdout",
     "output_type": "stream",
     "text": [
      "Shape of Train Features Data (1168, 201)\n",
      "Shape of Train Output Columns (1168,)\n",
      "Shape of Validation Features Data (292, 201)\n",
      "Shape of Validation Output Columns (292,)\n"
     ]
    }
   ],
   "source": [
    "X_train, X_valid, y_train, y_valid = train_test_split(X, y,train_size=0.8, test_size=0.2,random_state=0)\n",
    "print('Shape of Train Features Data {}'.format(X_train.shape))\n",
    "print('Shape of Train Output Columns {}'.format(y_train.shape))\n",
    "print('Shape of Validation Features Data {}'.format(X_valid.shape))\n",
    "print('Shape of Validation Output Columns {}'.format(y_valid.shape))"
   ]
  },
  {
   "cell_type": "markdown",
   "id": "13d7dfbb",
   "metadata": {},
   "source": [
    "### Function for Error Calculations"
   ]
  },
  {
   "cell_type": "code",
   "execution_count": 18,
   "id": "7663a242",
   "metadata": {},
   "outputs": [],
   "source": [
    "def errors(y_valid, X_valid):\n",
    "    print('Mean Absulute Error (MAE):', mean_absolute_error(y_valid, model.predict(X_valid)))\n",
    "    print('Mean Absulute Percentage Error (MAPE):{:.2%}' .format(mean_absolute_percentage_error(y_valid, model.predict(X_valid))))\n",
    "    print('Mean Squared Error (MSE):', mean_squared_error(y_valid, model.predict(X_valid)))\n",
    "    print('Root Mean Squared Error (RMSE):', mean_squared_error(y_valid, model.predict(X_valid), squared=False))"
   ]
  },
  {
   "cell_type": "markdown",
   "id": "0873f3dd",
   "metadata": {},
   "source": [
    "### <font color='green'> 1. Model (Decesion Tree)"
   ]
  },
  {
   "cell_type": "code",
   "execution_count": 19,
   "id": "ee3cb459",
   "metadata": {},
   "outputs": [
    {
     "name": "stdout",
     "output_type": "stream",
     "text": [
      "Mean Absulute Error (MAE): 28296.777397260274\n",
      "Mean Absulute Percentage Error (MAPE):16.04%\n",
      "Mean Squared Error (MSE): 2118650375.7294521\n",
      "Root Mean Squared Error (RMSE): 46028.79941655498\n"
     ]
    }
   ],
   "source": [
    "model = DecisionTreeRegressor(random_state=0)\n",
    "model.fit(X_train, y_train)\n",
    "errors(y_valid = y_valid, X_valid = X_valid)"
   ]
  },
  {
   "cell_type": "markdown",
   "id": "c90bc9bc-0791-4de1-9c4c-ff2c98b66aa0",
   "metadata": {},
   "source": [
    "### <font color='green'> 2. Model (Random Forest)"
   ]
  },
  {
   "cell_type": "code",
   "execution_count": 20,
   "id": "a14f06b1",
   "metadata": {},
   "outputs": [
    {
     "name": "stdout",
     "output_type": "stream",
     "text": [
      "Mean Absulute Error (MAE): 17503.999410958902\n",
      "Mean Absulute Percentage Error (MAPE):9.83%\n",
      "Mean Squared Error (MSE): 1073582467.4738611\n",
      "Root Mean Squared Error (RMSE): 32765.56832215582\n"
     ]
    }
   ],
   "source": [
    "model = RandomForestRegressor(n_estimators = 500, random_state=0)\n",
    "model.fit(X_train, y_train)\n",
    "errors(y_valid = y_valid, X_valid = X_valid)"
   ]
  },
  {
   "cell_type": "markdown",
   "id": "345abf5d-130b-4e2c-904d-23330920c1fb",
   "metadata": {},
   "source": [
    "### <font color='green'> 3. Model (XG Boost)"
   ]
  },
  {
   "cell_type": "code",
   "execution_count": 21,
   "id": "6df3e18c-c0be-42cf-98de-a43a87368826",
   "metadata": {},
   "outputs": [
    {
     "name": "stdout",
     "output_type": "stream",
     "text": [
      "Mean Absulute Error (MAE): 17608.678483518837\n",
      "Mean Absulute Percentage Error (MAPE):9.62%\n",
      "Mean Squared Error (MSE): 1093187787.4436297\n",
      "Root Mean Squared Error (RMSE): 33063.390440843024\n"
     ]
    }
   ],
   "source": [
    "model = XGBRegressor(n_estimators = 800, learning_rate = 0.04, n_jobs = -1,  random_state=0)\n",
    "model.fit(X_train, y_train)\n",
    "errors(y_valid = y_valid, X_valid = X_valid)"
   ]
  },
  {
   "cell_type": "markdown",
   "id": "a6707d50-9998-4aa2-8b42-7d31bcf28979",
   "metadata": {},
   "source": [
    "### <font color='green'> 4. Model (LightGBM)"
   ]
  },
  {
   "cell_type": "code",
   "execution_count": 22,
   "id": "f5a6caad-8db6-44cd-9263-332f2a1888d2",
   "metadata": {},
   "outputs": [
    {
     "name": "stdout",
     "output_type": "stream",
     "text": [
      "Mean Absulute Error (MAE): 17424.15738651568\n",
      "Mean Absulute Percentage Error (MAPE):9.53%\n",
      "Mean Squared Error (MSE): 819353946.5073445\n",
      "Root Mean Squared Error (RMSE): 28624.35932046942\n"
     ]
    }
   ],
   "source": [
    "lgbm_parameters = {\n",
    "    'metric': 'rmse', \n",
    "    'n_jobs': -1,\n",
    "    'n_estimators': 50000,\n",
    "    'reg_alpha': 10.924491968127692,\n",
    "    'reg_lambda': 17.396730654687218,\n",
    "    'colsample_bytree': 0.21497646795452627,\n",
    "    'subsample': 0.7582562557431147,\n",
    "    'learning_rate': 0.009985133666265425,\n",
    "    'max_depth': 18,\n",
    "    'num_leaves': 63,\n",
    "    'min_child_samples': 27,\n",
    "    'max_bin': 523,\n",
    "    'cat_l2': 0.025083670064082797\n",
    "}\n",
    "model = LGBMRegressor(**lgbm_parameters,  random_state=0)\n",
    "model.fit(X_train, y_train)\n",
    "errors(y_valid = y_valid, X_valid = X_valid)"
   ]
  },
  {
   "cell_type": "markdown",
   "id": "c870b263-4e92-471c-b52f-47ab0e28b830",
   "metadata": {},
   "source": [
    "### <font color='green'> 5. Model (Use Cross Validation on LightGBM)"
   ]
  },
  {
   "cell_type": "code",
   "execution_count": 23,
   "id": "167edcc2-4f70-4fe9-9dc6-9235932295f3",
   "metadata": {},
   "outputs": [
    {
     "data": {
      "text/plain": [
       "dict_keys(['explained_variance', 'r2', 'max_error', 'neg_median_absolute_error', 'neg_mean_absolute_error', 'neg_mean_absolute_percentage_error', 'neg_mean_squared_error', 'neg_mean_squared_log_error', 'neg_root_mean_squared_error', 'neg_mean_poisson_deviance', 'neg_mean_gamma_deviance', 'accuracy', 'top_k_accuracy', 'roc_auc', 'roc_auc_ovr', 'roc_auc_ovo', 'roc_auc_ovr_weighted', 'roc_auc_ovo_weighted', 'balanced_accuracy', 'average_precision', 'neg_log_loss', 'neg_brier_score', 'adjusted_rand_score', 'rand_score', 'homogeneity_score', 'completeness_score', 'v_measure_score', 'mutual_info_score', 'adjusted_mutual_info_score', 'normalized_mutual_info_score', 'fowlkes_mallows_score', 'precision', 'precision_macro', 'precision_micro', 'precision_samples', 'precision_weighted', 'recall', 'recall_macro', 'recall_micro', 'recall_samples', 'recall_weighted', 'f1', 'f1_macro', 'f1_micro', 'f1_samples', 'f1_weighted', 'jaccard', 'jaccard_macro', 'jaccard_micro', 'jaccard_samples', 'jaccard_weighted'])"
      ]
     },
     "execution_count": 23,
     "metadata": {},
     "output_type": "execute_result"
    }
   ],
   "source": [
    "SCORERS.keys()"
   ]
  },
  {
   "cell_type": "code",
   "execution_count": 24,
   "id": "55b8061c-7fb8-4eb9-b3bb-22cea8d9d6aa",
   "metadata": {},
   "outputs": [
    {
     "name": "stdout",
     "output_type": "stream",
     "text": [
      "Average MAE score: 17584.64269246599\n",
      "Average MAPE score: 10.25%\n",
      "Average MSE score: 767597782.5945097\n",
      "Average RMSE score: 27444.233648421585\n"
     ]
    }
   ],
   "source": [
    "cv_scores_mae = -1 * cross_val_score(model, X, y, cv=5, scoring='neg_mean_absolute_error')\n",
    "print(\"Average MAE score:\", cv_scores_mae.mean())\n",
    "\n",
    "cv_scores_mape = -1 * cross_val_score(model, X, y, cv=5, scoring='neg_mean_absolute_percentage_error')\n",
    "print(\"Average MAPE score: {:.2%}\" .format(cv_scores_mape.mean()))\n",
    "\n",
    "cv_scores_mse = -1 * cross_val_score(model, X, y, cv=5, scoring='neg_mean_squared_error')\n",
    "print(\"Average MSE score:\", cv_scores_mse.mean())\n",
    "\n",
    "cv_scores_rmse = -1 * cross_val_score(model, X, y, cv=5, scoring='neg_root_mean_squared_error')\n",
    "print(\"Average RMSE score:\", cv_scores_rmse.mean())"
   ]
  },
  {
   "cell_type": "markdown",
   "id": "6bbe1cc9-a19e-4783-898f-176c638edb05",
   "metadata": {},
   "source": [
    "### <font color='green'> 6. Model (Hyperparameter Random Search with XGBoost)"
   ]
  },
  {
   "cell_type": "code",
   "execution_count": 20,
   "id": "2290c965-b48d-491a-95fe-2b51a9edc938",
   "metadata": {},
   "outputs": [],
   "source": [
    "from sklearn.model_selection import RandomizedSearchCV, GridSearchCV\n",
    "from sklearn.model_selection import StratifiedKFold, KFold\n",
    "from datetime import datetime"
   ]
  },
  {
   "cell_type": "code",
   "execution_count": 21,
   "id": "409e3880-1b49-44fe-a323-dd6bccf51423",
   "metadata": {},
   "outputs": [],
   "source": [
    "def timer(start_time=None):\n",
    "    if not start_time:\n",
    "        start_time = datetime.now()\n",
    "        return start_time\n",
    "    elif start_time:\n",
    "        thour, temp_sec = divmod((datetime.now() - start_time).total_seconds(), 3600)\n",
    "        tmin, tsec = divmod(temp_sec, 60)\n",
    "        print('\\n Time taken: %i hours %i minutes and %s seconds.' % (thour, tmin, round(tsec, 2)))"
   ]
  },
  {
   "cell_type": "markdown",
   "id": "cd335c88-774c-48bb-b2b4-052e96efdbcd",
   "metadata": {},
   "source": [
    "A total number of combinations for the set of parameters above is a product of options for each parameter (3 x 5 x 3 x 3 x 3 = 405). It also needs to be multiplied by 5 to calculate a total number of data-fitting runs as we will be doing 5-fold cross-validation. That gets to be a large number in a hurry if you are using many parameters and lots of options, which is why **brute-force grid search takes a long time**."
   ]
  },
  {
   "cell_type": "markdown",
   "id": "7f339c38-403f-48d3-8749-702381a0a305",
   "metadata": {
    "tags": []
   },
   "source": [
    "Next we set up our stratified folds and grid search parameters.\n",
    "The param_comb parameter declares how many different combinations should be picked randomly out of our total (405, see above). \n",
    "Definitely use a bigger number for param_comb."
   ]
  },
  {
   "cell_type": "code",
   "execution_count": 32,
   "id": "30cbabcc-43cb-405f-b5b6-77111e6048d0",
   "metadata": {},
   "outputs": [
    {
     "name": "stdout",
     "output_type": "stream",
     "text": [
      "Fitting 5 folds for each of 10 candidates, totalling 50 fits\n",
      "\n",
      " Time taken: 0 hours 1 minutes and 59.35 seconds.\n"
     ]
    }
   ],
   "source": [
    "# A parameter grid for XGBoost\n",
    "params = {\n",
    "        'min_child_weight': [1, 5, 10],\n",
    "        'gamma': [0.5, 1, 1.5, 2, 5],\n",
    "        'subsample': [0.6, 0.8, 1.0],\n",
    "        'colsample_bytree': [0.6, 0.8, 1.0],\n",
    "        'max_depth': [3, 4, 5],\n",
    "        'learning_rate': [0.04, 0.05, 0.06, 0.07],\n",
    "        'n_estimators': [500, 600, 700, 800, 900, 1000, 1100, 1200]\n",
    "        }\n",
    "xgb = XGBRegressor(objective='reg:squarederror',random_state=0, n_jobs = -1)\n",
    "folds = 5\n",
    "param_comb = 10\n",
    "kf = KFold(n_splits=folds, shuffle = True, random_state = 0)\n",
    "random_search = RandomizedSearchCV(xgb, param_distributions=params, n_iter=param_comb, scoring='neg_mean_absolute_percentage_error', n_jobs=-1, cv=kf.split(X,y), verbose=3, random_state=0 )\n",
    "\n",
    "start_time = timer(None)\n",
    "random_search.fit(X, y)\n",
    "timer(start_time)"
   ]
  },
  {
   "cell_type": "code",
   "execution_count": 34,
   "id": "829ba260-a7e7-4458-88e9-0ccd0e8d4743",
   "metadata": {},
   "outputs": [
    {
     "name": "stdout",
     "output_type": "stream",
     "text": [
      "\n",
      " Best estimator:\n",
      "XGBRegressor(base_score=0.5, booster=None, colsample_bylevel=1,\n",
      "             colsample_bynode=1, colsample_bytree=0.6, gamma=2, gpu_id=-1,\n",
      "             importance_type='gain', interaction_constraints=None,\n",
      "             learning_rate=0.04, max_delta_step=0, max_depth=4,\n",
      "             min_child_weight=10, missing=nan, monotone_constraints=None,\n",
      "             n_estimators=1100, n_jobs=-1, num_parallel_tree=1, random_state=0,\n",
      "             reg_alpha=0, reg_lambda=1, scale_pos_weight=1, subsample=1.0,\n",
      "             tree_method=None, validate_parameters=False, verbosity=None)\n",
      "\n",
      " Best hyperparameters:\n",
      "{'subsample': 1.0, 'n_estimators': 1100, 'min_child_weight': 10, 'max_depth': 4, 'learning_rate': 0.04, 'gamma': 2, 'colsample_bytree': 0.6}\n"
     ]
    }
   ],
   "source": [
    "print('\\n Best estimator:')\n",
    "print(random_search.best_estimator_)\n",
    "print('\\n Best hyperparameters:')\n",
    "print(random_search.best_params_)\n",
    "\n",
    "# print('\\n All results:')\n",
    "# print(random_search.cv_results_)\n",
    "# print('\\n Best normalized gini score for %d-fold search with %d parameter combinations:' % (folds, param_comb))\n",
    "# print(random_search.best_score_ * 2 - 1)\n",
    "# results = pd.DataFrame(random_search.cv_results_)\n",
    "# results.to_csv('xgb-random-grid-search-results-01.csv', index=False)"
   ]
  },
  {
   "cell_type": "code",
   "execution_count": 35,
   "id": "e13a3a89-3208-4197-8627-c43d22b98924",
   "metadata": {},
   "outputs": [
    {
     "name": "stdout",
     "output_type": "stream",
     "text": [
      "Mean Absulute Error (MAE): 17424.15738651568\n",
      "Mean Absulute Percentage Error (MAPE):9.53%\n",
      "Mean Squared Error (MSE): 819353946.5073445\n",
      "Root Mean Squared Error (RMSE): 28624.35932046942\n"
     ]
    }
   ],
   "source": [
    "XGBRegressor(base_score=0.5, booster=None, colsample_bylevel=1,\n",
    "             colsample_bynode=1, colsample_bytree=0.6, gamma=2, gpu_id=-1,\n",
    "             importance_type='gain', interaction_constraints=None,\n",
    "             learning_rate=0.04, max_delta_step=0, max_depth=4,\n",
    "             min_child_weight=10, missing=np.nan, monotone_constraints=None,\n",
    "             n_estimators=1100, n_jobs=-1, num_parallel_tree=1, random_state=0,\n",
    "             reg_alpha=0, reg_lambda=1, scale_pos_weight=1, subsample=1.0,\n",
    "             tree_method=None, validate_parameters=False, verbosity=None)\n",
    "model.fit(X_train, y_train)\n",
    "errors(y_valid = y_valid, X_valid = X_valid)"
   ]
  },
  {
   "cell_type": "markdown",
   "id": "0d32f930-1af9-4bf7-ac6e-1c1ea4ddd665",
   "metadata": {},
   "source": [
    "### <font color='green'> 7. Model (Hyperparameter Grid Search with XGBoost)"
   ]
  },
  {
   "cell_type": "code",
   "execution_count": 22,
   "id": "69aa8a1e-3629-48af-8a60-7c189ce03a8c",
   "metadata": {},
   "outputs": [
    {
     "name": "stdout",
     "output_type": "stream",
     "text": [
      "Fitting 3 folds for each of 12960 candidates, totalling 38880 fits\n",
      "\n",
      " Time taken: 31 hours 18 minutes and 32.36 seconds.\n"
     ]
    }
   ],
   "source": [
    "# A parameter grid for XGBoost\n",
    "params = {\n",
    "        'min_child_weight': [1, 5, 10],\n",
    "        'gamma': [0.5, 1, 1.5, 2, 5],\n",
    "        'subsample': [0.6, 0.8, 1.0],\n",
    "        'colsample_bytree': [0.6, 0.8, 1.0],\n",
    "        'max_depth': [3, 4, 5],\n",
    "        'learning_rate': [0.04, 0.05, 0.06, 0.07],\n",
    "        'n_estimators': [500, 600, 700, 800, 900, 1000, 1100, 1200]\n",
    "        }\n",
    "xgb = XGBRegressor(objective='reg:squarederror',random_state=0, n_jobs = -1, tree_method='gpu_hist', predictor='gpu_predictor', gpu_id=0)\n",
    "folds = 3\n",
    "param_comb = 100\n",
    "kf = KFold(n_splits=folds, shuffle = True, random_state = 0)\n",
    "grid_search = GridSearchCV(estimator=xgb, param_grid=params, scoring='neg_mean_absolute_percentage_error', n_jobs=-1, cv=kf.split(X,y), verbose=3)\n",
    "\n",
    "start_time = timer(None)\n",
    "grid_search.fit(X, y)\n",
    "timer(start_time)"
   ]
  },
  {
   "cell_type": "code",
   "execution_count": 25,
   "id": "38416ea0-4834-4740-b242-c46d3b9ce107",
   "metadata": {},
   "outputs": [
    {
     "name": "stdout",
     "output_type": "stream",
     "text": [
      "\n",
      " Best estimator:\n",
      "XGBRegressor(base_score=0.5, booster='gbtree', colsample_bylevel=1,\n",
      "             colsample_bynode=1, colsample_bytree=0.6, gamma=0.5, gpu_id=0,\n",
      "             importance_type='gain', interaction_constraints='',\n",
      "             learning_rate=0.05, max_delta_step=0, max_depth=4,\n",
      "             min_child_weight=1, missing=nan, monotone_constraints='()',\n",
      "             n_estimators=500, n_jobs=-1, num_parallel_tree=1,\n",
      "             predictor='gpu_predictor', random_state=0, reg_alpha=0,\n",
      "             reg_lambda=1, scale_pos_weight=1, subsample=0.8,\n",
      "             tree_method='gpu_hist', validate_parameters=1, verbosity=None)\n",
      "\n",
      " Best hyperparameters:\n",
      "{'colsample_bytree': 0.6, 'gamma': 0.5, 'learning_rate': 0.05, 'max_depth': 4, 'min_child_weight': 1, 'n_estimators': 500, 'subsample': 0.8}\n"
     ]
    }
   ],
   "source": [
    "print('\\n Best estimator:')\n",
    "print(grid_search.best_estimator_)\n",
    "print('\\n Best hyperparameters:')\n",
    "print(grid_search.best_params_)"
   ]
  },
  {
   "cell_type": "code",
   "execution_count": 26,
   "id": "3f1961a4-3c2d-44c8-94b2-7726b667ffba",
   "metadata": {},
   "outputs": [
    {
     "name": "stdout",
     "output_type": "stream",
     "text": [
      "Mean Absulute Error (MAE): 16006.847589362158\n",
      "Mean Absulute Percentage Error (MAPE):8.95%\n",
      "Mean Squared Error (MSE): 744670318.0019029\n",
      "Root Mean Squared Error (RMSE): 27288.64815270084\n"
     ]
    }
   ],
   "source": [
    "model = grid_search.best_estimator_\n",
    "model.fit(X_train, y_train)\n",
    "errors(y_valid = y_valid, X_valid = X_valid)"
   ]
  },
  {
   "cell_type": "code",
   "execution_count": 27,
   "id": "a49f1e00",
   "metadata": {},
   "outputs": [
    {
     "name": "stdout",
     "output_type": "stream",
     "text": [
      "Mean Absulute Error (MAE): 15916.798333154966\n",
      "Mean Absulute Percentage Error (MAPE):8.82%\n",
      "Mean Squared Error (MSE): 818551200.8758787\n",
      "Root Mean Squared Error (RMSE): 28610.33381273065\n"
     ]
    }
   ],
   "source": [
    "params = {'colsample_bytree': 0.6, \n",
    "          'gamma': 0.5, \n",
    "          'learning_rate': 0.05, \n",
    "          'max_depth': 4, \n",
    "          'min_child_weight': 1, \n",
    "          'n_estimators': 500, \n",
    "          'subsample': 0.8}\n",
    "model = XGBRegressor(random_state=0, n_jobs = -1, **params)\n",
    "model.fit(X_train, y_train)\n",
    "errors(y_valid = y_valid, X_valid = X_valid)"
   ]
  },
  {
   "cell_type": "markdown",
   "id": "d05fdf80",
   "metadata": {},
   "source": [
    "### <font color='green'> 8. Model (Hyperparameter Random Search with LightGBM)"
   ]
  },
  {
   "cell_type": "code",
   "execution_count": 62,
   "id": "eea75f93-aab1-4043-821b-7188782842a7",
   "metadata": {},
   "outputs": [
    {
     "name": "stdout",
     "output_type": "stream",
     "text": [
      "Fitting 5 folds for each of 100 candidates, totalling 500 fits\n",
      "[LightGBM] [Warning] min_data_in_leaf is set with min_child_samples=20, will be overridden by min_data=300. Current value: min_data_in_leaf=300\n",
      "[LightGBM] [Warning] feature_fraction is set=0.8, colsample_bytree=1.0 will be ignored. Current value: feature_fraction=0.8\n",
      "[LightGBM] [Warning] lambda_l1 is set=0, reg_alpha=0.0 will be ignored. Current value: lambda_l1=0\n",
      "[LightGBM] [Warning] bagging_fraction is set=0.9, subsample=1.0 will be ignored. Current value: bagging_fraction=0.9\n",
      "[LightGBM] [Warning] bagging_freq is set=23, subsample_freq=0 will be ignored. Current value: bagging_freq=23\n",
      "\n",
      " Time taken: 0 hours 0 minutes and 56.72 seconds.\n"
     ]
    }
   ],
   "source": [
    "from scipy.stats import randint as sp_randint\n",
    "from scipy.stats import uniform as sp_uniform\n",
    "# param_test ={'num_leaves': sp_randint(6, 50), \n",
    "#              'min_child_samples': sp_randint(100, 500), \n",
    "#              'min_child_weight': [1e-5, 1e-3, 1e-2, 1e-1, 1, 1e1, 1e2, 1e3, 1e4],\n",
    "#              'subsample': sp_uniform(loc=0.2, scale=0.8), \n",
    "#              'colsample_bytree': sp_uniform(loc=0.4, scale=0.6),\n",
    "#              'reg_alpha': [0, 1e-1, 1, 2, 5, 7, 10, 50, 100],\n",
    "#              'reg_lambda': [0, 1e-1, 1, 5, 10, 20, 50, 100]}\n",
    "param_dist = {\n",
    "            'num_leaves': [27, 31, 61, 81, 127, 197, 231, 275, 302],\n",
    "            'bagging_fraction': [0.5, 0.7, 0.8, 0.9],\n",
    "            'learning_rate': [0.01, 0.05, 0.06, 0.07, 0.08, 0.09, 0.1, 0.3, 0.5],\n",
    "            'min_data': [300, 400, 450, 500, 550, 650],\n",
    "            'max_bin': [3, 5, 10, 12, 18, 20, 22],\n",
    "            'boosting_type' : ['gbdt', 'dart'],\n",
    "            'bagging_freq': [3, 9, 11, 15, 17, 23, 31],\n",
    "            'max_depth': [3, 4, 5, 6, 7, 9, 11],       \n",
    "            'feature_fraction': [0.5, 0.7, 0.8, 0.9],\n",
    "            'lambda_l1': [0, 10, 20, 30, 40],\n",
    "               }\n",
    "\n",
    "# lgbm_parameters = {\n",
    "# #    'metric': 'mean_absolute_percentage_error', \n",
    "# #    'n_jobs': -1,\n",
    "#     'n_estimators': [1000,10000, 20000, 30000, 40000, 50000, 60000, 70000],\n",
    "#     'reg_alpha': 10.924491968127692,\n",
    "#     'reg_lambda': 17.396730654687218,\n",
    "#     'colsample_bytree': 0.21497646795452627,\n",
    "#     'subsample': 0.7582562557431147,\n",
    "#     'learning_rate': 0.009985133666265425,\n",
    "#     'max_depth': 18,\n",
    "#     'num_leaves': 63,\n",
    "#     'min_child_samples': 27,\n",
    "#     'max_bin': 523,\n",
    "#     'cat_l2': 0.025083670064082797\n",
    "# }\n",
    "\n",
    "\n",
    "lgbm = LGBMRegressor(max_depth=-1, metric='root_mean_squared_error', n_estimators=5000, random_state=0, n_jobs = -1)\n",
    "folds = 5\n",
    "param_comb = 100\n",
    "kf = KFold(n_splits=folds, shuffle = True, random_state = 0)\n",
    "random_search = RandomizedSearchCV(estimator = lgbm, param_distributions = param_dist, n_iter=param_comb, \n",
    "                                   scoring=''neg_root_mean_squared_error', n_jobs=-1, cv=kf.split(X,y), \n",
    "                                   verbose=3, random_state=0 )\n",
    "\n",
    "start_time = timer(None)\n",
    "random_search.fit(X, y)\n",
    "timer(start_time)"
   ]
  },
  {
   "cell_type": "code",
   "execution_count": 64,
   "id": "86c361ca",
   "metadata": {},
   "outputs": [
    {
     "name": "stdout",
     "output_type": "stream",
     "text": [
      "\n",
      " Best estimator:\n",
      "LGBMRegressor(bagging_fraction=0.9, bagging_freq=23, boosting_type='dart',\n",
      "              feature_fraction=0.8, lambda_l1=0, learning_rate=0.05, max_bin=22,\n",
      "              max_depth=7, metric='mean_absolute_percentage_error',\n",
      "              min_data=300, n_estimators=5000, num_leaves=127, random_state=0)\n",
      "\n",
      " Best hyperparameters:\n",
      "{'num_leaves': 127, 'min_data': 300, 'max_depth': 7, 'max_bin': 22, 'learning_rate': 0.05, 'lambda_l1': 0, 'feature_fraction': 0.8, 'boosting_type': 'dart', 'bagging_freq': 23, 'bagging_fraction': 0.9}\n"
     ]
    }
   ],
   "source": [
    "print('\\n Best estimator:')\n",
    "print(random_search.best_estimator_)\n",
    "print('\\n Best hyperparameters:')\n",
    "print(random_search.best_params_)"
   ]
  },
  {
   "cell_type": "code",
   "execution_count": 65,
   "id": "2f5dcdec",
   "metadata": {},
   "outputs": [
    {
     "name": "stdout",
     "output_type": "stream",
     "text": [
      "Mean Absulute Error (MAE): 24028.110263325598\n",
      "Mean Absulute Percentage Error (MAPE):13.23%\n",
      "Mean Squared Error (MSE): 1713255003.5894022\n",
      "Root Mean Squared Error (RMSE): 41391.484674862804\n"
     ]
    }
   ],
   "source": [
    "model = LGBMRegressor(bagging_fraction=0.9, bagging_freq=23, boosting_type='dart',\n",
    "              feature_fraction=0.8, lambda_l1=0, learning_rate=0.05, max_bin=22,\n",
    "              max_depth=7, metric='mean_absolute_percentage_error',\n",
    "              min_data=300, n_estimators=5000, num_leaves=127, random_state=0)\n",
    "model.fit(X_train, y_train)\n",
    "errors(y_valid = y_valid, X_valid = X_valid)"
   ]
  },
  {
   "cell_type": "code",
   "execution_count": null,
   "id": "e31658d0-2e48-4ec7-b7ba-a6a4dab94b1b",
   "metadata": {},
   "outputs": [],
   "source": []
  },
  {
   "cell_type": "code",
   "execution_count": null,
   "id": "42857802-c2de-4d74-9aa9-42c55303e247",
   "metadata": {},
   "outputs": [],
   "source": []
  },
  {
   "cell_type": "code",
   "execution_count": null,
   "id": "a0b0fbd8-8d9a-44fc-a9a4-c3858894141a",
   "metadata": {},
   "outputs": [],
   "source": []
  },
  {
   "cell_type": "code",
   "execution_count": null,
   "id": "88ae5b9f-1dcc-4858-a8f7-e357630f0a43",
   "metadata": {},
   "outputs": [],
   "source": []
  },
  {
   "cell_type": "code",
   "execution_count": null,
   "id": "ec33470d-9df3-4889-9fb2-ee4b99af3f2e",
   "metadata": {},
   "outputs": [],
   "source": []
  },
  {
   "cell_type": "code",
   "execution_count": null,
   "id": "db61beb5-cc4f-4072-b40a-e61fd62429b0",
   "metadata": {},
   "outputs": [],
   "source": [
    "import warnings\n",
    "warnings.filterwarnings('ignore')"
   ]
  },
  {
   "cell_type": "code",
   "execution_count": 77,
   "id": "f0fcdcbe-a1e0-4a3f-87a3-be37dd0fd29e",
   "metadata": {},
   "outputs": [],
   "source": [
    "from bayes_opt import BayesianOptimization"
   ]
  }
 ],
 "metadata": {
  "kernelspec": {
   "display_name": "Python 3",
   "language": "python",
   "name": "python3"
  },
  "language_info": {
   "codemirror_mode": {
    "name": "ipython",
    "version": 3
   },
   "file_extension": ".py",
   "mimetype": "text/x-python",
   "name": "python",
   "nbconvert_exporter": "python",
   "pygments_lexer": "ipython3",
   "version": "3.6.13"
  }
 },
 "nbformat": 4,
 "nbformat_minor": 5
}
